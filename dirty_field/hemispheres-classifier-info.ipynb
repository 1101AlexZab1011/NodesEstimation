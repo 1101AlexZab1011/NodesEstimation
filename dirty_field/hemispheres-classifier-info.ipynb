{
 "cells": [
  {
   "cell_type": "code",
   "execution_count": 118,
   "outputs": [],
   "source": [
    "import itertools\n",
    "import operator\n",
    "import re\n",
    "from abc import *\n",
    "from copy import deepcopy\n",
    "from operator import itemgetter\n",
    "from typing import *\n",
    "import numpy as np\n",
    "import scipy as sp\n",
    "import networkx as nx\n",
    "import mne\n",
    "import time\n",
    "from sklearn import svm\n",
    "from sklearn.ensemble import RandomForestClassifier, GradientBoostingClassifier, AdaBoostClassifier\n",
    "from sklearn.neighbors._dist_metrics import DistanceMetric\n",
    "from sklearn.utils import shuffle\n",
    "from typing import List, Tuple\n",
    "from sklearn.model_selection import train_test_split\n",
    "from nodestimation.learning.estimation import collect_statistic, \\\n",
    "    compute_importance, collect_cross_statistic, make_selection_map, \\\n",
    "    select, separate_datasets, selected_statistic, choose_best, selected_data, make_feature_selection\n",
    "from nodestimation.learning.informativeness import CrossInformativeness, Informativeness, SubjectsInformativeness, \\\n",
    "    NodesInformativeness\n",
    "from nodestimation.learning.networking import sparse_graph, graph_to_hemispheres, hemispheres_division_modularity, \\\n",
    "    metric_for_hemispheres\n",
    "from nodestimation.processing.features import prepare_features\n",
    "from nodestimation.project import find_subject_dir, conditions_unique_code\n",
    "from nodestimation.pipeline import pipeline\n",
    "import pandas as pd\n",
    "import matplotlib.pyplot as plt\n",
    "from sklearn.ensemble import RandomForestClassifier\n",
    "import nibabel\n",
    "import nilearn.plotting as nplt\n",
    "from nodestimation.project.actions import read\n",
    "import nodestimation as nd\n",
    "from nodestimation.learning.modification import append_series, promote\n",
    "import nodestimation.learning.modification as lmd\n",
    "from nodestimation.project.subject import Subject\n",
    "from sklearn.preprocessing import *\n",
    "from sklearn.metrics import accuracy_score, classification_report, confusion_matrix\n",
    "from sklearn.neighbors import KNeighborsClassifier\n",
    "from sklearn.linear_model import LogisticRegression\n",
    "from sklearn.ensemble import RandomForestClassifier\n",
    "from sklearn.naive_bayes import GaussianNB\n",
    "from sklearn.discriminant_analysis import LinearDiscriminantAnalysis, QuadraticDiscriminantAnalysis\n",
    "from sklearn.feature_selection import SelectFromModel\n",
    "from sklearn.cluster import KMeans\n",
    "from sklearn.neural_network import MLPClassifier\n",
    "import matplotlib as mpl\n",
    "from nodestimation.learning.selection import SubjectsStatistic, Wilcoxon, Mannwhitneyu, Test\n",
    "from scipy.stats import wilcoxon, spearmanr, pearsonr\n",
    "from sklearn.ensemble import VotingClassifier\n",
    "from sklearn.model_selection import cross_val_score\n",
    "from sklearn.linear_model import SGDClassifier\n",
    "from scipy.fftpack import fftfreq, irfft, rfft\n",
    "from scipy.fftpack import fftfreq, irfft, rfft\n",
    "from sklearn.linear_model import LinearRegression\n",
    "\n",
    "ENGEL1 = [\n",
    "    'B1C2',\n",
    "    'B1R1',\n",
    "    'G1R1',\n",
    "    'G1V2',\n",
    "    'J1T2',\n",
    "    'K1V1',\n",
    "    'L1P1',\n",
    "    'M1G2',\n",
    "    'M1N2',\n",
    "    'O1O2',\n",
    "    'R1D2',\n",
    "    'S1A2',\n",
    "    'S1B1',\n",
    "    'S1H1',\n",
    "    'S1U3'\n",
    "]\n",
    "ENGEL2 = [\n",
    "    'L2M1',\n",
    "    'M2S2',\n",
    "    'N2K2',\n",
    "    'P1H2'\n",
    "]\n",
    "ENGEL3 = [\n",
    "    'N3S2',\n",
    "    'S3R1'\n",
    "]\n",
    "ENGEL4 = [\n",
    "    'K4L2'\n",
    "]\n",
    "REJECTED = [\n",
    "    'S1U3',\n",
    "    'P1H2'\n",
    "]\n",
    "\n",
    "AGE = {\n",
    "    'B1C2': 28.0,\n",
    "    'B1R1': 16.0,\n",
    "    'G1R1': 23.0,\n",
    "    'G1V2': 5.0,\n",
    "    'J1T2': 8.0,\n",
    "    'K1V1': 10.0,\n",
    "    'K4L2': 14.0,\n",
    "    'L1P1': 16.0,\n",
    "    'L2M1': 20.0,\n",
    "    'M1G2': 8.0,\n",
    "    'M1N2': 7.0,\n",
    "    'M2S2': 18.0,\n",
    "    'N2K2': 30.0,\n",
    "    'N3S2': 10.0,\n",
    "    'O1O2': 18.0,\n",
    "    'R1D2': 6.5,\n",
    "    'P1H2': 7.0,\n",
    "    'S1A2': 12.0,\n",
    "    'S1B1': 17.0,\n",
    "    'S1H1': 28.0,\n",
    "    'S3R1': 19.0,\n",
    "    'S1U3': 15.0,\n",
    "}\n",
    "\n",
    "SEX = {\n",
    "    'B1C2': 'f',\n",
    "    'B1R1': 'm',\n",
    "    'G1R1': 'f',\n",
    "    'G1V2': 'm',\n",
    "    'J1T2': 'f',\n",
    "    'K1V1': 'f',\n",
    "    'K4L2': 'f',\n",
    "    'L1P1': 'f',\n",
    "    'L2M1': 'f',\n",
    "    'M1G2': 'm',\n",
    "    'M1N2': 'm',\n",
    "    'M2S2': 'm',\n",
    "    'N2K2': 'm',\n",
    "    'N3S2': 'm',\n",
    "    'O1O2': 'f',\n",
    "    'R1D2': 'f',\n",
    "    'P1H2': 'm',\n",
    "    'S1A2': 'm',\n",
    "    'S1B1': 'm',\n",
    "    'S1H1': 'm',\n",
    "    'S3R1': 'm',\n",
    "    'S1U3': 'f',\n",
    "}\n",
    "\n",
    "ENGEL = dict()\n",
    "for group, i in zip([ENGEL1, ENGEL2, ENGEL3, ENGEL4], range(4)):\n",
    "    ENGEL.update({\n",
    "        subject_name: i+1\n",
    "        for subject_name in group\n",
    "    })\n",
    "\n",
    "\n",
    "def depth(coords: np.ndarray, center: np.ndarray = np.array([0, 0, 0])) -> float:\n",
    "    return np.sqrt(\n",
    "        (coords[0] - center[0]) ** 2 +\n",
    "        (coords[1] - center[1]) ** 2 +\n",
    "        (coords[2] - center[2]) ** 2\n",
    "    )"
   ],
   "metadata": {
    "collapsed": false,
    "pycharm": {
     "name": "#%%\n"
    }
   }
  },
  {
   "cell_type": "code",
   "execution_count": 2,
   "outputs": [
    {
     "name": "stdout",
     "output_type": "stream",
     "text": [
      "All computation has been already done, loading of the existing file with the solution...\n"
     ]
    }
   ],
   "source": [
    "subjects = pipeline(\n",
    "    methods=['wpli', 'envelope', 'coh', 'imcoh', 'plv', 'ciplv', 'ppc', 'pli', 'pli2_unbiased', 'wpli2_debiased'],\n",
    "    freq_bands=(4, 8),\n",
    "    centrality_metrics=['eigen', 'between', 'degree', 'info']\n",
    "    )"
   ],
   "metadata": {
    "collapsed": false,
    "pycharm": {
     "name": "#%%\n"
    }
   }
  },
  {
   "cell_type": "code",
   "execution_count": 3,
   "outputs": [
    {
     "name": "stdout",
     "output_type": "stream",
     "text": [
      "P1H2: DONE, RUNTIME: 2.684141159057617\n",
      "M2S2: DONE, RUNTIME: 2.7546422481536865\n",
      "R1D2: DONE, RUNTIME: 3.2327709197998047\n",
      "N3S2: DONE, RUNTIME: 2.0280492305755615\n",
      "S1A2: DONE, RUNTIME: 2.2443552017211914\n",
      "S1H1: DONE, RUNTIME: 2.6411516666412354\n",
      "K1V1: DONE, RUNTIME: 2.6209235191345215\n",
      "L1P1: DONE, RUNTIME: 1.9068398475646973\n",
      "M1G2: DONE, RUNTIME: 2.4962594509124756\n",
      "G1V2: DONE, RUNTIME: 1.7862520217895508\n",
      "G1R1: DONE, RUNTIME: 1.814648151397705\n",
      "M1N2: DONE, RUNTIME: 2.057861804962158\n",
      "S1B1: DONE, RUNTIME: 2.251647710800171\n",
      "S1U3: DONE, RUNTIME: 1.8322336673736572\n",
      "B1R1: DONE, RUNTIME: 1.8558673858642578\n",
      "S3R1: DONE, RUNTIME: 2.1729493141174316\n",
      "N2K2: DONE, RUNTIME: 3.03715443611145\n",
      "K4L2: DONE, RUNTIME: 2.2112114429473877\n",
      "B1C2: DONE, RUNTIME: 2.2130000591278076\n",
      "J1T2: DONE, RUNTIME: 2.242374897003174\n",
      "O1O2: DONE, RUNTIME: 2.171424388885498\n",
      "L2M1: DONE, RUNTIME: 2.3755929470062256\n",
      "graph done\n"
     ]
    }
   ],
   "source": [
    "DATASET = metric_for_hemispheres(subjects, nx.algorithms.global_efficiency)\n",
    "print('graph done')"
   ],
   "metadata": {
    "collapsed": false,
    "pycharm": {
     "name": "#%%\n"
    }
   }
  },
  {
   "cell_type": "code",
   "execution_count": 4,
   "outputs": [],
   "source": [
    "dataset = DATASET.copy()\n",
    "\n",
    "for sample in dataset.index:\n",
    "    subject = sample[:4]\n",
    "    if subject in REJECTED:\n",
    "        dataset = dataset.drop(index=sample)"
   ],
   "metadata": {
    "collapsed": false,
    "pycharm": {
     "name": "#%%\n"
    }
   }
  },
  {
   "cell_type": "code",
   "execution_count": 5,
   "outputs": [],
   "source": [
    "cross_hemispheres_informativeness = CrossInformativeness()\n",
    "cross_subjects_informativeness = CrossInformativeness()\n",
    "\n",
    "for _ in range(100):\n",
    "    hemispheres_informatoveness = Informativeness()\n",
    "    subjects_informativeness = SubjectsInformativeness()\n",
    "    acc, spec, sens, pospred, negpred = list(), list(), list(), list(), list()\n",
    "\n",
    "    for i in range(100):\n",
    "\n",
    "        y = dataset['resected'].to_numpy()\n",
    "        x = dataset[[f'global_efficiency_for_wpli_4-8Hz', f'global_efficiency_for_envelope_4-8Hz']].to_numpy()\n",
    "\n",
    "        scaler = StandardScaler()\n",
    "        x = scaler.fit_transform(x)\n",
    "\n",
    "        samples = [[sample] for sample in dataset.index.tolist()]\n",
    "\n",
    "        x = np.append(x, samples, axis=1)\n",
    "        x_train, x_test, y_train, y_test = train_test_split(x, y)\n",
    "        train_samples, test_samples = x_train[:, 2], x_test[:, 2]\n",
    "        x_train, x_test = x_train[:, 0:2], x_test[:, 0:2]\n",
    "\n",
    "        clf = svm.SVC()\n",
    "        clf.fit(x_train, y_train)\n",
    "        pred = clf.predict(x_test)\n",
    "\n",
    "        for predicted, actual, sample, value in zip(pred, y_test, test_samples, x_test):\n",
    "            hemispheres_informatoveness.informativeness = sample, actual, 'correct' if predicted == actual else 'wrong'\n",
    "            subjects_informativeness.informativeness = sample, actual, 'correct' if predicted == actual else 'wrong'\n",
    "\n",
    "    cross_subjects_informativeness.informativeness = subjects_informativeness\n",
    "    cross_hemispheres_informativeness.informativeness = hemispheres_informatoveness"
   ],
   "metadata": {
    "collapsed": false,
    "pycharm": {
     "name": "#%%\n"
    }
   }
  },
  {
   "cell_type": "code",
   "execution_count": 8,
   "outputs": [],
   "source": [
    "deepest_regions = dict()\n",
    "n_regions = dict()\n",
    "\n",
    "for subject in subjects:\n",
    "    if subject.name in REJECTED:\n",
    "        continue\n",
    "    else:\n",
    "        deepest_regions.update({\n",
    "            subject.name: np.min(\n",
    "                np.array([\n",
    "                    depth(node.center_coordinates)\n",
    "                    for node in subject.nodes\n",
    "                    if node.type == 'resected'\n",
    "                ])\n",
    "            )\n",
    "        })\n",
    "        size = 0\n",
    "\n",
    "        for node in subject.nodes:\n",
    "            if node.type == 'resected':\n",
    "                size += 1\n",
    "\n",
    "        n_regions.update({\n",
    "            subject.name: size\n",
    "        })\n",
    "\n",
    "max = np.max(np.array(list(deepest_regions.values())))\n",
    "min = np.min(np.array(list(deepest_regions.values())))\n",
    "\n",
    "deepest_regions_norm = {\n",
    "    item[0]: 1 - (item[1] - min)/(max - min)\n",
    "    for item in deepest_regions.items()\n",
    "}"
   ],
   "metadata": {
    "collapsed": false,
    "pycharm": {
     "name": "#%%\n"
    }
   }
  },
  {
   "cell_type": "code",
   "execution_count": 141,
   "outputs": [
    {
     "name": "stdout",
     "output_type": "stream",
     "text": [
      "      accuracy     depth size   age  sex engel\n",
      "B1C2   0.45768       0.0    5  28.0    1     1\n",
      "B1R1  0.980802  0.527525    2  16.0    0     1\n",
      "G1R1       1.0  0.557838    2  23.0    1     1\n",
      "G1V2  0.501629  0.562176    2   5.0    0     1\n",
      "J1T2  0.732012  0.560677    1   8.0    1     1\n",
      "K1V1  0.491632  0.626464    6  10.0    1     1\n",
      "K4L2  0.376052   0.48751    4  14.0    1     4\n",
      "L1P1  0.980373  0.890547    4  16.0    1     1\n",
      "L2M1  0.434024  0.845401    1  20.0    1     2\n",
      "M1G2  0.775568  0.315033    4   8.0    0     1\n",
      "M1N2  0.978488  0.580463    2   7.0    0     1\n",
      "M2S2  0.903023   0.59526    1  18.0    0     2\n",
      "N2K2   0.92126  0.475333    1  30.0    0     2\n",
      "N3S2  0.019708  0.780576    4  10.0    0     3\n",
      "O1O2       1.0  0.098071    1  18.0    1     1\n",
      "R1D2  0.977393  0.612838    1   6.5    1     1\n",
      "S1A2  0.461038  0.489974    1  12.0    0     1\n",
      "S1B1  0.698227  0.620951    4  17.0    0     1\n",
      "S1H1  0.461115       1.0    2  28.0    0     1\n",
      "S3R1    0.5102  0.998972    6  19.0    0     3\n",
      "\n",
      "\n",
      "*****************\n",
      "\n",
      "Correlation between engel and accuracy\n",
      "SpearmannCorrCoef: -0.44639479350468886\n",
      "Spearmann p-val: 0.04849782261199874\n",
      "PearsonCorrCoef: -0.5003486473364396\n",
      "Pearson p-val: 0.02465324898396596\n",
      "\n",
      "*****************\n",
      "\n",
      "Correlation between age and accuracy\n",
      "SpearmannCorrCoef: 0.0003767901792637787\n",
      "Spearmann p-val: 0.9987420975935204\n",
      "PearsonCorrCoef: 0.04456537784302704\n",
      "Pearson p-val: 0.8520044943098034\n",
      "\n",
      "*****************\n",
      "\n",
      "Correlation between size and accuracy\n",
      "SpearmannCorrCoef: -0.30310122864951655\n",
      "Spearmann p-val: 0.19392879122381768\n",
      "PearsonCorrCoef: -0.4167098990658233\n",
      "Pearson p-val: 0.06758557412602535\n",
      "\n",
      "*****************\n",
      "\n",
      "Correlation between depth and accuracy\n",
      "SpearmannCorrCoef: -0.20007523039573938\n",
      "Spearmann p-val: 0.3976918218645634\n",
      "PearsonCorrCoef: -0.22754287736775497\n",
      "Pearson p-val: 0.334636625839225\n",
      "\n",
      "*****************\n",
      "\n"
     ]
    }
   ],
   "source": [
    "series = list()\n",
    "names = [\n",
    "        'accuracy',\n",
    "        'depth',\n",
    "        'size',\n",
    "        'age',\n",
    "        'sex',\n",
    "        'engel',\n",
    "    ]\n",
    "\n",
    "age = AGE.copy()\n",
    "engel = ENGEL.copy()\n",
    "sex = SEX.copy()\n",
    "\n",
    "for subject_name in REJECTED:\n",
    "    age.pop(subject_name)\n",
    "    engel.pop(subject_name)\n",
    "    sex.pop(subject_name)\n",
    "\n",
    "for data in [\n",
    "        cross_subjects_informativeness.acc(),\n",
    "        deepest_regions_norm,\n",
    "        n_regions,\n",
    "        age,\n",
    "        sex,\n",
    "        engel\n",
    "    ]:\n",
    "    series.append(\n",
    "        dict(\n",
    "            sorted(\n",
    "                data.items(),\n",
    "                key=lambda item: item[0]\n",
    "            )\n",
    "        )\n",
    "    )\n",
    "\n",
    "df = pd.DataFrame(\n",
    "    series,\n",
    "    index=names\n",
    ")\n",
    "df = df.T\n",
    "df['sex'] = [int(sample == 'f') for sample in df['sex']]\n",
    "print(df)\n",
    "# df.to_csv('~/Documents/Samples_informativeness&Rejected(1).csv')\n",
    "\n",
    "sep = '\\n\\n*****************\\n'\n",
    "print(sep)\n",
    "for param in ['engel', 'age', 'size', 'depth']:\n",
    "\n",
    "    s_corr, s_p = spearmanr(df[param].to_numpy(), df['accuracy'].to_numpy())\n",
    "    p_corr, p_p = pearsonr(df[param].to_numpy(), df['accuracy'].to_numpy())\n",
    "    print(f'Correlation between {param} and accuracy\\n'\n",
    "          f'SpearmannCorrCoef: {s_corr}\\nSpearmann p-val: {s_p}\\n'\n",
    "          f'PearsonCorrCoef: {p_corr}\\nPearson p-val: {p_p}{sep}')"
   ],
   "metadata": {
    "collapsed": false,
    "pycharm": {
     "name": "#%%\n"
    }
   }
  },
  {
   "cell_type": "code",
   "execution_count": 142,
   "outputs": [
    {
     "name": "stdout",
     "output_type": "stream",
     "text": [
      "Correlation between age and engel\n",
      "SpearmannCorrCoef: 0.2603240227748078\n",
      "Spearmann p-val: 0.26764952825435895\n",
      "PearsonCorrCoef: 0.08850571603123218\n",
      "Pearson p-val: 0.7105979409293223\n",
      "\n",
      "*****************\n",
      "\n",
      "Correlation between size and engel\n",
      "SpearmannCorrCoef: 0.07531013707577049\n",
      "Spearmann p-val: 0.7523369714575918\n",
      "PearsonCorrCoef: 0.2707589773689651\n",
      "Pearson p-val: 0.24824114204835782\n",
      "\n",
      "*****************\n",
      "\n",
      "Correlation between depth and engel\n",
      "SpearmannCorrCoef: 0.18220933561228697\n",
      "Spearmann p-val: 0.44197242329595254\n",
      "PearsonCorrCoef: 0.2613828454102226\n",
      "Pearson p-val: 0.26563797230976827\n",
      "\n",
      "*****************\n",
      "\n"
     ]
    }
   ],
   "source": [
    "for param in ['age', 'size', 'depth']:\n",
    "\n",
    "    s_corr, s_p = spearmanr(df[param].to_numpy(), df['engel'].to_numpy())\n",
    "    p_corr, p_p = pearsonr(df[param].to_numpy(), df['engel'].to_numpy())\n",
    "    print(f'Correlation between {param} and engel\\n'\n",
    "          f'SpearmannCorrCoef: {s_corr}\\nSpearmann p-val: {s_p}\\n'\n",
    "          f'PearsonCorrCoef: {p_corr}\\nPearson p-val: {p_p}{sep}')"
   ],
   "metadata": {
    "collapsed": false,
    "pycharm": {
     "name": "#%%\n"
    }
   }
  },
  {
   "cell_type": "code",
   "execution_count": 105,
   "outputs": [
    {
     "name": "stdout",
     "output_type": "stream",
     "text": [
      "Linear model for depth and age to accuracy\n",
      "score: 0.05329913268194075\n",
      "coef: [[0.00647801 0.00146337]]\n",
      "intercept: [0.30349674]\n"
     ]
    }
   ],
   "source": [
    "X = np.array([\n",
    "    [d, a]\n",
    "    for d, a in zip(\n",
    "        df['depth'].to_numpy(),\n",
    "        df['age'].to_numpy()\n",
    "    )\n",
    "])\n",
    "y = df[['accuracy']].to_numpy()\n",
    "\n",
    "reg = LinearRegression().fit(X, y)\n",
    "\n",
    "\n",
    "print('Linear model for depth and age to accuracy')\n",
    "print(f'score: {reg.score(X, y)}')\n",
    "print(f'coef: {reg.coef_}')\n",
    "print(f'intercept: {reg.intercept_}')"
   ],
   "metadata": {
    "collapsed": false,
    "pycharm": {
     "name": "#%%\n"
    }
   }
  },
  {
   "cell_type": "code",
   "execution_count": 146,
   "outputs": [
    {
     "name": "stdout",
     "output_type": "stream",
     "text": [
      "Linear model for depth, size, age, engel to accuracy\n",
      "score: 0.34948441640988204\n",
      "coef: [[-0.09920302 -0.02400556  0.00283855 -0.12800614 -0.02400556]]\n",
      "intercept: [1.01782093]\n"
     ]
    }
   ],
   "source": [
    "X = np.array([\n",
    "    [d, s, a, e, s]\n",
    "    for d, s, a, e in zip(\n",
    "        df['depth'].to_numpy(),\n",
    "        df['size'].to_numpy(),\n",
    "        df['age'].to_numpy(),\n",
    "        df['engel'].to_numpy(),\n",
    "    )\n",
    "])\n",
    "y = df[['accuracy']].to_numpy()\n",
    "\n",
    "reg = LinearRegression().fit(X, y)\n",
    "\n",
    "\n",
    "print('Linear model for depth, size, age, engel to accuracy')\n",
    "print(f'score: {reg.score(X, y)}')\n",
    "print(f'coef: {reg.coef_}')\n",
    "print(f'intercept: {reg.intercept_}')"
   ],
   "metadata": {
    "collapsed": false,
    "pycharm": {
     "name": "#%%\n"
    }
   }
  },
  {
   "cell_type": "code",
   "execution_count": 148,
   "outputs": [
    {
     "name": "stdout",
     "output_type": "stream",
     "text": [
      "Linear model for size and engel to accuracy\n",
      "score: 0.3356995658663029\n",
      "coef: [[-0.04893646 -0.13282272]]\n",
      "intercept: [1.01437373]\n"
     ]
    }
   ],
   "source": [
    "X = np.array([\n",
    "    [s, a]\n",
    "    for s, a in zip(\n",
    "        df['size'].to_numpy(),\n",
    "        df['engel'].to_numpy()\n",
    "    )\n",
    "])\n",
    "y = df[['accuracy']].to_numpy()\n",
    "\n",
    "reg = LinearRegression().fit(X, y)\n",
    "\n",
    "\n",
    "print('Linear model for size and engel to accuracy')\n",
    "print(f'score: {reg.score(X, y)}')\n",
    "print(f'coef: {reg.coef_}')\n",
    "print(f'intercept: {reg.intercept_}')"
   ],
   "metadata": {
    "collapsed": false,
    "pycharm": {
     "name": "#%%\n"
    }
   }
  },
  {
   "cell_type": "code",
   "execution_count": 153,
   "outputs": [
    {
     "name": "stdout",
     "output_type": "stream",
     "text": [
      "Linear model for size and depth to engel\n",
      "score: 0.1376372787961052\n",
      "coef: [[0.12534618 0.8303841  0.01135654]]\n",
      "intercept: [0.50086548]\n"
     ]
    }
   ],
   "source": [
    "X = np.array([\n",
    "    [s, d, a]\n",
    "    for s, d, a in zip(\n",
    "        df['size'].to_numpy(),\n",
    "        df['depth'].to_numpy(),\n",
    "        df['age'].to_numpy(),\n",
    "    )\n",
    "])\n",
    "y = df[['engel']].to_numpy()\n",
    "\n",
    "reg = LinearRegression().fit(X, y)\n",
    "\n",
    "\n",
    "print('Linear model for size and depth to engel')\n",
    "print(f'score: {reg.score(X, y)}')\n",
    "print(f'coef: {reg.coef_}')\n",
    "print(f'intercept: {reg.intercept_}')\n"
   ],
   "metadata": {
    "collapsed": false,
    "pycharm": {
     "name": "#%%\n"
    }
   }
  }
 ],
 "metadata": {
  "kernelspec": {
   "display_name": "Python 3",
   "language": "python",
   "name": "python3"
  },
  "language_info": {
   "codemirror_mode": {
    "name": "ipython",
    "version": 2
   },
   "file_extension": ".py",
   "mimetype": "text/x-python",
   "name": "python",
   "nbconvert_exporter": "python",
   "pygments_lexer": "ipython2",
   "version": "2.7.6"
  }
 },
 "nbformat": 4,
 "nbformat_minor": 0
}