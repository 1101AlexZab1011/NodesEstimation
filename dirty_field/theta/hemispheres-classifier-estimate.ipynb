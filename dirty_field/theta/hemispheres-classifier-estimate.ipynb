{
 "cells": [
  {
   "cell_type": "code",
   "execution_count": 1,
   "outputs": [
    {
     "name": "stderr",
     "output_type": "stream",
     "text": [
      "/home/user/.local/lib/python3.9/site-packages/nilearn/datasets/__init__.py:86: FutureWarning: Fetchers from the nilearn.datasets module will be updated in version 0.9 to return python strings instead of bytes and Pandas dataframes instead of Numpy arrays.\n",
      "  warn(\"Fetchers from the nilearn.datasets module will be \"\n"
     ]
    }
   ],
   "source": [
    "import itertools\n",
    "import operator\n",
    "import re\n",
    "from abc import *\n",
    "from copy import deepcopy\n",
    "from operator import itemgetter\n",
    "from typing import *\n",
    "import numpy as np\n",
    "import scipy as sp\n",
    "import networkx as nx\n",
    "import mne\n",
    "import time\n",
    "from sklearn import svm\n",
    "from sklearn.ensemble import RandomForestClassifier, GradientBoostingClassifier, AdaBoostClassifier\n",
    "from sklearn.neighbors._dist_metrics import DistanceMetric\n",
    "from sklearn.utils import shuffle\n",
    "from typing import List, Tuple\n",
    "from sklearn.model_selection import train_test_split\n",
    "from nodestimation.learning.estimation import collect_statistic, \\\n",
    "    compute_importance, collect_cross_statistic, make_selection_map, \\\n",
    "    select, separate_datasets, selected_statistic, choose_best, selected_data, make_feature_selection\n",
    "from nodestimation.learning.informativeness import CrossInformativeness, Informativeness, SubjectsInformativeness, \\\n",
    "    NodesInformativeness\n",
    "from nodestimation.learning.networking import sparse_graph, graph_to_hemispheres, hemispheres_division_modularity, \\\n",
    "    metric_for_hemispheres\n",
    "from nodestimation.processing.features import prepare_features\n",
    "from nodestimation.project import find_subject_dir, conditions_unique_code\n",
    "from nodestimation.pipeline import pipeline\n",
    "import pandas as pd\n",
    "import matplotlib.pyplot as plt\n",
    "from sklearn.ensemble import RandomForestClassifier\n",
    "import nibabel\n",
    "import nilearn.plotting as nplt\n",
    "from nodestimation.project.actions import read\n",
    "import nodestimation as nd\n",
    "from nodestimation.learning.modification import append_series, promote\n",
    "import nodestimation.learning.modification as lmd\n",
    "from nodestimation.project.subject import Subject\n",
    "from sklearn.preprocessing import *\n",
    "from sklearn.metrics import accuracy_score, classification_report, confusion_matrix\n",
    "from sklearn.neighbors import KNeighborsClassifier\n",
    "from sklearn.linear_model import LogisticRegression\n",
    "from sklearn.ensemble import RandomForestClassifier\n",
    "from sklearn.naive_bayes import GaussianNB\n",
    "from sklearn.discriminant_analysis import LinearDiscriminantAnalysis, QuadraticDiscriminantAnalysis\n",
    "from sklearn.feature_selection import SelectFromModel\n",
    "from sklearn.cluster import KMeans\n",
    "from sklearn.neural_network import MLPClassifier\n",
    "import matplotlib as mpl\n",
    "from nodestimation.learning.selection import SubjectsStatistic, Wilcoxon, Mannwhitneyu, Test\n",
    "from scipy.stats import wilcoxon, spearmanr, pearsonr\n",
    "from sklearn.ensemble import VotingClassifier\n",
    "from sklearn.model_selection import cross_val_score\n",
    "from sklearn.linear_model import SGDClassifier\n",
    "from scipy.fftpack import fftfreq, irfft, rfft\n",
    "from scipy.fftpack import fftfreq, irfft, rfft\n",
    "from sklearn.linear_model import LinearRegression\n",
    "\n",
    "ENGEL1 = [\n",
    "    'B1C2',\n",
    "    'B1R1',\n",
    "    'G1R1',\n",
    "    'G1V2',\n",
    "    'J1T2',\n",
    "    'K1V1',\n",
    "    'L1P1',\n",
    "    'M1G2',\n",
    "    'M1N2',\n",
    "    'O1O2',\n",
    "    'R1D2',\n",
    "    'S1A2',\n",
    "    'S1B1',\n",
    "    'S1H1',\n",
    "    'S1U3'\n",
    "]\n",
    "ENGEL2 = [\n",
    "    'L2M1',\n",
    "    'M2S2',\n",
    "    'N2K2',\n",
    "    'P1H2'\n",
    "]\n",
    "ENGEL3 = [\n",
    "    'N3S2',\n",
    "    'S3R1'\n",
    "]\n",
    "ENGEL4 = [\n",
    "    'K4L2'\n",
    "]\n",
    "REJECTED = [\n",
    "    'S1U3',\n",
    "    'P1H2'\n",
    "]\n",
    "\n",
    "AGE = {\n",
    "    'B1C2': 28.0,\n",
    "    'B1R1': 16.0,\n",
    "    'G1R1': 23.0,\n",
    "    'G1V2': 5.0,\n",
    "    'J1T2': 8.0,\n",
    "    'K1V1': 10.0,\n",
    "    'K4L2': 14.0,\n",
    "    'L1P1': 16.0,\n",
    "    'L2M1': 20.0,\n",
    "    'M1G2': 8.0,\n",
    "    'M1N2': 7.0,\n",
    "    'M2S2': 18.0,\n",
    "    'N2K2': 30.0,\n",
    "    'N3S2': 10.0,\n",
    "    'O1O2': 18.0,\n",
    "    'R1D2': 6.5,\n",
    "    'P1H2': 7.0,\n",
    "    'S1A2': 12.0,\n",
    "    'S1B1': 17.0,\n",
    "    'S1H1': 28.0,\n",
    "    'S3R1': 19.0,\n",
    "    'S1U3': 15.0,\n",
    "}\n",
    "\n",
    "SEX = {\n",
    "    'B1C2': 'f',\n",
    "    'B1R1': 'm',\n",
    "    'G1R1': 'f',\n",
    "    'G1V2': 'm',\n",
    "    'J1T2': 'f',\n",
    "    'K1V1': 'f',\n",
    "    'K4L2': 'f',\n",
    "    'L1P1': 'f',\n",
    "    'L2M1': 'f',\n",
    "    'M1G2': 'm',\n",
    "    'M1N2': 'm',\n",
    "    'M2S2': 'm',\n",
    "    'N2K2': 'm',\n",
    "    'N3S2': 'm',\n",
    "    'O1O2': 'f',\n",
    "    'R1D2': 'f',\n",
    "    'P1H2': 'm',\n",
    "    'S1A2': 'm',\n",
    "    'S1B1': 'm',\n",
    "    'S1H1': 'm',\n",
    "    'S3R1': 'm',\n",
    "    'S1U3': 'f',\n",
    "}\n",
    "\n",
    "ENGEL = dict()\n",
    "for group, i in zip([ENGEL1, ENGEL2, ENGEL3, ENGEL4], range(4)):\n",
    "    ENGEL.update({\n",
    "        subject_name: i+1\n",
    "        for subject_name in group\n",
    "    })\n",
    "\n",
    "\n",
    "def distance(point1: np.ndarray, point2: np.ndarray = np.array([0, 0, 0])) -> float:\n",
    "    return np.sqrt(\n",
    "        np.sum(\n",
    "            np.array([\n",
    "                (coords1 - coords2) ** 2\n",
    "                for coords1, coords2 in zip(point1, point2)\n",
    "            ])\n",
    "        )\n",
    "    )\n",
    "\n",
    "def angle(point1: np.ndarray, point2: np.ndarray, center: np.ndarray = np.array([0, 0, 0])) -> np.ndarray:\n",
    "    a = point1 - center\n",
    "    b = point2 - center\n",
    "    return np.degrees(\n",
    "        np.arccos(\n",
    "            np.around(\n",
    "                np.dot(a, b) / (np.linalg.norm(a) * np.linalg.norm(b)),\n",
    "                decimals=8\n",
    "            )\n",
    "        )\n",
    "    )\n",
    "\n",
    "\n",
    "def spheric_angles(point: np.ndarray, center: np.ndarray = np.array([0, 0, 0])) -> Union[\n",
    "    Tuple[np.ndarray, np.ndarray], Tuple[float, float]]:\n",
    "    if all(point != center):\n",
    "        proj = point.copy()\n",
    "        proj[2] = center[2]\n",
    "        axis1 = center.copy()\n",
    "        axis1[0] = center[0] + 1\n",
    "        axis2 = center.copy()\n",
    "        axis2[2] = center[2] + 1\n",
    "        return angle(proj, axis1, center), angle(point, axis2, center)\n",
    "    else:\n",
    "        return 0.0, 0.0\n",
    "\n",
    "def dfplot(df: pd.DataFrame, col1: str, col2: str, *args, **kwargs) -> None:\n",
    "    x = df[col1].to_numpy()\n",
    "    y = df[col2].to_numpy()\n",
    "    plt.plot(x, y, *args, **kwargs)\n",
    "    plt.xlabel(col1)\n",
    "    plt.ylabel(col2)\n",
    "    plt.show()"
   ],
   "metadata": {
    "collapsed": false,
    "pycharm": {
     "name": "#%%\n"
    }
   }
  },
  {
   "cell_type": "code",
   "execution_count": 2,
   "outputs": [
    {
     "name": "stdout",
     "output_type": "stream",
     "text": [
      "All computation has been already done, loading of the existing file with the solution...\n",
      "[<nodestimation.project.subject.Subject object at 0x7f5e672d6e20>, <nodestimation.project.subject.Subject object at 0x7f5e670a2370>, <nodestimation.project.subject.Subject object at 0x7f5e66d21d90>, <nodestimation.project.subject.Subject object at 0x7f5e66b702e0>, <nodestimation.project.subject.Subject object at 0x7f5e669b37f0>, <nodestimation.project.subject.Subject object at 0x7f5e667f9cd0>, <nodestimation.project.subject.Subject object at 0x7f5e66646220>, <nodestimation.project.subject.Subject object at 0x7f5e6648a730>, <nodestimation.project.subject.Subject object at 0x7f5e662d0c70>, <nodestimation.project.subject.Subject object at 0x7f5e65d1b190>, <nodestimation.project.subject.Subject object at 0x7f5e65adf6d0>, <nodestimation.project.subject.Subject object at 0x7f5e65768130>, <nodestimation.project.subject.Subject object at 0x7f5e653ecb50>, <nodestimation.project.subject.Subject object at 0x7f5e6506d5b0>, <nodestimation.project.subject.Subject object at 0x7f5e64eb0ac0>, <nodestimation.project.subject.Subject object at 0x7f5e64cf5fd0>, <nodestimation.project.subject.Subject object at 0x7f5e661c3520>]\n"
     ]
    }
   ],
   "source": [
    "SUBJECTS = pipeline(\n",
    "    methods=['wpli', 'envelope', 'coh', 'imcoh', 'plv', 'ciplv', 'ppc', 'pli', 'pli2_unbiased', 'wpli2_debiased'],\n",
    "    freq_bands=(4, 8),\n",
    "    centrality_metrics=['eigen', 'between', 'degree', 'info']\n",
    "    )\n",
    "\n",
    "subjects = [subject\n",
    "            for subject in SUBJECTS\n",
    "            if subject.name not in REJECTED\n",
    "            and subject.name in [*ENGEL1, *ENGEL2]\n",
    "            ]\n",
    "print(subjects)"
   ],
   "metadata": {
    "collapsed": false,
    "pycharm": {
     "name": "#%%\n"
    }
   }
  },
  {
   "cell_type": "code",
   "execution_count": 3,
   "outputs": [
    {
     "name": "stdout",
     "output_type": "stream",
     "text": [
      "graph done\n"
     ]
    }
   ],
   "source": [
    "DATASET = metric_for_hemispheres(subjects, nx.algorithms.global_efficiency)\n",
    "print('graph done')"
   ],
   "metadata": {
    "collapsed": false,
    "pycharm": {
     "name": "#%%\n"
    }
   }
  },
  {
   "cell_type": "code",
   "execution_count": 4,
   "outputs": [],
   "source": [
    "HEMISPHERE = {\n",
    "    sample[:4]: sample[5:]\n",
    "    for sample in DATASET.index\n",
    "    if DATASET.loc[sample]['resected']\n",
    "}"
   ],
   "metadata": {
    "collapsed": false,
    "pycharm": {
     "name": "#%%\n"
    }
   }
  },
  {
   "cell_type": "code",
   "execution_count": 6,
   "outputs": [],
   "source": [
    "modularity_env, modularity_wpli = dict(), dict()\n",
    "freq = '4-8Hz'\n",
    "\n",
    "for subject in subjects:\n",
    "    for method in ['wpli', 'envelope']:\n",
    "        label_names = list(subject.connectomes[freq][method].index)\n",
    "        mapping = {\n",
    "            i: label_name\n",
    "            for i, label_name in zip(\n",
    "                range(len(label_names)),\n",
    "                label_names\n",
    "            )\n",
    "        }\n",
    "        G = sparse_graph(\n",
    "            nx.convert_matrix.from_numpy_matrix(\n",
    "                subject.connectomes[freq][method].to_numpy()\n",
    "            )\n",
    "        )\n",
    "        G = nx.relabel_nodes(G, mapping)\n",
    "\n",
    "        modularity = {\n",
    "            'wpli': modularity_wpli,\n",
    "            'envelope': modularity_env\n",
    "        }[method]\n",
    "        modularity.update({\n",
    "            # subject.name: hemispheres_division_modularity(G)\n",
    "            subject.name: nx.algorithms.smetric.s_metric(G, normalized=False)\n",
    "        })\n",
    "\n",
    "# print(lmd.dict_to_str(modularity_env))\n",
    "# print(lmd.dict_to_str(modularity_wpli))"
   ],
   "metadata": {
    "collapsed": false,
    "pycharm": {
     "name": "#%%\n"
    }
   }
  },
  {
   "cell_type": "code",
   "execution_count": 5,
   "outputs": [],
   "source": [
    "dataset = DATASET.copy()"
   ],
   "metadata": {
    "collapsed": false,
    "pycharm": {
     "name": "#%%\n"
    }
   }
  },
  {
   "cell_type": "code",
   "execution_count": 6,
   "outputs": [],
   "source": [
    "cross_hemispheres_informativeness = CrossInformativeness()\n",
    "cross_subjects_informativeness = CrossInformativeness()\n",
    "\n",
    "for _ in range(100):\n",
    "    hemispheres_informatoveness = Informativeness()\n",
    "    subjects_informativeness = SubjectsInformativeness()\n",
    "    acc, spec, sens, pospred, negpred = list(), list(), list(), list(), list()\n",
    "\n",
    "    for i in range(100):\n",
    "\n",
    "        y = dataset['resected'].to_numpy()\n",
    "        x = dataset[[f'global_efficiency_for_wpli_4-8Hz', f'global_efficiency_for_envelope_4-8Hz']].to_numpy()\n",
    "\n",
    "        scaler = StandardScaler()\n",
    "        x = scaler.fit_transform(x)\n",
    "\n",
    "        samples = [[sample] for sample in dataset.index.tolist()]\n",
    "\n",
    "        x = np.append(x, samples, axis=1)\n",
    "        x_train, x_test, y_train, y_test = train_test_split(x, y)\n",
    "        train_samples, test_samples = x_train[:, 2], x_test[:, 2]\n",
    "        x_train, x_test = x_train[:, 0:2], x_test[:, 0:2]\n",
    "\n",
    "        clf = svm.SVC()\n",
    "        clf.fit(x_train, y_train)\n",
    "        pred = clf.predict(x_test)\n",
    "\n",
    "        for predicted, actual, sample, value in zip(pred, y_test, test_samples, x_test):\n",
    "            hemispheres_informatoveness.informativeness = sample, actual, 'correct' if predicted == actual else 'wrong'\n",
    "            subjects_informativeness.informativeness = sample, actual, 'correct' if predicted == actual else 'wrong'\n",
    "\n",
    "    cross_subjects_informativeness.informativeness = subjects_informativeness\n",
    "    cross_hemispheres_informativeness.informativeness = hemispheres_informatoveness"
   ],
   "metadata": {
    "collapsed": false,
    "pycharm": {
     "name": "#%%\n"
    }
   }
  },
  {
   "cell_type": "code",
   "execution_count": 45,
   "outputs": [],
   "source": [
    "deepest_regions = dict()\n",
    "depth_row = dict()\n",
    "n_regions = dict()\n",
    "weight = dict()\n",
    "height = dict()\n",
    "omega_row = dict()\n",
    "phi_row = dict()\n",
    "theta_row = dict()\n",
    "vol = dict()\n",
    "density = dict()\n",
    "\n",
    "dists2coords = dict()\n",
    "\n",
    "for subject in subjects:\n",
    "    dists2coords = dict()\n",
    "    for node in subject.nodes:\n",
    "        if node.type == 'resected':\n",
    "            dists2coords.update({\n",
    "                distance(node.center_coordinates): node.center_coordinates\n",
    "            })\n",
    "    dists2coords = dict(\n",
    "        sorted(\n",
    "            dists2coords.items(),\n",
    "            key=lambda item: item[0]\n",
    "        )\n",
    "    )\n",
    "\n",
    "    deepest_region = list(dists2coords.values())[-1]\n",
    "    shallowest_region = list(dists2coords.values())[0]\n",
    "    phi, theta = spheric_angles(shallowest_region, deepest_region)\n",
    "    phi_row.update({\n",
    "        subject.name: phi\n",
    "    })\n",
    "    theta_row.update({\n",
    "        subject.name: theta\n",
    "    })\n",
    "    omega = angle(deepest_region, shallowest_region)\n",
    "    omega_row.update({\n",
    "        subject.name: omega\n",
    "    })\n",
    "    deepest_regions.update({\n",
    "        subject.name: list(dists2coords.keys())[-1]\n",
    "    })\n",
    "    height.update({\n",
    "        subject.name: distance(shallowest_region, deepest_region)\n",
    "    })\n",
    "    size = 0\n",
    "    weight_all = 0\n",
    "    weight_ra = 0\n",
    "    depth = 0\n",
    "\n",
    "    for node in subject.nodes:\n",
    "\n",
    "        weight_all += 1/distance(node.center_coordinates)\n",
    "\n",
    "        if node.type == 'resected':\n",
    "            dist = distance(node.center_coordinates)\n",
    "            depth += dist\n",
    "            weight_ra += dist\n",
    "            size += 1\n",
    "\n",
    "    n_regions.update({\n",
    "        subject.name: size\n",
    "    })\n",
    "    depth_row.update({\n",
    "        subject.name: depth/size\n",
    "    })\n",
    "    weight.update({\n",
    "        subject.name: weight_ra/weight_all\n",
    "    })\n",
    "    vol.update({\n",
    "        subject.name: size*distance(shallowest_region, deepest_region)\n",
    "    })\n",
    "    density.update({\n",
    "        subject.name: weight_ra/weight_all*distance(shallowest_region, deepest_region)\n",
    "    })\n",
    "\n",
    "max = np.max(np.array(list(deepest_regions.values())))\n",
    "min = np.min(np.array(list(deepest_regions.values())))\n",
    "\n",
    "deepest_regions_norm = {\n",
    "    item[0]: 1 - (item[1] - min)/(max - min)\n",
    "    for item in deepest_regions.items()\n",
    "}"
   ],
   "metadata": {
    "collapsed": false,
    "pycharm": {
     "name": "#%%\n"
    }
   }
  },
  {
   "cell_type": "code",
   "execution_count": 46,
   "outputs": [
    {
     "name": "stdout",
     "output_type": "stream",
     "text": [
      "S1U3 is already excluded!\n",
      "P1H2 is already excluded!\n",
      "N3S2 is already excluded!\n",
      "S3R1 is already excluded!\n",
      "K4L2 is already excluded!\n",
      "      accuracy      depth   deepest size      weight     height      volume  \\\n",
      "B1C2  0.451355  83.205707  0.089017    5  149.597854  56.739396   283.69698   \n",
      "B1R1  0.981485  60.908541  0.578577    2    42.01455  22.200947   44.401893   \n",
      "G1R1       1.0  62.704718  0.477518    2    45.16556  52.021366  104.042732   \n",
      "G1V2  0.480546  58.151501  0.667041    2   41.392037  33.316376   66.632752   \n",
      "J1T2  0.806212  55.841937  0.766211    1   19.553288        0.0         0.0   \n",
      "K1V1  0.503696  62.690927  0.464549    6  132.011393  52.019901  312.119406   \n",
      "L1P1  0.981543  51.989447  0.710195    4   71.024526  20.567457   82.269827   \n",
      "L2M1  0.780744  44.815778       1.0    1   15.865748        0.0         0.0   \n",
      "M1G2  0.880569  83.821155       0.0    4  114.282703  49.103955  196.415821   \n",
      "M1N2  0.976132  55.904561   0.74731    2   39.343044  17.943396   35.886791   \n",
      "M2S2  0.877364  54.502684  0.794608    1   18.943282        0.0         0.0   \n",
      "N2K2  0.938212   59.14696  0.696135    1   20.829868        0.0         0.0   \n",
      "O1O2  0.981433  73.756735  0.386362    1   26.270936        0.0         0.0   \n",
      "R1D2  0.960686  53.821986  0.809041    1   19.242494        0.0         0.0   \n",
      "S1A2  0.460265  58.579972  0.708157    1   20.292573        0.0         0.0   \n",
      "S1B1   0.77145  62.140288   0.47775    4   86.171152  44.447704  177.790814   \n",
      "S1H1  0.462609  42.465769  0.972713    2    29.51622  15.339247   30.678495   \n",
      "\n",
      "          density         phi       theta      omega   age  sex  hemisphere  \\\n",
      "B1C2  8488.091886   69.003081   37.151389  39.535291  28.0    1           0   \n",
      "B1R1    932.76278   75.509835   99.062515  19.769994  16.0    0           0   \n",
      "G1R1  2349.574108    61.45909   128.34409  47.523235  23.0    1           1   \n",
      "G1V2  1379.032663   51.579635  123.605846  32.972962   5.0    0           0   \n",
      "J1T2          0.0         0.0         0.0        0.0   8.0    1           1   \n",
      "K1V1  6867.219619  116.794847  121.764251  47.518648  10.0    1           0   \n",
      "L1P1   1460.79386  138.458536  131.704665  15.590978  16.0    1           0   \n",
      "L2M1          0.0         0.0         0.0        0.0  20.0    1           1   \n",
      "M1G2  5611.732739   65.525325  119.377476  30.862382   8.0    0           0   \n",
      "M1N2   705.947805  152.439031   59.760913  18.392163   7.0    0           0   \n",
      "M2S2          0.0         0.0         0.0        0.0  18.0    0           0   \n",
      "N2K2          0.0         0.0         0.0        0.0  30.0    0           1   \n",
      "O1O2          0.0         0.0         0.0        0.0  18.0    1           0   \n",
      "R1D2          0.0         0.0         0.0        0.0   6.5    1           0   \n",
      "S1A2          0.0         0.0         0.0        0.0  12.0    0           1   \n",
      "S1B1  3830.109822  109.902875  102.528309  39.793557  17.0    0           0   \n",
      "S1H1   452.756598   75.023009   55.852122  18.366888  28.0    0           0   \n",
      "\n",
      "     engel  \n",
      "B1C2     1  \n",
      "B1R1     1  \n",
      "G1R1     1  \n",
      "G1V2     1  \n",
      "J1T2     1  \n",
      "K1V1     1  \n",
      "L1P1     1  \n",
      "L2M1     2  \n",
      "M1G2     1  \n",
      "M1N2     1  \n",
      "M2S2     2  \n",
      "N2K2     2  \n",
      "O1O2     1  \n",
      "R1D2     1  \n",
      "S1A2     1  \n",
      "S1B1     1  \n",
      "S1H1     1  \n"
     ]
    }
   ],
   "source": [
    "series = list()\n",
    "names = [\n",
    "    'accuracy',\n",
    "    'depth',\n",
    "    'deepest',\n",
    "    'size',\n",
    "    'weight',\n",
    "    'height',\n",
    "    'volume',\n",
    "    'density',\n",
    "    'phi',\n",
    "    'theta',\n",
    "    'omega',\n",
    "    'age',\n",
    "    'sex',\n",
    "    'hemisphere',\n",
    "    'engel',\n",
    "]\n",
    "\n",
    "age = AGE.copy()\n",
    "engel = ENGEL.copy()\n",
    "sex = SEX.copy()\n",
    "hemisphere = HEMISPHERE.copy()\n",
    "\n",
    "for subject_name in [*REJECTED, *ENGEL3, *ENGEL4]:\n",
    "    try:\n",
    "        age.pop(subject_name)\n",
    "        engel.pop(subject_name)\n",
    "        sex.pop(subject_name)\n",
    "        hemisphere.pop(subject_name)\n",
    "    except KeyError:\n",
    "        print(f'{subject_name} is already excluded!')\n",
    "\n",
    "for data in [\n",
    "    cross_subjects_informativeness.acc(),\n",
    "    depth_row,\n",
    "    deepest_regions_norm,\n",
    "    n_regions,\n",
    "    weight,\n",
    "    height,\n",
    "    vol,\n",
    "    density,\n",
    "    phi_row,\n",
    "    theta_row,\n",
    "    omega_row,\n",
    "    age,\n",
    "    sex,\n",
    "    hemisphere,\n",
    "    engel\n",
    "]:\n",
    "    series.append(\n",
    "        dict(\n",
    "            sorted(\n",
    "                data.items(),\n",
    "                key=lambda item: item[0]\n",
    "            )\n",
    "        )\n",
    "    )\n",
    "df = pd.DataFrame(\n",
    "    series,\n",
    "    index=names\n",
    ")\n",
    "df = df.T\n",
    "df['sex'] = [int(sample == 'f') for sample in df['sex']]\n",
    "df['hemisphere'] = [int(sample == 'lh') for sample in df['hemisphere']]\n",
    "print(df)\n",
    "# df.to_csv('~/Documents/Global_efficiency_subjects_informativeness_Engel1&2_all_data.csv')\n",
    "# df.to_csv('~/Documents/Global_efficiency_subjects_informativeness_all_data.csv')"
   ],
   "metadata": {
    "collapsed": false,
    "pycharm": {
     "name": "#%%\n"
    }
   }
  },
  {
   "cell_type": "code",
   "execution_count": 48,
   "outputs": [
    {
     "data": {
      "text/plain": "<Figure size 432x288 with 1 Axes>",
      "image/png": "[encoded data removed]"
     },
     "metadata": {
      "needs_background": "light"
     },
     "output_type": "display_data"
    },
    {
     "data": {
      "text/plain": "<Figure size 432x288 with 1 Axes>",
      "image/png": "[encoded data removed]"
     },
     "metadata": {
      "needs_background": "light"
     },
     "output_type": "display_data"
    },
    {
     "data": {
      "text/plain": "<Figure size 432x288 with 1 Axes>",
      "image/png": "[encoded data removed]"
     },
     "metadata": {
      "needs_background": "light"
     },
     "output_type": "display_data"
    },
    {
     "data": {
      "text/plain": "<Figure size 432x288 with 1 Axes>",
      "image/png": "[encoded data removed]"
     },
     "metadata": {
      "needs_background": "light"
     },
     "output_type": "display_data"
    },
    {
     "data": {
      "text/plain": "<Figure size 432x288 with 1 Axes>",
      "image/png": "[encoded data removed]"
     },
     "metadata": {
      "needs_background": "light"
     },
     "output_type": "display_data"
    },
    {
     "data": {
      "text/plain": "<Figure size 432x288 with 1 Axes>",
      "image/png": "[encoded data removed]"
     },
     "metadata": {
      "needs_background": "light"
     },
     "output_type": "display_data"
    },
    {
     "data": {
      "text/plain": "<Figure size 432x288 with 1 Axes>",
      "image/png": "[encoded data removed]"
     },
     "metadata": {
      "needs_background": "light"
     },
     "output_type": "display_data"
    },
    {
     "data": {
      "text/plain": "<Figure size 432x288 with 1 Axes>",
      "image/png": "[encoded data removed]"
     },
     "metadata": {
      "needs_background": "light"
     },
     "output_type": "display_data"
    },
    {
     "data": {
      "text/plain": "<Figure size 432x288 with 1 Axes>",
      "image/png": "[encoded data removed]"
     },
     "metadata": {
      "needs_background": "light"
     },
     "output_type": "display_data"
    },
    {
     "data": {
      "text/plain": "<Figure size 432x288 with 1 Axes>",
      "image/png": "[encoded data removed]"
     },
     "metadata": {
      "needs_background": "light"
     },
     "output_type": "display_data"
    },
    {
     "data": {
      "text/plain": "<Figure size 432x288 with 1 Axes>",
      "image/png": "[encoded data removed]"
     },
     "metadata": {
      "needs_background": "light"
     },
     "output_type": "display_data"
    }
   ],
   "source": [
    "dfplot(df, 'age', 'accuracy', 'x')\n",
    "dfplot(df, 'phi', 'accuracy', 'x')\n",
    "dfplot(df, 'theta', 'accuracy', 'x')\n",
    "dfplot(df, 'omega', 'accuracy', 'x')\n",
    "dfplot(df, 'volume', 'accuracy', 'x')\n",
    "dfplot(df, 'depth', 'accuracy', 'x')\n",
    "dfplot(df, 'height', 'accuracy', 'x')\n",
    "dfplot(df, 'deepest', 'accuracy', 'x')\n",
    "dfplot(df, 'weight', 'accuracy', 'x')\n",
    "dfplot(df, 'density', 'accuracy', 'x')\n",
    "dfplot(df, 'size', 'accuracy', 'x')"
   ],
   "metadata": {
    "collapsed": false,
    "pycharm": {
     "name": "#%%\n"
    }
   }
  },
  {
   "cell_type": "code",
   "execution_count": 47,
   "outputs": [
    {
     "data": {
      "text/plain": "<Figure size 432x288 with 1 Axes>",
      "image/png": "[encoded data removed]"
     },
     "metadata": {
      "needs_background": "light"
     },
     "output_type": "display_data"
    },
    {
     "data": {
      "text/plain": "<Figure size 432x288 with 1 Axes>",
      "image/png": "[encoded data removed]"
     },
     "metadata": {
      "needs_background": "light"
     },
     "output_type": "display_data"
    }
   ],
   "source": [
    "p = df['depth'].to_numpy() * df['height'].to_numpy()\n",
    "plt.plot(p, df['accuracy'].to_numpy(), 'x')\n",
    "plt.xlabel('depth*height')\n",
    "plt.ylabel('accuracy')\n",
    "plt.show()\n",
    "dfplot(df, 'density', 'accuracy', 'x')"
   ],
   "metadata": {
    "collapsed": false,
    "pycharm": {
     "name": "#%%\n"
    }
   }
  },
  {
   "cell_type": "code",
   "execution_count": 19,
   "outputs": [
    {
     "name": "stdout",
     "output_type": "stream",
     "text": [
      "\n",
      "\n",
      "*****************\n",
      "\n",
      "Correlation between engel and accuracy\n",
      "SpearmannCorrCoef: 0.0\n",
      "Spearmann p-val: 1.0\n",
      "PearsonCorrCoef: 0.18220683067063703\n",
      "Pearson p-val: 0.48397180072519336\n",
      "\n",
      "*****************\n",
      "\n",
      "Correlation between hemisphere and accuracy\n",
      "SpearmannCorrCoef: 0.0\n",
      "Spearmann p-val: 1.0\n",
      "PearsonCorrCoef: 0.04589477250827872\n",
      "Pearson p-val: 0.8611530398330463\n",
      "\n",
      "*****************\n",
      "\n",
      "Correlation between sex and accuracy\n",
      "SpearmannCorrCoef: 0.1924500897298753\n",
      "Spearmann p-val: 0.45929242729052266\n",
      "PearsonCorrCoef: 0.11650960897664386\n",
      "Pearson p-val: 0.6560936976394461\n",
      "\n",
      "*****************\n",
      "\n",
      "Correlation between age and accuracy\n",
      "SpearmannCorrCoef: -0.04668318759321833\n",
      "Spearmann p-val: 0.8587901008710948\n",
      "PearsonCorrCoef: -0.05945913359674733\n",
      "Pearson p-val: 0.8206706662597498\n",
      "\n",
      "*****************\n",
      "\n",
      "Correlation between omega and accuracy\n",
      "SpearmannCorrCoef: -0.07619024583482795\n",
      "Spearmann p-val: 0.7713306932718502\n",
      "PearsonCorrCoef: -0.2895179762404799\n",
      "Pearson p-val: 0.2596828706108507\n",
      "\n",
      "*****************\n",
      "\n",
      "Correlation between phi and accuracy\n",
      "SpearmannCorrCoef: 0.09650764472411541\n",
      "Spearmann p-val: 0.7125270494505507\n",
      "PearsonCorrCoef: -0.020703835446915203\n",
      "Pearson p-val: 0.9371362416433664\n",
      "\n",
      "*****************\n",
      "\n",
      "Correlation between theta and accuracy\n",
      "SpearmannCorrCoef: 0.20571366375403546\n",
      "Spearmann p-val: 0.42830182198317657\n",
      "PearsonCorrCoef: -0.025446542307055932\n",
      "Pearson p-val: 0.9227724101755073\n",
      "\n",
      "*****************\n",
      "\n",
      "Correlation between volume and accuracy\n",
      "SpearmannCorrCoef: -0.10666634416875914\n",
      "Spearmann p-val: 0.6836677639701146\n",
      "PearsonCorrCoef: -0.3838753146722588\n",
      "Pearson p-val: 0.12821456864857658\n",
      "\n",
      "*****************\n",
      "\n",
      "Correlation between density and accuracy\n",
      "SpearmannCorrCoef: -0.17269789055894336\n",
      "Spearmann p-val: 0.507443764201116\n",
      "PearsonCorrCoef: -0.38267679098405477\n",
      "Pearson p-val: 0.1295114421585965\n",
      "\n",
      "*****************\n",
      "\n",
      "Correlation between height and accuracy\n",
      "SpearmannCorrCoef: -0.07365057097366702\n",
      "Spearmann p-val: 0.7787718358672316\n",
      "PearsonCorrCoef: -0.26474370478240933\n",
      "Pearson p-val: 0.30447053952532904\n",
      "\n",
      "*****************\n",
      "\n",
      "Correlation between weight and accuracy\n",
      "SpearmannCorrCoef: -0.14950980392156862\n",
      "Spearmann p-val: 0.5668307307163287\n",
      "PearsonCorrCoef: -0.32842045987681395\n",
      "Pearson p-val: 0.19808472568696908\n",
      "\n",
      "*****************\n",
      "\n",
      "Correlation between size and accuracy\n",
      "SpearmannCorrCoef: -0.14452202432768346\n",
      "Spearmann p-val: 0.5799821592067056\n",
      "PearsonCorrCoef: -0.32908302574284326\n",
      "Pearson p-val: 0.1971272946571016\n",
      "\n",
      "*****************\n",
      "\n",
      "Correlation between deepest and accuracy\n",
      "SpearmannCorrCoef: -0.04166666666666667\n",
      "Spearmann p-val: 0.8738435327825247\n",
      "PearsonCorrCoef: 0.027584920600558366\n",
      "Pearson p-val: 0.9163032067414676\n",
      "\n",
      "*****************\n",
      "\n",
      "Correlation between depth and accuracy\n",
      "SpearmannCorrCoef: 0.03921568627450981\n",
      "Spearmann p-val: 0.8812135857007628\n",
      "PearsonCorrCoef: -0.005190843382629762\n",
      "Pearson p-val: 0.9842251457708507\n",
      "\n",
      "*****************\n",
      "\n"
     ]
    }
   ],
   "source": [
    "sep = '\\n\\n*****************\\n'\n",
    "print(sep)\n",
    "for param in [\n",
    "    'engel',\n",
    "    'hemisphere',\n",
    "    'sex',\n",
    "    'age',\n",
    "    'omega',\n",
    "    'phi',\n",
    "    'theta',\n",
    "    'volume',\n",
    "    'density',\n",
    "    'height',\n",
    "    'weight',\n",
    "    'size',\n",
    "    'deepest',\n",
    "    'depth'\n",
    "]:\n",
    "\n",
    "    s_corr, s_p = spearmanr(df[param].to_numpy(), df['accuracy'].to_numpy())\n",
    "    p_corr, p_p = pearsonr(df[param].to_numpy(), df['accuracy'].to_numpy())\n",
    "    print(f'Correlation between {param} and accuracy\\n'\n",
    "          f'SpearmannCorrCoef: {s_corr}\\nSpearmann p-val: {s_p}\\n'\n",
    "          f'PearsonCorrCoef: {p_corr}\\nPearson p-val: {p_p}{sep}')"
   ],
   "metadata": {
    "collapsed": false,
    "pycharm": {
     "name": "#%%\n"
    }
   }
  },
  {
   "cell_type": "code",
   "execution_count": null,
   "outputs": [],
   "source": [
    "for param in ['age', 'size', 'deepest', 'weight']:\n",
    "    s_corr, s_p = spearmanr(df[param].to_numpy(), df['engel'].to_numpy())\n",
    "    p_corr, p_p = pearsonr(df[param].to_numpy(), df['engel'].to_numpy())\n",
    "    print(f'Correlation between {param} and engel\\n'\n",
    "          f'SpearmannCorrCoef: {s_corr}\\nSpearmann p-val: {s_p}\\n'\n",
    "          f'PearsonCorrCoef: {p_corr}\\nPearson p-val: {p_p}{sep}')"
   ],
   "metadata": {
    "collapsed": false,
    "pycharm": {
     "name": "#%%\n"
    }
   }
  },
  {
   "cell_type": "code",
   "execution_count": null,
   "outputs": [],
   "source": [
    "X = np.array([\n",
    "    [d, a]\n",
    "    for d, a in zip(\n",
    "        df['deepest'].to_numpy(),\n",
    "        df['age'].to_numpy()\n",
    "    )\n",
    "])\n",
    "y = df[['accuracy']].to_numpy()\n",
    "\n",
    "reg = LinearRegression().fit(X, y)\n",
    "\n",
    "\n",
    "print('Linear model for depth and age to accuracy')\n",
    "print(f'score: {reg.score(X, y)}')\n",
    "print(f'coef: {reg.coef_}')\n",
    "# intercept is the expected mean value when X=0\n",
    "print(f'intercept: {reg.intercept_}')"
   ],
   "metadata": {
    "collapsed": false,
    "pycharm": {
     "name": "#%%\n"
    }
   }
  },
  {
   "cell_type": "code",
   "execution_count": 41,
   "outputs": [
    {
     "name": "stdout",
     "output_type": "stream",
     "text": [
      "Linear model for accuracy\n",
      "score:  0.76\n"
     ]
    }
   ],
   "source": [
    "X = np.array([\n",
    "    [\n",
    "        depth,\n",
    "        # deepest, #0\n",
    "        # size, #0\n",
    "        weight, #*\n",
    "        age,\n",
    "        engel, #0\n",
    "        # sex,\n",
    "        phi,\n",
    "        theta,\n",
    "        omega, #*\n",
    "        height,\n",
    "        density, #*\n",
    "        volume,\n",
    "        # hemisphere\n",
    "    ]\n",
    "    for depth,\n",
    "        deepest,\n",
    "        size,\n",
    "        weight,\n",
    "        age,\n",
    "        engel,\n",
    "        sex,\n",
    "        phi,\n",
    "        theta,\n",
    "        omega,\n",
    "        height,\n",
    "        density,\n",
    "        volume,\n",
    "        hemisphere in zip(\n",
    "        df['depth'].to_numpy(),\n",
    "        df['deepest'].to_numpy(),\n",
    "        df['size'].to_numpy(),\n",
    "        df['weight'].to_numpy(),\n",
    "        df['age'].to_numpy(),\n",
    "        df['engel'].to_numpy(),\n",
    "        df['sex'].to_numpy(),\n",
    "        df['phi'].to_numpy(),\n",
    "        df['theta'].to_numpy(),\n",
    "        df['omega'].to_numpy(),\n",
    "        df['height'].to_numpy(),\n",
    "        df['density'].to_numpy(),\n",
    "        df['volume'].to_numpy(),\n",
    "        df['hemisphere'].to_numpy(),\n",
    "    )\n",
    "])\n",
    "y = df[['accuracy']].to_numpy()\n",
    "\n",
    "reg = LinearRegression()\n",
    "y = [val[0] for val in y]\n",
    "\n",
    "reg.fit(X, y)\n",
    "\n",
    "print('Linear model for accuracy')\n",
    "print(f'score: {reg.score(X, y): .2f}')\n",
    "# print(f'coef: {reg.coef_}')\n",
    "# print(f'intercept: {reg.intercept_}')"
   ],
   "metadata": {
    "collapsed": false,
    "pycharm": {
     "name": "#%%\n"
    }
   }
  },
  {
   "cell_type": "code",
   "execution_count": 39,
   "outputs": [
    {
     "name": "stdout",
     "output_type": "stream",
     "text": [
      "Linear model for engel\n",
      "score: 0.8987162543328111\n"
     ]
    }
   ],
   "source": [
    "X = np.array([\n",
    "    [\n",
    "        depth,\n",
    "        deepest,\n",
    "        size,\n",
    "        weight,\n",
    "        age,\n",
    "        sex,\n",
    "        phi,\n",
    "        theta,\n",
    "        omega,\n",
    "        height,\n",
    "        density,\n",
    "        # accuracy,\n",
    "        volume,\n",
    "        hemisphere\n",
    "    ]\n",
    "    for depth,\n",
    "        deepest,\n",
    "        size,\n",
    "        weight,\n",
    "        age,\n",
    "        sex,\n",
    "        phi,\n",
    "        theta,\n",
    "        omega,\n",
    "        height,\n",
    "        density,\n",
    "        accuracy,\n",
    "        volume,\n",
    "        hemisphere in zip(\n",
    "        df['depth'].to_numpy(),\n",
    "        df['deepest'].to_numpy(),\n",
    "        df['size'].to_numpy(),\n",
    "        df['weight'].to_numpy(),\n",
    "        df['age'].to_numpy(),\n",
    "        df['sex'].to_numpy(),\n",
    "        df['phi'].to_numpy(),\n",
    "        df['theta'].to_numpy(),\n",
    "        df['omega'].to_numpy(),\n",
    "        df['height'].to_numpy(),\n",
    "        df['density'].to_numpy(),\n",
    "        df[['accuracy']].to_numpy(),\n",
    "        df['volume'].to_numpy(),\n",
    "        df['hemisphere'].to_numpy(),\n",
    "    )\n",
    "])\n",
    "y = df[['engel']].to_numpy()\n",
    "y = [val[0] for val in y]\n",
    "reg = LinearRegression().fit(X, y)\n",
    "\n",
    "print('Linear model for engel')\n",
    "print(f'score: {reg.score(X, y)}')\n",
    "# print(f'coef: {reg.coef_}')\n",
    "# print(f'intercept: {reg.intercept_}')\n",
    "\n",
    "\n"
   ],
   "metadata": {
    "collapsed": false,
    "pycharm": {
     "name": "#%%\n"
    }
   }
  }
 ],
 "metadata": {
  "kernelspec": {
   "display_name": "Python 3",
   "language": "python",
   "name": "python3"
  },
  "language_info": {
   "codemirror_mode": {
    "name": "ipython",
    "version": 2
   },
   "file_extension": ".py",
   "mimetype": "text/x-python",
   "name": "python",
   "nbconvert_exporter": "python",
   "pygments_lexer": "ipython2",
   "version": "2.7.6"
  }
 },
 "nbformat": 4,
 "nbformat_minor": 0
}