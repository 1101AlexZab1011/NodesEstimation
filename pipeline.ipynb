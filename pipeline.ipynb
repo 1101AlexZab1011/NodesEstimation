{
 "cells": [
  {
   "cell_type": "code",
   "execution_count": 5,
   "outputs": [
    {
     "name": "stdout",
     "output_type": "stream",
     "text": [
      "All computation has been already done, loading of the existing file with the solution...\n",
      "dict_keys(['raw', 'raw_fp', 'bem', 'src', 'trans', 'fwd', 'eve', 'epo', 'cov', 'ave', 'inv', 'stc', 'resec', 'resec_mni', 'parc', 'coords', 'con', 'psd', 'nodes'])\n",
      "68\n",
      "spared\n"
     ]
    }
   ],
   "source": [
    "import time\n",
    "time_start = time.time()\n",
    "import re\n",
    "import os\n",
    "import numpy as np\n",
    "import scipy as sp\n",
    "import mne\n",
    "import nilearn.plotting as nplt\n",
    "import nilearn.image as image\n",
    "import pickle\n",
    "from mne.preprocessing import (ICA, create_eog_epochs, create_ecg_epochs, corrmap)\n",
    "from sklearn.metrics import roc_auc_score\n",
    "from nodestimation.node_estimate import Node\n",
    "from nodestimation.timewindow import TimeWindow, sliding_window\n",
    "import nibabel as nib\n",
    "import matplotlib.pyplot as plt\n",
    "import nodestimation.project.path as path\n",
    "from nodestimation.project.subject import Subject\n",
    "from nodestimation.pipeline import pipeline\n",
    "\n",
    "from nodestimation.project.structures import subject_data_types\n",
    "subjects = pipeline(con_method=['coh', 'imcoh', 'plv', 'ciplv', 'ppc', 'pli'],\n",
    "                    freq_diaps=[(0.5, 4), (4, 7), (7, 14), (14, 30)])\n",
    "print(subjects[0].data.keys())\n",
    "print(len(subjects[0].nodes))\n",
    "print(subjects[0].nodes[1].type)"
   ],
   "metadata": {
    "collapsed": false,
    "pycharm": {
     "name": "#%%\n"
    }
   }
  },
  {
   "cell_type": "code",
   "execution_count": null,
   "outputs": [],
   "source": [
    "fig, ax = plt.subplots()\n",
    "ax.plot(psd['0.5-4Hz']['bankssts-lh']['freq'], psd['0.5-4Hz']['bankssts-lh']['psd'].mean(axis=0))\n",
    "# ax.set_xlabel('Freq (Hz)')\n",
    "# ax.set_xlim(psd['0.5-4Hz']['bankssts-lh']['freq'][[0, -1]])\n",
    "# ax.set_ylabel('Power Spectral Density')"
   ],
   "metadata": {
    "collapsed": false,
    "pycharm": {
     "name": "#%%\n"
    }
   }
  },
  {
   "cell_type": "code",
   "execution_count": null,
   "outputs": [],
   "source": [
    "print(connectivity['0.5-4Hz']['plv']['con'].shape)\n",
    "print(connectivity['0.5-4Hz']['pli']['con'].shape)\n",
    "print(connectivity['0.5-4Hz']['ppc']['con'].shape)\n",
    "print(connectivity['0.5-4Hz']['coh']['con'].shape)\n",
    "print(connectivity['0.5-4Hz']['imcoh']['con'].shape)\n",
    "print(psd['0.5-4Hz']['bankssts-lh']['freq'].shape)"
   ],
   "metadata": {
    "collapsed": false,
    "pycharm": {
     "name": "#%%\n"
    }
   }
  },
  {
   "cell_type": "code",
   "execution_count": null,
   "outputs": [],
   "source": [
    "con = connectivity['0.5-4Hz']['imcoh-based']['con'][:, :, 0]\n",
    "\n",
    "con_s = np.zeros(con.shape)\n",
    "for i in range(con.shape[0]):\n",
    "    for j in range(con.shape[1]):\n",
    "        con_s[j, i] = con[i, j]\n",
    "# print('con')\n",
    "# for i in range(con.shape[0]):\n",
    "#     print(con[i, 0:10])\n",
    "# print('con_s')\n",
    "# for i in range(con.shape[0]):\n",
    "#     print(con_s[i, 0:10])\n",
    "\n",
    "plt.imshow(con)\n",
    "plt.show()\n",
    "plt.imshow(con.T)\n",
    "plt.show()\n",
    "plt.imshow(con + con_s)\n",
    "plt.show()"
   ],
   "metadata": {
    "collapsed": false,
    "pycharm": {
     "name": "#%%\n"
    }
   }
  },
  {
   "cell_type": "code",
   "execution_count": null,
   "outputs": [],
   "source": [
    "label_names = [label.name for label in labels]\n",
    "lh_labels = [name for name in label_names if name.endswith('lh')]\n",
    "rh_labels = [name for name in label_names if name.endswith('rh')]\n",
    "\n",
    "label_ypos_lh = list()\n",
    "\n",
    "for name in lh_labels:\n",
    "    idx = label_names.index(name)\n",
    "    ypos = np.mean(labels[idx].pos[:, 1])\n",
    "    label_ypos_lh.append(ypos)\n",
    "\n",
    "try:\n",
    "    idx = label_names.index('Brain-Stem')\n",
    "\n",
    "except ValueError:\n",
    "    pass\n",
    "\n",
    "else:\n",
    "    ypos = np.mean(labels[idx].pos[:, 1])\n",
    "    lh_labels.append('Brain-Stem')\n",
    "    label_ypos_lh.append(ypos)\n",
    "\n",
    "\n",
    "lh_labels = [label for (yp, label) in sorted(zip(label_ypos_lh, lh_labels))]\n",
    "\n",
    "rh_labels = [label[:-2] + 'rh' for label in lh_labels\n",
    "             if label != 'Brain-Stem' and label[:-2] + 'rh' in rh_labels]\n",
    "\n",
    "\n",
    "node_colors = [label.color for label in labels]\n",
    "\n",
    "node_order = lh_labels[::-1] + rh_labels\n",
    "\n",
    "node_angles = mne.viz.circular_layout(label_names, node_order, start_pos=90,\n",
    "                              group_boundaries=[0, len(label_names) // 2])"
   ],
   "metadata": {
    "collapsed": false,
    "pycharm": {
     "name": "#%%\n"
    }
   }
  },
  {
   "cell_type": "code",
   "execution_count": null,
   "outputs": [],
   "source": [
    "print(connectivity.keys())\n",
    "print(connectivity['0.5-4Hz'].keys())\n",
    "print(connectivity['0.5-4Hz']['coh-based'].keys())"
   ],
   "metadata": {
    "collapsed": false,
    "pycharm": {
     "name": "#%%\n"
    }
   }
  },
  {
   "cell_type": "code",
   "execution_count": null,
   "outputs": [],
   "source": [
    "# for freq_band in connectivity:\n",
    "#     for method in connectivity[freq_band]:\n",
    "#         fig = plt.figure(num=None, figsize=(8, 8), facecolor='black')\n",
    "#         mne.viz.plot_connectivity_circle(connectivity[freq_band][method]['con'][:, :, 0], label_names, n_lines=300,\n",
    "#                      node_angles=node_angles, node_colors=node_colors,\n",
    "#                      title='All-to-All Connectivity Epilepsy '\n",
    "#                      'Condition ({} for {})'.format(method, freq_band), fig=fig)\n",
    "\n",
    "methods = [\n",
    "    'coh-based',\n",
    "    'imcoh-based',\n",
    "    'plv-based',\n",
    "    'ppc-based',\n",
    "    'pli-based'\n",
    "]\n",
    "\n",
    "freq_bands = [\n",
    "    '0.5-4Hz',\n",
    "    '4-7Hz',\n",
    "    '7-14Hz',\n",
    "    '14-30Hz'\n",
    "]\n",
    "\n",
    "for method in methods:\n",
    "    for freq_band in freq_bands:\n",
    "        fig = plt.figure(num=None, figsize=(25, 25), facecolor='black')\n",
    "        mne.viz.plot_connectivity_circle(connectivity[freq_band][method]['con'][:, :, 0], label_names, n_lines=300,\n",
    "                                         node_angles=node_angles, node_colors=node_colors,\n",
    "                                         title='All-to-All Connectivity Epilepsy Condition ({} for {})'\n",
    "                                         .format(method, freq_band), padding=8, fontsize_title=35, fontsize_colorbar=25,\n",
    "                                         fontsize_names=20, fig=fig\n",
    "                                         )"
   ],
   "metadata": {
    "collapsed": false,
    "pycharm": {
     "name": "#%%\n"
    }
   }
  },
  {
   "cell_type": "code",
   "execution_count": null,
   "outputs": [],
   "source": [
    "del stc, src, raw, fwd,\\\n",
    "    bem, labels, label_ts, inv, cov\n"
   ],
   "metadata": {
    "collapsed": false,
    "pycharm": {
     "name": "#%%\n"
    }
   }
  }
 ],
 "metadata": {
  "kernelspec": {
   "display_name": "Python 3",
   "language": "python",
   "name": "python3"
  },
  "language_info": {
   "codemirror_mode": {
    "name": "ipython",
    "version": 3
   },
   "file_extension": ".py",
   "mimetype": "text/x-python",
   "name": "python",
   "nbconvert_exporter": "python",
   "pygments_lexer": "ipython3",
   "version": "3.8.5"
  }
 },
 "nbformat": 4,
 "nbformat_minor": 1
}