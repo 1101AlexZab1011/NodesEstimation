{
 "cells": [
  {
   "cell_type": "code",
   "execution_count": null,
   "outputs": [],
   "source": [
    "from typing import Union\n",
    "import numpy as np\n",
    "import scipy as sp\n",
    "import mne\n",
    "from sklearn.ensemble import RandomForestClassifier\n",
    "from nodestimation.learning.selection import collect_statistic, \\\n",
    "    compute_importance, collect_cross_statistic, make_selection_map, \\\n",
    "    select, separate_datasets, selected_statistic, choose_best, selected_data, make_feature_selection\n",
    "from nodestimation.project import  find_subject_dir\n",
    "from nodestimation.pipeline import pipeline\n",
    "import pandas as pd\n",
    "import matplotlib.pyplot as plt\n",
    "from sklearn.ensemble import RandomForestClassifier\n",
    "import nilearn.plotting as nplt\n",
    "from nodestimation.project.actions import read\n",
    "import nodestimation as nd"
   ],
   "metadata": {
    "collapsed": false,
    "pycharm": {
     "name": "#%%\n"
    }
   }
  },
  {
   "cell_type": "code",
   "execution_count": 2,
   "outputs": [
    {
     "name": "stdout",
     "output_type": "stream",
     "text": [
      "All computation has been already done, loading of the existing file with the solution...\n"
     ]
    }
   ],
   "source": [
    "subjects = pipeline(methods=['wpli', 'psd'],\n",
    "                    freq_bands=[(0.5, 4), (4, 7), (7, 14), (14, 30), (30, 70)])"
   ],
   "metadata": {
    "collapsed": false,
    "pycharm": {
     "name": "#%%\n"
    }
   }
  },
  {
   "cell_type": "code",
   "execution_count": 15,
   "outputs": [
    {
     "name": "stdout",
     "output_type": "stream",
     "text": [
      "B1C2  {\n",
      "\t raw :  ./Source/Subjects/B1C2/tsss_mc_artefact_correction/B1C2_ii_run1_raw_tsss_mc_art_corr.fif\n",
      "\t raw_fp :  ./Source/Subjects/B1C2/0b775da1cfb228c22f8b937af7ab24f1/B1C2_node_estimation_pipeline_file_first_processing_output_raw.fif\n",
      "\t bem :  ./Source/Subjects/B1C2/forward_model/bem_solution.fif\n",
      "\t src :  ./Source/Subjects/B1C2/forward_model/source_spaces_ico5.fif\n",
      "\t trans :  ./Source/Subjects/B1C2/forward_model/checked_visually_trans.fif\n",
      "\t fwd :  ./Source/Subjects/B1C2/forward_model/forward_ico5.fif\n",
      "\t eve :  ./Source/Subjects/B1C2/0b775da1cfb228c22f8b937af7ab24f1/B1C2_node_estimation_pipeline_file_events_computation_output_eve.fif\n",
      "\t epo :  ./Source/Subjects/B1C2/0b775da1cfb228c22f8b937af7ab24f1/B1C2_node_estimation_pipeline_file_epochs_computation_output_epo.fif\n",
      "\t cov :  ./Source/Subjects/B1C2/0b775da1cfb228c22f8b937af7ab24f1/B1C2_node_estimation_pipeline_file_noise_covariance_computation_output_cov.fif\n",
      "\t ave :  ./Source/Subjects/B1C2/0b775da1cfb228c22f8b937af7ab24f1/B1C2_node_estimation_pipeline_file_evokeds_computation_output_ave.fif\n",
      "\t inv :  ./Source/Subjects/B1C2/0b775da1cfb228c22f8b937af7ab24f1/B1C2_node_estimation_pipeline_file_inverse_computation_output_inv.fif\n",
      "\t stc :  ./Source/Subjects/B1C2/0b775da1cfb228c22f8b937af7ab24f1/B1C2_node_estimation_pipeline_file_source_estimation_output_stc.pkl\n",
      "\t resec :  ./Source/Subjects/B1C2/resection/resection.nii\n",
      "\t resec_txt :  None\n",
      "\t resec_mni :  ./Source/Subjects/B1C2/0b775da1cfb228c22f8b937af7ab24f1/B1C2_node_estimation_pipeline_file_resection_area_computation_output_resec_mni.pkl\n",
      "\t parc :  ./Source/Subjects/B1C2/0b775da1cfb228c22f8b937af7ab24f1/B1C2_node_estimation_pipeline_file_parcellation_creating_output_parc.pkl\n",
      "\t coords :  ./Source/Subjects/B1C2/0b775da1cfb228c22f8b937af7ab24f1/B1C2_node_estimation_pipeline_file_coordinates_computation_output_coords.pkl\n",
      "\t feat :  ./Source/Subjects/B1C2/0b775da1cfb228c22f8b937af7ab24f1/B1C2_node_estimation_pipeline_file_features_computation_output_feat.pkl\n",
      "\t nodes :  ./Source/Subjects/B1C2/0b775da1cfb228c22f8b937af7ab24f1/B1C2_node_estimation_pipeline_file_nodes_creation_output_nodes.pkl\n",
      "\t dataset :  ./Source/Subjects/B1C2/0b775da1cfb228c22f8b937af7ab24f1/B1C2_node_estimation_pipeline_file_prepare_data_output_dataset.csv\n",
      "}\n",
      "J1T2  {\n",
      "\t raw :  ./Source/Subjects/J1T2/tsss_mc_artefact_correction/J1T2_i_run3_raw_tsss_mc_art_corr.fif\n",
      "\t raw_fp :  ./Source/Subjects/J1T2/0b775da1cfb228c22f8b937af7ab24f1/J1T2_node_estimation_pipeline_file_first_processing_output_raw.fif\n",
      "\t bem :  ./Source/Subjects/J1T2/forward_model/bem_solution.fif\n",
      "\t src :  ./Source/Subjects/J1T2/forward_model/source_spaces_ico5.fif\n",
      "\t trans :  ./Source/Subjects/J1T2/forward_model/checked_visually_trans.fif\n",
      "\t fwd :  ./Source/Subjects/J1T2/forward_model/forward_ico5.fif\n",
      "\t eve :  ./Source/Subjects/J1T2/0b775da1cfb228c22f8b937af7ab24f1/J1T2_node_estimation_pipeline_file_events_computation_output_eve.fif\n",
      "\t epo :  ./Source/Subjects/J1T2/0b775da1cfb228c22f8b937af7ab24f1/J1T2_node_estimation_pipeline_file_epochs_computation_output_epo.fif\n",
      "\t cov :  ./Source/Subjects/J1T2/0b775da1cfb228c22f8b937af7ab24f1/J1T2_node_estimation_pipeline_file_noise_covariance_computation_output_cov.fif\n",
      "\t ave :  ./Source/Subjects/J1T2/0b775da1cfb228c22f8b937af7ab24f1/J1T2_node_estimation_pipeline_file_evokeds_computation_output_ave.fif\n",
      "\t inv :  ./Source/Subjects/J1T2/0b775da1cfb228c22f8b937af7ab24f1/J1T2_node_estimation_pipeline_file_inverse_computation_output_inv.fif\n",
      "\t stc :  ./Source/Subjects/J1T2/0b775da1cfb228c22f8b937af7ab24f1/J1T2_node_estimation_pipeline_file_source_estimation_output_stc.pkl\n",
      "\t resec :  ./Source/Subjects/J1T2/resection/resection.nii\n",
      "\t resec_txt :  None\n",
      "\t resec_mni :  ./Source/Subjects/J1T2/0b775da1cfb228c22f8b937af7ab24f1/J1T2_node_estimation_pipeline_file_resection_area_computation_output_resec_mni.pkl\n",
      "\t parc :  ./Source/Subjects/J1T2/0b775da1cfb228c22f8b937af7ab24f1/J1T2_node_estimation_pipeline_file_parcellation_creating_output_parc.pkl\n",
      "\t coords :  ./Source/Subjects/J1T2/0b775da1cfb228c22f8b937af7ab24f1/J1T2_node_estimation_pipeline_file_coordinates_computation_output_coords.pkl\n",
      "\t feat :  ./Source/Subjects/J1T2/0b775da1cfb228c22f8b937af7ab24f1/J1T2_node_estimation_pipeline_file_features_computation_output_feat.pkl\n",
      "\t nodes :  ./Source/Subjects/J1T2/0b775da1cfb228c22f8b937af7ab24f1/J1T2_node_estimation_pipeline_file_nodes_creation_output_nodes.pkl\n",
      "\t dataset :  ./Source/Subjects/J1T2/0b775da1cfb228c22f8b937af7ab24f1/J1T2_node_estimation_pipeline_file_prepare_data_output_dataset.csv\n",
      "}\n",
      "S1H1  {\n",
      "\t raw :  ./Source/Subjects/S1H1/tsss_mc_artefact_correction/S1H1_ii_2_raw_tsss_w4_corr0.8_mc_art_corr.fif\n",
      "\t raw_fp :  ./Source/Subjects/S1H1/0b775da1cfb228c22f8b937af7ab24f1/S1H1_node_estimation_pipeline_file_first_processing_output_raw.fif\n",
      "\t bem :  ./Source/Subjects/S1H1/forward_model/bem_solution.fif\n",
      "\t src :  ./Source/Subjects/S1H1/forward_model/source_spaces_ico5.fif\n",
      "\t trans :  ./Source/Subjects/S1H1/forward_model/checked_visually_trans.fif\n",
      "\t fwd :  ./Source/Subjects/S1H1/forward_model/forward_ico5.fif\n",
      "\t eve :  ./Source/Subjects/S1H1/0b775da1cfb228c22f8b937af7ab24f1/S1H1_node_estimation_pipeline_file_events_computation_output_eve.fif\n",
      "\t epo :  ./Source/Subjects/S1H1/0b775da1cfb228c22f8b937af7ab24f1/S1H1_node_estimation_pipeline_file_epochs_computation_output_epo.fif\n",
      "\t cov :  ./Source/Subjects/S1H1/0b775da1cfb228c22f8b937af7ab24f1/S1H1_node_estimation_pipeline_file_noise_covariance_computation_output_cov.fif\n",
      "\t ave :  ./Source/Subjects/S1H1/0b775da1cfb228c22f8b937af7ab24f1/S1H1_node_estimation_pipeline_file_evokeds_computation_output_ave.fif\n",
      "\t inv :  ./Source/Subjects/S1H1/0b775da1cfb228c22f8b937af7ab24f1/S1H1_node_estimation_pipeline_file_inverse_computation_output_inv.fif\n",
      "\t stc :  ./Source/Subjects/S1H1/0b775da1cfb228c22f8b937af7ab24f1/S1H1_node_estimation_pipeline_file_source_estimation_output_stc.pkl\n",
      "\t resec :  ./Source/Subjects/S1H1/resection/resection.nii\n",
      "\t resec_txt :  None\n",
      "\t resec_mni :  ./Source/Subjects/S1H1/0b775da1cfb228c22f8b937af7ab24f1/S1H1_node_estimation_pipeline_file_resection_area_computation_output_resec_mni.pkl\n",
      "\t parc :  ./Source/Subjects/S1H1/0b775da1cfb228c22f8b937af7ab24f1/S1H1_node_estimation_pipeline_file_parcellation_creating_output_parc.pkl\n",
      "\t coords :  ./Source/Subjects/S1H1/0b775da1cfb228c22f8b937af7ab24f1/S1H1_node_estimation_pipeline_file_coordinates_computation_output_coords.pkl\n",
      "\t feat :  ./Source/Subjects/S1H1/0b775da1cfb228c22f8b937af7ab24f1/S1H1_node_estimation_pipeline_file_features_computation_output_feat.pkl\n",
      "\t nodes :  ./Source/Subjects/S1H1/0b775da1cfb228c22f8b937af7ab24f1/S1H1_node_estimation_pipeline_file_nodes_creation_output_nodes.pkl\n",
      "\t dataset :  ./Source/Subjects/S1H1/0b775da1cfb228c22f8b937af7ab24f1/S1H1_node_estimation_pipeline_file_prepare_data_output_dataset.csv\n",
      "}\n",
      "M1G2  {\n",
      "\t raw :  ./Source/Subjects/M1G2/tsss_mc_artefact_correction/M1G2_ii_run1_raw_tsss_mc_art_corr.fif\n",
      "\t raw_fp :  ./Source/Subjects/M1G2/0b775da1cfb228c22f8b937af7ab24f1/M1G2_node_estimation_pipeline_file_first_processing_output_raw.fif\n",
      "\t bem :  ./Source/Subjects/M1G2/forward_model/bem_solution.fif\n",
      "\t src :  ./Source/Subjects/M1G2/forward_model/source_spaces_ico5.fif\n",
      "\t trans :  ./Source/Subjects/M1G2/forward_model/checked_visually_trans.fif\n",
      "\t fwd :  ./Source/Subjects/M1G2/forward_model/forward_ico5.fif\n",
      "\t eve :  ./Source/Subjects/M1G2/0b775da1cfb228c22f8b937af7ab24f1/M1G2_node_estimation_pipeline_file_events_computation_output_eve.fif\n",
      "\t epo :  ./Source/Subjects/M1G2/0b775da1cfb228c22f8b937af7ab24f1/M1G2_node_estimation_pipeline_file_epochs_computation_output_epo.fif\n",
      "\t cov :  ./Source/Subjects/M1G2/0b775da1cfb228c22f8b937af7ab24f1/M1G2_node_estimation_pipeline_file_noise_covariance_computation_output_cov.fif\n",
      "\t ave :  ./Source/Subjects/M1G2/0b775da1cfb228c22f8b937af7ab24f1/M1G2_node_estimation_pipeline_file_evokeds_computation_output_ave.fif\n",
      "\t inv :  ./Source/Subjects/M1G2/0b775da1cfb228c22f8b937af7ab24f1/M1G2_node_estimation_pipeline_file_inverse_computation_output_inv.fif\n",
      "\t stc :  ./Source/Subjects/M1G2/0b775da1cfb228c22f8b937af7ab24f1/M1G2_node_estimation_pipeline_file_source_estimation_output_stc.pkl\n",
      "\t resec :  None\n",
      "\t resec_txt :  ./Source/Subjects/M1G2/resection/resection.txt\n",
      "\t resec_mni :  None\n",
      "\t parc :  ./Source/Subjects/M1G2/0b775da1cfb228c22f8b937af7ab24f1/M1G2_node_estimation_pipeline_file_parcellation_creating_output_parc.pkl\n",
      "\t coords :  ./Source/Subjects/M1G2/0b775da1cfb228c22f8b937af7ab24f1/M1G2_node_estimation_pipeline_file_coordinates_computation_output_coords.pkl\n",
      "\t feat :  ./Source/Subjects/M1G2/0b775da1cfb228c22f8b937af7ab24f1/M1G2_node_estimation_pipeline_file_features_computation_output_feat.pkl\n",
      "\t nodes :  None\n",
      "\t dataset :  None\n",
      "}\n",
      "S1B1  {\n",
      "\t raw :  ./Source/Subjects/S1B1/tsss_mc_artefact_correction/S1B1_ii_run2_raw_tsss_mc_art_corr.fif\n",
      "\t raw_fp :  ./Source/Subjects/S1B1/0b775da1cfb228c22f8b937af7ab24f1/S1B1_node_estimation_pipeline_file_first_processing_output_raw.fif\n",
      "\t bem :  ./Source/Subjects/S1B1/forward_model/bem_solution.fif\n",
      "\t src :  ./Source/Subjects/S1B1/forward_model/source_spaces_ico5.fif\n",
      "\t trans :  ./Source/Subjects/S1B1/forward_model/checked_visually_trans.fif\n",
      "\t fwd :  ./Source/Subjects/S1B1/forward_model/forward_ico5.fif\n",
      "\t eve :  ./Source/Subjects/S1B1/0b775da1cfb228c22f8b937af7ab24f1/S1B1_node_estimation_pipeline_file_events_computation_output_eve.fif\n",
      "\t epo :  ./Source/Subjects/S1B1/0b775da1cfb228c22f8b937af7ab24f1/S1B1_node_estimation_pipeline_file_epochs_computation_output_epo.fif\n",
      "\t cov :  ./Source/Subjects/S1B1/0b775da1cfb228c22f8b937af7ab24f1/S1B1_node_estimation_pipeline_file_noise_covariance_computation_output_cov.fif\n",
      "\t ave :  ./Source/Subjects/S1B1/0b775da1cfb228c22f8b937af7ab24f1/S1B1_node_estimation_pipeline_file_evokeds_computation_output_ave.fif\n",
      "\t inv :  ./Source/Subjects/S1B1/0b775da1cfb228c22f8b937af7ab24f1/S1B1_node_estimation_pipeline_file_inverse_computation_output_inv.fif\n",
      "\t stc :  ./Source/Subjects/S1B1/0b775da1cfb228c22f8b937af7ab24f1/S1B1_node_estimation_pipeline_file_source_estimation_output_stc.pkl\n",
      "\t resec :  None\n",
      "\t resec_txt :  ./Source/Subjects/S1B1/resection/resection.txt\n",
      "\t resec_mni :  None\n",
      "\t parc :  ./Source/Subjects/S1B1/0b775da1cfb228c22f8b937af7ab24f1/S1B1_node_estimation_pipeline_file_parcellation_creating_output_parc.pkl\n",
      "\t coords :  ./Source/Subjects/S1B1/0b775da1cfb228c22f8b937af7ab24f1/S1B1_node_estimation_pipeline_file_coordinates_computation_output_coords.pkl\n",
      "\t feat :  ./Source/Subjects/S1B1/0b775da1cfb228c22f8b937af7ab24f1/S1B1_node_estimation_pipeline_file_features_computation_output_feat.pkl\n",
      "\t nodes :  None\n",
      "\t dataset :  None\n",
      "}\n",
      "M1N2  {\n",
      "\t raw :  ./Source/Subjects/M1N2/tsss_mc_artefact_correction/M1N2_i_run6_raw_tsss_mc_art_corr.fif\n",
      "\t raw_fp :  ./Source/Subjects/M1N2/0b775da1cfb228c22f8b937af7ab24f1/M1N2_node_estimation_pipeline_file_first_processing_output_raw.fif\n",
      "\t bem :  ./Source/Subjects/M1N2/forward_model/bem_solution.fif\n",
      "\t src :  ./Source/Subjects/M1N2/forward_model/source_spaces_ico5.fif\n",
      "\t trans :  ./Source/Subjects/M1N2/forward_model/checked_visually_trans.fif\n",
      "\t fwd :  ./Source/Subjects/M1N2/forward_model/forward_ico5.fif\n",
      "\t eve :  ./Source/Subjects/M1N2/0b775da1cfb228c22f8b937af7ab24f1/M1N2_node_estimation_pipeline_file_events_computation_output_eve.fif\n",
      "\t epo :  ./Source/Subjects/M1N2/0b775da1cfb228c22f8b937af7ab24f1/M1N2_node_estimation_pipeline_file_epochs_computation_output_epo.fif\n",
      "\t cov :  ./Source/Subjects/M1N2/0b775da1cfb228c22f8b937af7ab24f1/M1N2_node_estimation_pipeline_file_noise_covariance_computation_output_cov.fif\n",
      "\t ave :  ./Source/Subjects/M1N2/0b775da1cfb228c22f8b937af7ab24f1/M1N2_node_estimation_pipeline_file_evokeds_computation_output_ave.fif\n",
      "\t inv :  ./Source/Subjects/M1N2/0b775da1cfb228c22f8b937af7ab24f1/M1N2_node_estimation_pipeline_file_inverse_computation_output_inv.fif\n",
      "\t stc :  ./Source/Subjects/M1N2/0b775da1cfb228c22f8b937af7ab24f1/M1N2_node_estimation_pipeline_file_source_estimation_output_stc.pkl\n",
      "\t resec :  None\n",
      "\t resec_txt :  ./Source/Subjects/M1N2/resection/resection.txt\n",
      "\t resec_mni :  None\n",
      "\t parc :  ./Source/Subjects/M1N2/0b775da1cfb228c22f8b937af7ab24f1/M1N2_node_estimation_pipeline_file_parcellation_creating_output_parc.pkl\n",
      "\t coords :  ./Source/Subjects/M1N2/0b775da1cfb228c22f8b937af7ab24f1/M1N2_node_estimation_pipeline_file_coordinates_computation_output_coords.pkl\n",
      "\t feat :  ./Source/Subjects/M1N2/0b775da1cfb228c22f8b937af7ab24f1/M1N2_node_estimation_pipeline_file_features_computation_output_feat.pkl\n",
      "\t nodes :  None\n",
      "\t dataset :  None\n",
      "}\n",
      "R1D2  {\n",
      "\t raw :  ./Source/Subjects/R1D2/tsss_mc_artefact_correction/R1D2_ii_run1_raw_tsss_mc_art_corr.fif\n",
      "\t raw_fp :  ./Source/Subjects/R1D2/0b775da1cfb228c22f8b937af7ab24f1/R1D2_node_estimation_pipeline_file_first_processing_output_raw.fif\n",
      "\t bem :  ./Source/Subjects/R1D2/forward_model/bem_solution.fif\n",
      "\t src :  ./Source/Subjects/R1D2/forward_model/source_spaces_ico5.fif\n",
      "\t trans :  ./Source/Subjects/R1D2/forward_model/checked_visually_trans.fif\n",
      "\t fwd :  ./Source/Subjects/R1D2/forward_model/forward_ico5.fif\n",
      "\t eve :  ./Source/Subjects/R1D2/0b775da1cfb228c22f8b937af7ab24f1/R1D2_node_estimation_pipeline_file_events_computation_output_eve.fif\n",
      "\t epo :  ./Source/Subjects/R1D2/0b775da1cfb228c22f8b937af7ab24f1/R1D2_node_estimation_pipeline_file_epochs_computation_output_epo.fif\n",
      "\t cov :  ./Source/Subjects/R1D2/0b775da1cfb228c22f8b937af7ab24f1/R1D2_node_estimation_pipeline_file_noise_covariance_computation_output_cov.fif\n",
      "\t ave :  ./Source/Subjects/R1D2/0b775da1cfb228c22f8b937af7ab24f1/R1D2_node_estimation_pipeline_file_evokeds_computation_output_ave.fif\n",
      "\t inv :  ./Source/Subjects/R1D2/0b775da1cfb228c22f8b937af7ab24f1/R1D2_node_estimation_pipeline_file_inverse_computation_output_inv.fif\n",
      "\t stc :  ./Source/Subjects/R1D2/0b775da1cfb228c22f8b937af7ab24f1/R1D2_node_estimation_pipeline_file_source_estimation_output_stc.pkl\n",
      "\t resec :  ./Source/Subjects/R1D2/resection/resection.nii\n",
      "\t resec_txt :  None\n",
      "\t resec_mni :  ./Source/Subjects/R1D2/0b775da1cfb228c22f8b937af7ab24f1/R1D2_node_estimation_pipeline_file_resection_area_computation_output_resec_mni.pkl\n",
      "\t parc :  ./Source/Subjects/R1D2/0b775da1cfb228c22f8b937af7ab24f1/R1D2_node_estimation_pipeline_file_parcellation_creating_output_parc.pkl\n",
      "\t coords :  ./Source/Subjects/R1D2/0b775da1cfb228c22f8b937af7ab24f1/R1D2_node_estimation_pipeline_file_coordinates_computation_output_coords.pkl\n",
      "\t feat :  ./Source/Subjects/R1D2/0b775da1cfb228c22f8b937af7ab24f1/R1D2_node_estimation_pipeline_file_features_computation_output_feat.pkl\n",
      "\t nodes :  None\n",
      "\t dataset :  None\n",
      "}\n",
      "G1R1  {\n",
      "\t raw :  ./Source/Subjects/G1R1/tsss_mc_artefact_correction/G1R1_i_run5_raw_tsss_mc_art_corr.fif\n",
      "\t raw_fp :  ./Source/Subjects/G1R1/0b775da1cfb228c22f8b937af7ab24f1/G1R1_node_estimation_pipeline_file_first_processing_output_raw.fif\n",
      "\t bem :  ./Source/Subjects/G1R1/forward_model/bem_solution.fif\n",
      "\t src :  ./Source/Subjects/G1R1/forward_model/source_spaces_ico5.fif\n",
      "\t trans :  ./Source/Subjects/G1R1/forward_model/checked_visually_trans.fif\n",
      "\t fwd :  ./Source/Subjects/G1R1/forward_model/forward_ico5.fif\n",
      "\t eve :  ./Source/Subjects/G1R1/0b775da1cfb228c22f8b937af7ab24f1/G1R1_node_estimation_pipeline_file_events_computation_output_eve.fif\n",
      "\t epo :  ./Source/Subjects/G1R1/0b775da1cfb228c22f8b937af7ab24f1/G1R1_node_estimation_pipeline_file_epochs_computation_output_epo.fif\n",
      "\t cov :  ./Source/Subjects/G1R1/0b775da1cfb228c22f8b937af7ab24f1/G1R1_node_estimation_pipeline_file_noise_covariance_computation_output_cov.fif\n",
      "\t ave :  ./Source/Subjects/G1R1/0b775da1cfb228c22f8b937af7ab24f1/G1R1_node_estimation_pipeline_file_evokeds_computation_output_ave.fif\n",
      "\t inv :  ./Source/Subjects/G1R1/0b775da1cfb228c22f8b937af7ab24f1/G1R1_node_estimation_pipeline_file_inverse_computation_output_inv.fif\n",
      "\t stc :  ./Source/Subjects/G1R1/0b775da1cfb228c22f8b937af7ab24f1/G1R1_node_estimation_pipeline_file_source_estimation_output_stc.pkl\n",
      "\t resec :  None\n",
      "\t resec_txt :  ./Source/Subjects/G1R1/resection/G1R1_resectionimcplete.txt\n",
      "\t resec_mni :  None\n",
      "\t parc :  ./Source/Subjects/G1R1/0b775da1cfb228c22f8b937af7ab24f1/G1R1_node_estimation_pipeline_file_parcellation_creating_output_parc.pkl\n",
      "\t coords :  ./Source/Subjects/G1R1/0b775da1cfb228c22f8b937af7ab24f1/G1R1_node_estimation_pipeline_file_coordinates_computation_output_coords.pkl\n",
      "\t feat :  ./Source/Subjects/G1R1/0b775da1cfb228c22f8b937af7ab24f1/G1R1_node_estimation_pipeline_file_features_computation_output_feat.pkl\n",
      "\t nodes :  None\n",
      "\t dataset :  None\n",
      "}\n",
      "O1O2  {\n",
      "\t raw :  ./Source/Subjects/O1O2/tsss_mc_artefact_correction/O1O2_ii_run2_raw_tsss_mc_art_corr.fif\n",
      "\t raw_fp :  ./Source/Subjects/O1O2/0b775da1cfb228c22f8b937af7ab24f1/O1O2_node_estimation_pipeline_file_first_processing_output_raw.fif\n",
      "\t bem :  ./Source/Subjects/O1O2/forward_model/bem_solution.fif\n",
      "\t src :  ./Source/Subjects/O1O2/forward_model/source_spaces_ico5.fif\n",
      "\t trans :  ./Source/Subjects/O1O2/forward_model/checked_visually_trans.fif\n",
      "\t fwd :  ./Source/Subjects/O1O2/forward_model/forward_ico5.fif\n",
      "\t eve :  ./Source/Subjects/O1O2/0b775da1cfb228c22f8b937af7ab24f1/O1O2_node_estimation_pipeline_file_events_computation_output_eve.fif\n",
      "\t epo :  ./Source/Subjects/O1O2/0b775da1cfb228c22f8b937af7ab24f1/O1O2_node_estimation_pipeline_file_epochs_computation_output_epo.fif\n",
      "\t cov :  ./Source/Subjects/O1O2/0b775da1cfb228c22f8b937af7ab24f1/O1O2_node_estimation_pipeline_file_noise_covariance_computation_output_cov.fif\n",
      "\t ave :  ./Source/Subjects/O1O2/0b775da1cfb228c22f8b937af7ab24f1/O1O2_node_estimation_pipeline_file_evokeds_computation_output_ave.fif\n",
      "\t inv :  ./Source/Subjects/O1O2/0b775da1cfb228c22f8b937af7ab24f1/O1O2_node_estimation_pipeline_file_inverse_computation_output_inv.fif\n",
      "\t stc :  ./Source/Subjects/O1O2/0b775da1cfb228c22f8b937af7ab24f1/O1O2_node_estimation_pipeline_file_source_estimation_output_stc.pkl\n",
      "\t resec :  None\n",
      "\t resec_txt :  ./Source/Subjects/O1O2/resection/resection.txt\n",
      "\t resec_mni :  None\n",
      "\t parc :  ./Source/Subjects/O1O2/0b775da1cfb228c22f8b937af7ab24f1/O1O2_node_estimation_pipeline_file_parcellation_creating_output_parc.pkl\n",
      "\t coords :  ./Source/Subjects/O1O2/0b775da1cfb228c22f8b937af7ab24f1/O1O2_node_estimation_pipeline_file_coordinates_computation_output_coords.pkl\n",
      "\t feat :  ./Source/Subjects/O1O2/0b775da1cfb228c22f8b937af7ab24f1/O1O2_node_estimation_pipeline_file_features_computation_output_feat.pkl\n",
      "\t nodes :  None\n",
      "\t dataset :  None\n",
      "}\n",
      "B1R1  {\n",
      "\t raw :  ./Source/Subjects/B1R1/tsss_mc_artefact_correction/B1R1_i_run1_raw_tsss_mc_art_corr.fif\n",
      "\t raw_fp :  ./Source/Subjects/B1R1/0b775da1cfb228c22f8b937af7ab24f1/B1R1_node_estimation_pipeline_file_first_processing_output_raw.fif\n",
      "\t bem :  ./Source/Subjects/B1R1/forward_model/bem_solution.fif\n",
      "\t src :  ./Source/Subjects/B1R1/forward_model/source_spaces_ico5.fif\n",
      "\t trans :  ./Source/Subjects/B1R1/forward_model/checked_visually_trans.fif\n",
      "\t fwd :  ./Source/Subjects/B1R1/forward_model/forward_ico5.fif\n",
      "\t eve :  ./Source/Subjects/B1R1/0b775da1cfb228c22f8b937af7ab24f1/B1R1_node_estimation_pipeline_file_events_computation_output_eve.fif\n",
      "\t epo :  ./Source/Subjects/B1R1/0b775da1cfb228c22f8b937af7ab24f1/B1R1_node_estimation_pipeline_file_epochs_computation_output_epo.fif\n",
      "\t cov :  ./Source/Subjects/B1R1/0b775da1cfb228c22f8b937af7ab24f1/B1R1_node_estimation_pipeline_file_noise_covariance_computation_output_cov.fif\n",
      "\t ave :  ./Source/Subjects/B1R1/0b775da1cfb228c22f8b937af7ab24f1/B1R1_node_estimation_pipeline_file_evokeds_computation_output_ave.fif\n",
      "\t inv :  ./Source/Subjects/B1R1/0b775da1cfb228c22f8b937af7ab24f1/B1R1_node_estimation_pipeline_file_inverse_computation_output_inv.fif\n",
      "\t stc :  ./Source/Subjects/B1R1/0b775da1cfb228c22f8b937af7ab24f1/B1R1_node_estimation_pipeline_file_source_estimation_output_stc.pkl\n",
      "\t resec :  ./Source/Subjects/B1R1/resection/resection.nii\n",
      "\t resec_txt :  None\n",
      "\t resec_mni :  ./Source/Subjects/B1R1/0b775da1cfb228c22f8b937af7ab24f1/B1R1_node_estimation_pipeline_file_resection_area_computation_output_resec_mni.pkl\n",
      "\t parc :  ./Source/Subjects/B1R1/0b775da1cfb228c22f8b937af7ab24f1/B1R1_node_estimation_pipeline_file_parcellation_creating_output_parc.pkl\n",
      "\t coords :  ./Source/Subjects/B1R1/0b775da1cfb228c22f8b937af7ab24f1/B1R1_node_estimation_pipeline_file_coordinates_computation_output_coords.pkl\n",
      "\t feat :  ./Source/Subjects/B1R1/0b775da1cfb228c22f8b937af7ab24f1/B1R1_node_estimation_pipeline_file_features_computation_output_feat.pkl\n",
      "\t nodes :  None\n",
      "\t dataset :  None\n",
      "}\n"
     ]
    }
   ],
   "source": [
    "for subject in subjects:\n",
    "    print(subject.name, ' {')\n",
    "    for data in subject.data:\n",
    "            print('\\t',data, \": \", subject.data[data])\n",
    "    print('}')"
   ],
   "metadata": {
    "collapsed": false,
    "pycharm": {
     "name": "#%%\n"
    }
   }
  },
  {
   "cell_type": "code",
   "execution_count": 25,
   "outputs": [
    {
     "name": "stdout",
     "output_type": "stream",
     "text": [
      "bfd\n"
     ]
    }
   ],
   "source": [
    "a = 1\n",
    "arr = ['asd', 'bfd', 'rhr', 'dfht']\n",
    "for b in [a]:\n",
    "    print(arr[b])"
   ],
   "metadata": {
    "collapsed": false,
    "pycharm": {
     "name": "#%%\n"
    }
   }
  },
  {
   "cell_type": "code",
   "execution_count": null,
   "outputs": [],
   "source": [
    "titanic = pd.read_csv('/home/user/Downloads/titanic.csv')\n",
    "\n",
    "titanic['Survived'] = pd.Series(surv == 1 for surv in titanic['Survived'])\n",
    "titanic['Sex'] = pd.Series([int(sex == 'female') for sex in titanic[\"Sex\"]])\n",
    "for row in titanic.index:\n",
    "    if not np.isfinite(titanic.loc[row]['Age']):\n",
    "        titanic.loc[row, 'Age'] = titanic['Age'].mean()\n",
    "titanic['Embarked'] = pd.Series({'S': 0, 'C': 1, 'Q': 2}[emb] for emb in titanic['Embarked'])\n",
    "dataset = titanic.drop(['Name', 'Ticket', 'Cabin', 'PassengerId'], axis=1)\n",
    "data = dataset.drop(['Survived'], axis=1)\n",
    "print(data)\n",
    "target = dataset['Survived']\n",
    "survived = pd.DataFrame([data.iloc[i] for i in range(dataset.shape[0]) if dataset.iloc[i]['Survived']])\n",
    "died = pd.DataFrame([data.iloc[i] for i in range(dataset.shape[0]) if not dataset.iloc[i]['Survived']])\n",
    "\n",
    "statistic = collect_statistic(data)\n",
    "\n",
    "print(compute_importance(survived, statistic))\n",
    "print(compute_importance(died, statistic))"
   ],
   "metadata": {
    "collapsed": false,
    "pycharm": {
     "name": "#%%\n"
    }
   }
  },
  {
   "cell_type": "code",
   "execution_count": null,
   "outputs": [],
   "source": [
    "rforest = RandomForestClassifier()\n",
    "rforest.fit(data, target)\n",
    "importances_df = pd.DataFrame(rforest.feature_importances_, columns=['Feature_Importance'],\n",
    "                              index=data.columns)\n",
    "print(importances_df)"
   ],
   "metadata": {
    "collapsed": false,
    "pycharm": {
     "name": "#%%\n"
    }
   }
  },
  {
   "cell_type": "code",
   "execution_count": null,
   "outputs": [],
   "source": [
    "sp1 = 0\n",
    "dp1 = 0\n",
    "sp2 = 0\n",
    "dp2 = 0\n",
    "sp3 = 0\n",
    "dp3 = 0\n",
    "for passenger in dataset.index:\n",
    "    if dataset.loc[passenger]['Survived'] == 1:\n",
    "        if dataset.loc[passenger]['Pclass'] == 1:\n",
    "            sp1 += 1\n",
    "        elif dataset.loc[passenger]['Pclass'] == 2:\n",
    "            sp2 += 1\n",
    "        elif dataset.loc[passenger]['Pclass'] == 3:\n",
    "            sp3 += 1\n",
    "    elif dataset.loc[passenger]['Survived'] == 0:\n",
    "        if dataset.loc[passenger]['Pclass'] == 1:\n",
    "            dp1 += 1\n",
    "        elif dataset.loc[passenger]['Pclass'] == 2:\n",
    "            dp2 += 1\n",
    "        elif dataset.loc[passenger]['Pclass'] == 3:\n",
    "            dp3 += 1\n",
    "\n",
    "print('Pclass1: ', sp1, ': ', dp1)\n",
    "print('Pclass2: ', sp2, ': ', dp2)\n",
    "print('Pclass3: ', sp3, ': ', dp3)"
   ],
   "metadata": {
    "collapsed": false,
    "pycharm": {
     "name": "#%%\n"
    }
   }
  },
  {
   "cell_type": "code",
   "execution_count": null,
   "outputs": [],
   "source": [
    "csv1 = pd.read_csv('/home/user/Downloads/B1C2_node_estimation_pipeline_file_prepare_data_output_dataset.csv')\n",
    "csv2 = pd.read_csv('/home/user/Downloads/B1R1_node_estimation_pipeline_file_prepare_data_output_dataset.csv')\n",
    "csv3 = pd.read_csv('/home/user/Downloads/H2S1_node_estimation_pipeline_file_prepare_data_output_dataset.csv')\n",
    "\n",
    "datasets = [csv1, csv2, csv3]\n",
    "\n",
    "best_data = make_feature_selection(datasets, 'resected')\n",
    "common = pd.concat([best_sample for best_sample in best_data], axis=0)\n",
    "print(best_data[0].columns)"
   ],
   "metadata": {
    "collapsed": false,
    "pycharm": {
     "name": "#%%\n"
    }
   }
  },
  {
   "cell_type": "code",
   "execution_count": null,
   "outputs": [],
   "source": [
    "# x_train, x_test, y_train, y_test = train_test_split(a['B1C2']['X'], a['B1C2']['Y'])\n",
    "# from sklearn.svm import SVR\n",
    "# from sklearn.pipeline import make_pipeline\n",
    "# from sklearn.preprocessing import StandardScaler\n",
    "#\n",
    "# regr = make_pipeline(StandardScaler(), SVR(C=1.0, epsilon=0.2))\n",
    "# regr.fit(x_train, y_train)\n",
    "# y_pred = regr.predict(x_test)\n",
    "#\n",
    "# print(y_pred)\n",
    "# print()\n",
    "# print(y_test)"
   ],
   "metadata": {
    "collapsed": false,
    "pycharm": {
     "name": "#%%\n"
    }
   }
  },
  {
   "cell_type": "code",
   "execution_count": null,
   "outputs": [],
   "source": [
    "# from nodestimation.mlearning.features import prepare_connectivity, prepare_data\n",
    "# con = pkl.load(open(subjects[0].data['con'], 'rb'))\n",
    "\n",
    "subjects_dir, subjects_ = find_subject_dir()\n",
    "labels = mne.read_labels_from_annot('B1C2', parc='aparc', subjects_dir=subjects_dir)\n",
    "label_names = [label.name for label in labels]\n",
    "lh_labels = [name for name in label_names if name.endswith('lh')]\n",
    "rh_labels = [name for name in label_names if name.endswith('rh')]\n",
    "\n",
    "label_ypos_lh = list()\n",
    "\n",
    "for name in lh_labels:\n",
    "    idx = label_names.index(name)\n",
    "    ypos = np.mean(labels[idx].pos[:, 1])\n",
    "    label_ypos_lh.append(ypos)\n",
    "\n",
    "try:\n",
    "    idx = label_names.index('Brain-Stem')\n",
    "\n",
    "except ValueError:\n",
    "    pass\n",
    "\n",
    "else:\n",
    "    ypos = np.mean(labels[idx].pos[:, 1])\n",
    "    lh_labels.append('Brain-Stem')\n",
    "    label_ypos_lh.append(ypos)\n",
    "\n",
    "\n",
    "lh_labels = [label for (yp, label) in sorted(zip(label_ypos_lh, lh_labels))]\n",
    "\n",
    "rh_labels = [label[:-2] + 'rh' for label in lh_labels\n",
    "             if label != 'Brain-Stem' and label[:-2] + 'rh' in rh_labels]\n",
    "\n",
    "\n",
    "node_colors = [label.color for label in labels]\n",
    "\n",
    "node_order = lh_labels[::-1] + rh_labels\n",
    "\n",
    "node_angles = mne.viz.circular_layout(label_names, node_order, start_pos=90,\n",
    "                              group_boundaries=[0, len(label_names) // 2])"
   ],
   "metadata": {
    "collapsed": false,
    "pycharm": {
     "name": "#%%\n"
    }
   }
  },
  {
   "cell_type": "code",
   "execution_count": null,
   "outputs": [],
   "source": [
    "methods = [\n",
    "    'coh',\n",
    "    'imcoh',\n",
    "    'plv',\n",
    "    'ciplv',\n",
    "    'ppc',\n",
    "    'pli'\n",
    "]\n",
    "\n",
    "freq_bands = [\n",
    "    '0.5-4Hz',\n",
    "    '4-7Hz',\n",
    "    '7-14Hz',\n",
    "    '14-30Hz'\n",
    "]\n",
    "\n",
    "for method in methods:\n",
    "    for freq_band in freq_bands:\n",
    "        fig = plt.figure(num=None, figsize=(25, 25), facecolor='black')\n",
    "        mne.viz.plot_connectivity_circle(con[freq_band][method]['con'][:, :, 0], label_names, n_lines=300,\n",
    "                                         node_angles=node_angles, node_colors=node_colors,\n",
    "                                         title='All-to-All Connectivity Epilepsy Condition ({} for {})'\n",
    "                                         .format(method, freq_band), padding=8, fontsize_title=35, fontsize_colorbar=25,\n",
    "                                         fontsize_names=20, fig=fig\n",
    "                                         )"
   ],
   "metadata": {
    "collapsed": false,
    "pycharm": {
     "name": "#%%\n"
    }
   }
  },
  {
   "cell_type": "code",
   "execution_count": null,
   "outputs": [],
   "source": [
    "# def f(a:str, b:Union[int,str]) -> str:\n",
    "#     return a+str(b)\n",
    "#\n",
    "# print(f('a',3.2))\n",
    "\n",
    "for subject in subjects:\n",
    "    fig, ax = plt.subplots(figsize=(15,15))\n",
    "    display = nplt.plot_glass_brain(None, display_mode='lyrz', figure=fig, axes=ax)\n",
    "    spared = [node.nilearn_coordinates for node in subject.nodes if node.type == 'spared']\n",
    "    resected = [node.nilearn_coordinates for node in subject.nodes if node.type == 'resected']\n",
    "    resection = read['resec-mni'](subject.data['resec-mni'])\n",
    "    display.add_markers(resection, marker_color=\"violet\", marker_size=1)\n",
    "    display.add_markers(np.array(spared), marker_color=\"yellow\", marker_size=100)\n",
    "    display.add_markers(np.array(resected), marker_color=\"red\", marker_size=250)\n"
   ],
   "metadata": {
    "collapsed": false,
    "pycharm": {
     "name": "#%%\n"
    }
   }
  }
 ],
 "metadata": {
  "kernelspec": {
   "display_name": "Python 3",
   "language": "python",
   "name": "python3"
  },
  "language_info": {
   "codemirror_mode": {
    "name": "ipython",
    "version": 3
   },
   "file_extension": ".py",
   "mimetype": "text/x-python",
   "name": "python",
   "nbconvert_exporter": "python",
   "pygments_lexer": "ipython3",
   "version": "3.8.5"
  }
 },
 "nbformat": 4,
 "nbformat_minor": 1
}