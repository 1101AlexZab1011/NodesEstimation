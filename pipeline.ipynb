{
 "cells": [
  {
   "cell_type": "code",
   "execution_count": 1,
   "outputs": [
    {
     "name": "stdout",
     "output_type": "stream",
     "text": [
      "Building of the resources files tree...\n",
      "Analysing project structure...\n",
      "\tSubject:  B1C2\n",
      "\t\tTrans file: ok\n",
      "\t\tFwd file: ok\n",
      "\t\tSrc file: ok\n",
      "\t\tBem file: ok\n",
      "\t\tRaw file: ok\n",
      "\t\tResec file: ok\n",
      "\t\tAve file: ok\n",
      "\t\tStc file: ok\n",
      "\t\tEpo file: ok\n",
      "\t\tParc file: ok\n",
      "\t\tCoords file: ok\n",
      "\t\tResec_mni file: ok\n",
      "\t\tInv file: ok\n",
      "\t\tCov file: ok\n",
      "\t\tEve file: ok\n",
      "\t\tFeat file: ok\n",
      "\tFiles structure for B1C2 has been analysed. Files tree is built\n",
      "Preparing data...\n",
      "Looking for original raw file in files tree...\n",
      "Original raw file has been found; trying to read...\n",
      "2 files found: ['./Source/Subjects/B1C2/B1C2_ii_run1_raw_tsss_mc_art_corr_raw.fif', './Source/Subjects/B1C2/d05014a7d0448bcfb88e555f115caaee/B1C2_node_estimation_pipeline_file_first_processing_output_raw.fif']. Only the original files are going to be read\n",
      "Opening raw data file ./Source/Subjects/B1C2/B1C2_ii_run1_raw_tsss_mc_art_corr_raw.fif...\n",
      "    Range : 39000 ... 1257999 =     39.000 ...  1257.999 secs\n",
      "Ready.\n",
      "Successfully read\n",
      "Looking for nepf raw file in files tree...\n",
      "Nepf raw file has been found; trying to read...\n",
      "2 files found: ['./Source/Subjects/B1C2/B1C2_ii_run1_raw_tsss_mc_art_corr_raw.fif', './Source/Subjects/B1C2/d05014a7d0448bcfb88e555f115caaee/B1C2_node_estimation_pipeline_file_first_processing_output_raw.fif']. Only the native files in d05014a7d0448bcfb88e555f115caaee are going to be read\n",
      "Opening raw data file ./Source/Subjects/B1C2/d05014a7d0448bcfb88e555f115caaee/B1C2_node_estimation_pipeline_file_first_processing_output_raw.fif...\n",
      "    Range : 7800 ... 31799 =     39.000 ...   158.995 secs\n",
      "Ready.\n",
      "Successfully read\n",
      "Looking for any bem file in files tree...\n",
      "Any bem file has been found; trying to read...\n",
      "Loading surfaces...\n",
      "\n",
      "Loading the solution matrix...\n",
      "\n",
      "Homogeneous model surface loaded.\n",
      "Loaded linear_collocation BEM solution from ./Source/Subjects/B1C2/bem_solution.fif\n",
      "Successfully read\n",
      "Looking for any src file in files tree...\n",
      "Any src file has been found; trying to read...\n",
      "2 files found: ['./Source/Subjects/B1C2/source_spaces_ico5.fif', './Source/Subjects/B1C2/source_spaces_oct5.fif']. All the files in  are going to be read\n",
      "    Reading a source space...\n",
      "    Computing patch statistics...\n",
      "    Patch information added...\n",
      "    [done]\n",
      "    Reading a source space...\n",
      "    Computing patch statistics...\n",
      "    Patch information added...\n",
      "    [done]\n",
      "    2 source spaces read\n",
      "    Reading a source space...\n",
      "    Computing patch statistics...\n",
      "    Patch information added...\n",
      "    [done]\n",
      "    Reading a source space...\n",
      "    Computing patch statistics...\n",
      "    Patch information added...\n",
      "    [done]\n",
      "    2 source spaces read\n",
      "Successfully read\n",
      "Looking for original trans file in files tree...\n",
      "Original trans file has been found; trying to read...\n",
      "Successfully read\n",
      "Looking for any fwd file in files tree...\n",
      "Any fwd file has been found; trying to read...\n",
      "2 files found: ['./Source/Subjects/B1C2/forward_ico5.fif', './Source/Subjects/B1C2/forward_oct5.fif']. All the files in  are going to be read\n",
      "Reading forward solution from ./Source/Subjects/B1C2/forward_ico5.fif...\n",
      "    Reading a source space...\n",
      "    Computing patch statistics...\n",
      "    Patch information added...\n",
      "    [done]\n",
      "    Reading a source space...\n",
      "    Computing patch statistics...\n",
      "    Patch information added...\n",
      "    [done]\n",
      "    2 source spaces read\n",
      "    Desired named matrix (kind = 3523) not available\n",
      "    Read MEG forward solution (20458 sources, 306 channels, free orientations)\n",
      "    Source spaces transformed to the forward solution coordinate frame\n",
      "Reading forward solution from ./Source/Subjects/B1C2/forward_oct5.fif...\n",
      "    Reading a source space...\n",
      "    Computing patch statistics...\n",
      "    Patch information added...\n",
      "    [done]\n",
      "    Reading a source space...\n",
      "    Computing patch statistics...\n",
      "    Patch information added...\n",
      "    [done]\n",
      "    2 source spaces read\n",
      "    Desired named matrix (kind = 3523) not available\n",
      "    Read MEG forward solution (2047 sources, 306 channels, free orientations)\n",
      "    Source spaces transformed to the forward solution coordinate frame\n",
      "Successfully read\n",
      "Looking for any eve file in files tree...\n",
      "Any eve file has been found; trying to read...\n",
      "Successfully read\n",
      "Looking for any epo file in files tree...\n",
      "Any epo file has been found; trying to read...\n",
      "Reading ./Source/Subjects/B1C2/d05014a7d0448bcfb88e555f115caaee/B1C2_node_estimation_pipeline_file_epochs_computation_output_epo.fif ...\n",
      "    Found the data of interest:\n",
      "        t =   -1000.00 ...    1000.00 ms\n",
      "        0 CTF compensation matrices available\n",
      "Not setting metadata\n",
      "Not setting metadata\n",
      "58 matching events found\n",
      "No baseline correction applied\n",
      "0 projection items activated\n",
      "Successfully read\n",
      "Looking for any cov file in files tree...\n",
      "Any cov file has been found; trying to read...\n",
      "    366 x 366 full covariance (kind = 1) found.\n",
      "Successfully read\n",
      "Looking for any ave file in files tree...\n",
      "Any ave file has been found; trying to read...\n",
      "Reading ./Source/Subjects/B1C2/d05014a7d0448bcfb88e555f115caaee/B1C2_node_estimation_pipeline_file_evokeds_computation_output_ave.fif ...\n",
      "    Found the data of interest:\n",
      "        t =   -1000.00 ...    1000.00 ms (1)\n",
      "        0 CTF compensation matrices available\n",
      "        nave = 58 - aspect type = 100\n",
      "No projector specified for this dataset. Please consider the method self.add_proj.\n",
      "No baseline correction applied\n",
      "Successfully read\n",
      "Looking for any inv file in files tree...\n",
      "Any inv file has been found; trying to read...\n",
      "Reading inverse operator decomposition from ./Source/Subjects/B1C2/d05014a7d0448bcfb88e555f115caaee/B1C2_node_estimation_pipeline_file_inverse_computation_output_inv.fif...\n",
      "    Reading inverse operator info...\n",
      "    [done]\n",
      "    Reading inverse operator decomposition...\n",
      "    [done]\n",
      "    306 x 306 full covariance (kind = 1) found.\n",
      "    Noise covariance matrix read.\n",
      "    61374 x 61374 diagonal covariance (kind = 2) found.\n",
      "    Source covariance matrix read.\n",
      "    61374 x 61374 diagonal covariance (kind = 6) found.\n",
      "    Orientation priors read.\n",
      "    Did not find the desired covariance matrix (kind = 5)\n",
      "    Did not find the desired covariance matrix (kind = 3)\n",
      "    Reading a source space...\n",
      "    Computing patch statistics...\n",
      "    Patch information added...\n",
      "    [done]\n",
      "    Reading a source space...\n",
      "    Computing patch statistics...\n",
      "    Patch information added...\n",
      "    [done]\n",
      "    2 source spaces read\n",
      "    Source spaces transformed to the inverse solution coordinate frame\n",
      "Successfully read\n",
      "Looking for any stc file in files tree...\n",
      "Any stc file has been found; trying to read...\n",
      "Successfully read\n",
      "Looking for original resec file in files tree...\n",
      "Original resec file has been found; trying to read...\n",
      "Successfully read\n",
      "Looking for any resec_mni file in files tree...\n",
      "Any resec_mni file has been found; trying to read...\n",
      "Successfully read\n",
      "Reading labels from parcellation...\n",
      "   read 34 labels from ./Source/Subjects/B1C2/label/lh.aparc.annot\n",
      "   read 34 labels from ./Source/Subjects/B1C2/label/rh.aparc.annot\n",
      "Looking for any parc file in files tree...\n",
      "Any parc file has been found; trying to read...\n",
      "Successfully read\n",
      "Looking for any coords file in files tree...\n",
      "Any coords file has been found; trying to read...\n",
      "Successfully read\n",
      "Extracting time courses for 68 labels (mode: mean_flip)\n",
      "Extracting time courses for 68 labels (mode: mean_flip)\n",
      "Extracting time courses for 68 labels (mode: mean_flip)\n",
      "Extracting time courses for 68 labels (mode: mean_flip)\n",
      "Extracting time courses for 68 labels (mode: mean_flip)\n",
      "Extracting time courses for 68 labels (mode: mean_flip)\n",
      "Extracting time courses for 68 labels (mode: mean_flip)\n",
      "Extracting time courses for 68 labels (mode: mean_flip)\n",
      "Extracting time courses for 68 labels (mode: mean_flip)\n",
      "Extracting time courses for 68 labels (mode: mean_flip)\n",
      "Extracting time courses for 68 labels (mode: mean_flip)\n",
      "Extracting time courses for 68 labels (mode: mean_flip)\n",
      "Extracting time courses for 68 labels (mode: mean_flip)\n",
      "Extracting time courses for 68 labels (mode: mean_flip)\n",
      "Extracting time courses for 68 labels (mode: mean_flip)\n",
      "Extracting time courses for 68 labels (mode: mean_flip)\n",
      "Extracting time courses for 68 labels (mode: mean_flip)\n",
      "Extracting time courses for 68 labels (mode: mean_flip)\n",
      "Extracting time courses for 68 labels (mode: mean_flip)\n",
      "Extracting time courses for 68 labels (mode: mean_flip)\n",
      "Extracting time courses for 68 labels (mode: mean_flip)\n",
      "Extracting time courses for 68 labels (mode: mean_flip)\n",
      "Extracting time courses for 68 labels (mode: mean_flip)\n",
      "Extracting time courses for 68 labels (mode: mean_flip)\n",
      "Extracting time courses for 68 labels (mode: mean_flip)\n",
      "Extracting time courses for 68 labels (mode: mean_flip)\n",
      "Extracting time courses for 68 labels (mode: mean_flip)\n",
      "Extracting time courses for 68 labels (mode: mean_flip)\n",
      "Extracting time courses for 68 labels (mode: mean_flip)\n",
      "Extracting time courses for 68 labels (mode: mean_flip)\n",
      "Extracting time courses for 68 labels (mode: mean_flip)\n",
      "Extracting time courses for 68 labels (mode: mean_flip)\n",
      "Extracting time courses for 68 labels (mode: mean_flip)\n",
      "Extracting time courses for 68 labels (mode: mean_flip)\n",
      "Extracting time courses for 68 labels (mode: mean_flip)\n",
      "Extracting time courses for 68 labels (mode: mean_flip)\n",
      "Extracting time courses for 68 labels (mode: mean_flip)\n",
      "Extracting time courses for 68 labels (mode: mean_flip)\n",
      "Extracting time courses for 68 labels (mode: mean_flip)\n",
      "Extracting time courses for 68 labels (mode: mean_flip)\n",
      "Extracting time courses for 68 labels (mode: mean_flip)\n",
      "Extracting time courses for 68 labels (mode: mean_flip)\n",
      "Extracting time courses for 68 labels (mode: mean_flip)\n",
      "Extracting time courses for 68 labels (mode: mean_flip)\n",
      "Extracting time courses for 68 labels (mode: mean_flip)\n",
      "Extracting time courses for 68 labels (mode: mean_flip)\n",
      "Extracting time courses for 68 labels (mode: mean_flip)\n",
      "Extracting time courses for 68 labels (mode: mean_flip)\n",
      "Extracting time courses for 68 labels (mode: mean_flip)\n",
      "Extracting time courses for 68 labels (mode: mean_flip)\n",
      "Extracting time courses for 68 labels (mode: mean_flip)\n",
      "Extracting time courses for 68 labels (mode: mean_flip)\n",
      "Extracting time courses for 68 labels (mode: mean_flip)\n",
      "Extracting time courses for 68 labels (mode: mean_flip)\n",
      "Extracting time courses for 68 labels (mode: mean_flip)\n",
      "Extracting time courses for 68 labels (mode: mean_flip)\n",
      "Extracting time courses for 68 labels (mode: mean_flip)\n",
      "Extracting time courses for 68 labels (mode: mean_flip)\n",
      "Looking for any feat file in files tree...\n",
      "Any feat file has been found; trying to read...\n",
      "Successfully read\n",
      "Looking for any nodes file in files tree...\n",
      "The any nodes file has not been found\n",
      "Creating a new any nodes file\n",
      "Done. Path to new file: ./Source/Subjects/B1C2/d05014a7d0448bcfb88e555f115caaee/B1C2_node_estimation_pipeline_file_nodes_creation_output_nodes.pkl\n",
      "Looking for any dataset file in files tree...\n",
      "The any dataset file has not been found\n",
      "Creating a new any dataset file\n",
      "Done. Path to new file: ./Source/Subjects/B1C2/d05014a7d0448bcfb88e555f115caaee/B1C2_node_estimation_pipeline_file_prepare_data_output_dataset.csv\n",
      "All the data has been prepared. Saving the result...\n",
      "Successfully saved\n"
     ]
    },
    {
     "name": "stderr",
     "output_type": "stream",
     "text": [
      "/home/ubuntu/PycharmProjects/NodesEstimation/nodestimation/project/path.py:160: RuntimeWarning: This filename (./Source/Subjects/B1C2/source_spaces_ico5.fif) does not conform to MNE naming conventions. All source space files should end with -src.fif, -src.fif.gz, _src.fif, _src.fif.gz, -fwd.fif, -fwd.fif.gz, _fwd.fif, _fwd.fif.gz, -inv.fif, -inv.fif.gz, _inv.fif or _inv.fif.gz\n",
      "  read[type](tree[type][i])\n",
      "/home/ubuntu/PycharmProjects/NodesEstimation/nodestimation/project/path.py:160: RuntimeWarning: This filename (./Source/Subjects/B1C2/source_spaces_oct5.fif) does not conform to MNE naming conventions. All source space files should end with -src.fif, -src.fif.gz, _src.fif, _src.fif.gz, -fwd.fif, -fwd.fif.gz, _fwd.fif, _fwd.fif.gz, -inv.fif, -inv.fif.gz, _inv.fif or _inv.fif.gz\n",
      "  read[type](tree[type][i])\n",
      "/home/ubuntu/PycharmProjects/NodesEstimation/nodestimation/project/path.py:160: RuntimeWarning: This filename (./Source/Subjects/B1C2/forward_ico5.fif) does not conform to MNE naming conventions. All forward files should end with -fwd.fif, -fwd.fif.gz, _fwd.fif or _fwd.fif.gz\n",
      "  read[type](tree[type][i])\n",
      "/home/ubuntu/PycharmProjects/NodesEstimation/nodestimation/project/path.py:160: RuntimeWarning: This filename (./Source/Subjects/B1C2/forward_oct5.fif) does not conform to MNE naming conventions. All forward files should end with -fwd.fif, -fwd.fif.gz, _fwd.fif or _fwd.fif.gz\n",
      "  read[type](tree[type][i])\n"
     ]
    }
   ],
   "source": [
    "import time\n",
    "from sklearn.pipeline import make_pipeline\n",
    "time_start = time.time()\n",
    "import re\n",
    "import os\n",
    "import numpy as np\n",
    "import scipy as sp\n",
    "import mne\n",
    "import pickle as pkl\n",
    "import nilearn.plotting as nplt\n",
    "import nilearn.image as image\n",
    "import pickle\n",
    "from mne.preprocessing import (ICA, create_eog_epochs, create_ecg_epochs, corrmap)\n",
    "from sklearn.metrics import roc_auc_score\n",
    "from nodestimation.node_estimate import Node\n",
    "from nodestimation.timewindow import TimeWindow, sliding_window\n",
    "import nibabel as nib\n",
    "import matplotlib.pyplot as plt\n",
    "import nodestimation.project.path as path\n",
    "from nodestimation.project.subject import Subject\n",
    "from nodestimation.project.path import  find_subject_dir\n",
    "from nodestimation.pipeline import pipeline\n",
    "from sklearn.model_selection import train_test_split\n",
    "import sklearn.metrics as sm\n",
    "import pandas as pd\n",
    "import matplotlib.pyplot as plt\n",
    "from nodestimation.project.actions import read\n",
    "from nodestimation.mlearning.features import prepare_data\n",
    "import nodestimation as nd\n",
    "from nodestimation.project.structures import subject_data_types\n",
    "\n",
    "subjects = pipeline(methods=['coh', 'cohy', 'imcoh', 'plv', 'ciplv', 'ppc', 'pli', 'pli2_unbiased', 'wpli', 'wpli2_debiased', 'psd', 'envelope', 'pearson'],\n",
    "                    freq_bands=[(0.5, 4), (4, 7), (7, 14), (14, 30), (30, 70)])"
   ],
   "metadata": {
    "collapsed": false,
    "pycharm": {
     "name": "#%%\n"
    }
   }
  },
  {
   "cell_type": "code",
   "source": [],
   "metadata": {
    "collapsed": false,
    "pycharm": {
     "name": "#%%\n"
    }
   },
   "execution_count": 19,
   "outputs": [
    {
     "name": "stdout",
     "output_type": "stream",
     "text": [
      "30\n",
      "30\n"
     ]
    }
   ]
  },
  {
   "cell_type": "code",
   "execution_count": null,
   "outputs": [],
   "source": [
    "feat = read['feat']('Source/Subjects/B1C2/d1200838a4634e09bbce0a67ee4d9ed3/B1C2_node_estimation_pipeline_file_features_computation_output_feat.pkl')\n",
    "\n",
    "print(feat['time-domain']['pearson'].shape)"
   ],
   "metadata": {
    "collapsed": false,
    "pycharm": {
     "name": "#%%\n"
    }
   }
  },
  {
   "cell_type": "code",
   "execution_count": 6,
   "outputs": [
    {
     "name": "stdout",
     "output_type": "stream",
     "text": [
      "dict_keys(['0.5-4Hz', '4-7Hz', '7-14Hz', '14-30Hz', 'time-domain'])\n",
      "dict_keys(['coh', 'imcoh', 'plv', 'ciplv', 'ppc', 'pli', 'psd'])\n",
      "dict_keys(['pearson', 'envelope'])\n"
     ]
    }
   ],
   "source": [
    "print(subjects[0].nodes[0].features.keys())\n",
    "print(subjects[0].nodes[0].features['0.5-4Hz'].keys())\n",
    "print(subjects[0].nodes[0].features['time-domain'].keys())"
   ],
   "metadata": {
    "collapsed": false,
    "pycharm": {
     "name": "#%%\n"
    }
   }
  },
  {
   "cell_type": "code",
   "execution_count": 7,
   "outputs": [
    {
     "name": "stdout",
     "output_type": "stream",
     "text": [
      "{'0.5-4Hz': {'coh': -1.317363485577068, 'imcoh': -1.3394734727204665, 'plv': -2.0528235875580663, 'ciplv': -1.5525562836199378, 'ppc': -1.678543701052078, 'pli': -1.6399054623725264, 'psd': 36.43435844120942}, '4-7Hz': {'coh': -1.3642047636778902, 'imcoh': -1.0023628028600178, 'plv': -2.284270829462227, 'ciplv': -0.8920533966697122, 'ppc': -1.8255463624718395, 'pli': -1.1359849016943082, 'psd': 29.832568642664928}, '7-14Hz': {'coh': -1.3239278298736006, 'imcoh': -0.8657717860812277, 'plv': -2.3112786450743776, 'ciplv': -0.7436323127248022, 'ppc': -1.8821620195385906, 'pli': -0.9687787276170354, 'psd': 50.98730836305875}, '14-30Hz': {'coh': -1.2904217457516134, 'imcoh': -0.8168531814726282, 'plv': -2.283747717428443, 'ciplv': -0.6243336761910843, 'ppc': -1.941641352449933, 'pli': -0.8212089575771051, 'psd': 30.677948564482378}, 'time-domain': {'pearson': -0.9878713299550234, 'envelope': -0.477310852682067}}\n",
      "{'0.5-4Hz': {'coh': -1.1454248655967996, 'imcoh': -0.9750095919240707, 'plv': -1.9847213111090771, 'ciplv': -0.9452330781224061, 'ppc': -1.6125346763727277, 'pli': -1.0341104650766682, 'psd': 35.74717149304067}, '4-7Hz': {'coh': -1.2254732667108459, 'imcoh': -0.6327565774630602, 'plv': -2.0625836867128506, 'ciplv': -0.7539420574247584, 'ppc': -1.7655104954607077, 'pli': -0.9669429723043413, 'psd': 26.52432808192549}, '7-14Hz': {'coh': -1.1986514219877467, 'imcoh': -0.789116122841955, 'plv': -2.1194258403126307, 'ciplv': -0.7074350561254271, 'ppc': -1.757259282943057, 'pli': -0.8214838551274931, 'psd': 45.054591269333606}, '14-30Hz': {'coh': -1.1685891475298318, 'imcoh': -0.5098196676701201, 'plv': -2.221865681677164, 'ciplv': -0.5427172342246505, 'ppc': -1.748192072439374, 'pli': -0.6420813339418803, 'psd': 25.610140586597836}, 'time-domain': {'pearson': -0.9849071532348631, 'envelope': -0.21620408998179788}}\n",
      "{'0.5-4Hz': {'coh': -1.1140015090298723, 'imcoh': -0.5789890850131367, 'plv': -1.8826834519052578, 'ciplv': -0.7356279306039725, 'ppc': -1.5929667132762606, 'pli': -0.8071731048439397, 'psd': 18.59495620319102}, '4-7Hz': {'coh': -1.1395512996978898, 'imcoh': -0.5789263414922531, 'plv': -1.9227182322629024, 'ciplv': -0.6780883738339184, 'ppc': -1.6424142292647423, 'pli': -0.912141261613375, 'psd': 14.158144885953165}, '7-14Hz': {'coh': -1.1687214336601244, 'imcoh': -0.5898059183442547, 'plv': -1.8951928114963326, 'ciplv': -0.617626956083747, 'ppc': -1.6683353645569738, 'pli': -0.8037061458863354, 'psd': 19.8519442382907}, '14-30Hz': {'coh': -1.1213361601713638, 'imcoh': -0.38898149701038337, 'plv': -1.9841721102881467, 'ciplv': -0.503808103319467, 'ppc': -1.7037596627072695, 'pli': -0.622223217413922, 'psd': 12.609377911447398}, 'time-domain': {'pearson': -0.9800400549754431, 'envelope': -0.1885824752620702}}\n"
     ]
    }
   ],
   "source": [
    "print(subjects[0].nodes[0].features)\n",
    "print(subjects[0].nodes[1].features)\n",
    "print(subjects[0].nodes[2].features)"
   ],
   "metadata": {
    "collapsed": false,
    "pycharm": {
     "name": "#%%\n"
    }
   }
  },
  {
   "cell_type": "code",
   "execution_count": 2,
   "outputs": [
    {
     "name": "stdout",
     "output_type": "stream",
     "text": [
      "{'0.5-4Hz': {'coh': -1.317363485577068, 'imcoh': -1.3394734727204665, 'plv': -2.0528235875580663, 'ciplv': -1.5525562836199378, 'ppc': -1.678543701052078, 'pli': -1.6399054623725264, 'psd': 36.43435844120942, 'envelope': -0.477310852682067}, '4-7Hz': {'coh': -1.3642047636778902, 'imcoh': -1.0023628028600178, 'plv': -2.284270829462227, 'ciplv': -0.8920533966697122, 'ppc': -1.8255463624718395, 'pli': -1.1359849016943082, 'psd': 29.832568642664928, 'envelope': -0.477310852682067}, '7-14Hz': {'coh': -1.3239278298736006, 'imcoh': -0.8657717860812277, 'plv': -2.3112786450743776, 'ciplv': -0.7436323127248022, 'ppc': -1.8821620195385906, 'pli': -0.9687787276170354, 'psd': 50.98730836305875, 'envelope': -0.477310852682067}, '14-30Hz': {'coh': -1.2904217457516134, 'imcoh': -0.8168531814726282, 'plv': -2.283747717428443, 'ciplv': -0.6243336761910843, 'ppc': -1.941641352449933, 'pli': -0.8212089575771051, 'psd': 30.677948564482378, 'envelope': -0.477310852682067}}\n",
      "{'0.5-4Hz': {'coh': -1.1454248655967996, 'imcoh': -0.9750095919240707, 'plv': -1.9847213111090771, 'ciplv': -0.9452330781224061, 'ppc': -1.6125346763727277, 'pli': -1.0341104650766682, 'psd': 35.74717149304067, 'envelope': -0.21620408998179788}, '4-7Hz': {'coh': -1.2254732667108459, 'imcoh': -0.6327565774630602, 'plv': -2.0625836867128506, 'ciplv': -0.7539420574247584, 'ppc': -1.7655104954607077, 'pli': -0.9669429723043413, 'psd': 26.52432808192549, 'envelope': -0.21620408998179788}, '7-14Hz': {'coh': -1.1986514219877467, 'imcoh': -0.789116122841955, 'plv': -2.1194258403126307, 'ciplv': -0.7074350561254271, 'ppc': -1.757259282943057, 'pli': -0.8214838551274931, 'psd': 45.054591269333606, 'envelope': -0.21620408998179788}, '14-30Hz': {'coh': -1.1685891475298318, 'imcoh': -0.5098196676701201, 'plv': -2.221865681677164, 'ciplv': -0.5427172342246505, 'ppc': -1.748192072439374, 'pli': -0.6420813339418803, 'psd': 25.610140586597836, 'envelope': -0.21620408998179788}}\n",
      "{'0.5-4Hz': {'coh': -1.1140015090298723, 'imcoh': -0.5789890850131367, 'plv': -1.8826834519052578, 'ciplv': -0.7356279306039725, 'ppc': -1.5929667132762606, 'pli': -0.8071731048439397, 'psd': 18.59495620319102, 'envelope': -0.1885824752620702}, '4-7Hz': {'coh': -1.1395512996978898, 'imcoh': -0.5789263414922531, 'plv': -1.9227182322629024, 'ciplv': -0.6780883738339184, 'ppc': -1.6424142292647423, 'pli': -0.912141261613375, 'psd': 14.158144885953165, 'envelope': -0.1885824752620702}, '7-14Hz': {'coh': -1.1687214336601244, 'imcoh': -0.5898059183442547, 'plv': -1.8951928114963326, 'ciplv': -0.617626956083747, 'ppc': -1.6683353645569738, 'pli': -0.8037061458863354, 'psd': 19.8519442382907, 'envelope': -0.1885824752620702}, '14-30Hz': {'coh': -1.1213361601713638, 'imcoh': -0.38898149701038337, 'plv': -1.9841721102881467, 'ciplv': -0.503808103319467, 'ppc': -1.7037596627072695, 'pli': -0.622223217413922, 'psd': 12.609377911447398, 'envelope': -0.1885824752620702}}\n"
     ]
    }
   ],
   "source": [
    "print(subjects[0].nodes[0].features)\n",
    "print(subjects[0].nodes[1].features)\n",
    "print(subjects[0].nodes[2].features)"
   ],
   "metadata": {
    "collapsed": false,
    "pycharm": {
     "name": "#%%\n"
    }
   }
  },
  {
   "cell_type": "code",
   "execution_count": null,
   "outputs": [],
   "source": [
    "subjects = pipeline(con_method=['coh', 'imcoh', 'plv', 'ciplv', 'ppc', 'pli'],\n",
    "                    freq_diaps=[(0.5, 4), (4, 7), (7, 14), (14, 30), (30, 70)])\n",
    "psd = subjects[0].nodes[0].features['4-7Hz']['psd']\n",
    "plt.plot(psd)\n",
    "plt.show()\n",
    "psd = nd.mlearning.features.iterp_for_psd(psd, 68)\n",
    "plt.plot(psd)\n",
    "plt.show()"
   ],
   "metadata": {
    "collapsed": false,
    "pycharm": {
     "name": "#%%\n"
    }
   }
  },
  {
   "cell_type": "code",
   "execution_count": null,
   "outputs": [],
   "source": [
    "# x_train, x_test, y_train, y_test = train_test_split(a['B1C2']['X'], a['B1C2']['Y'])\n",
    "# from sklearn.svm import SVR\n",
    "# from sklearn.pipeline import make_pipeline\n",
    "# from sklearn.preprocessing import StandardScaler\n",
    "#\n",
    "# regr = make_pipeline(StandardScaler(), SVR(C=1.0, epsilon=0.2))\n",
    "# regr.fit(x_train, y_train)\n",
    "# y_pred = regr.predict(x_test)\n",
    "#\n",
    "# print(y_pred)\n",
    "# print()\n",
    "# print(y_test)"
   ],
   "metadata": {
    "collapsed": false,
    "pycharm": {
     "name": "#%%\n"
    }
   }
  },
  {
   "cell_type": "code",
   "execution_count": null,
   "outputs": [],
   "source": [
    "from nodestimation.mlearning.features import prepare_connectivity, prepare_data\n",
    "con = pkl.load(open(subjects[0].data['con'], 'rb'))"
   ],
   "metadata": {
    "collapsed": false,
    "pycharm": {
     "name": "#%%\n"
    }
   }
  },
  {
   "cell_type": "code",
   "execution_count": null,
   "outputs": [],
   "source": [
    "# fig, ax = plt.subplots()\n",
    "# ax.plot(psd['0.5-4Hz']['bankssts-lh']['freq'], psd['0.5-4Hz']['bankssts-lh']['psd'].mean(axis=0))\n",
    "# # ax.set_xlabel('Freq (Hz)')\n",
    "# ax.set_xlim(psd['0.5-4Hz']['bankssts-lh']['freq'][[0, -1]])\n",
    "# ax.set_ylabel('Power Spectral Density')"
   ],
   "metadata": {
    "collapsed": false,
    "pycharm": {
     "name": "#%%\n"
    }
   }
  },
  {
   "cell_type": "code",
   "execution_count": null,
   "outputs": [],
   "source": [
    "subjects_dir, subjects_ = find_subject_dir()\n",
    "labels = mne.read_labels_from_annot('B1C2', parc='aparc', subjects_dir=subjects_dir)\n",
    "label_names = [label.name for label in labels]\n",
    "lh_labels = [name for name in label_names if name.endswith('lh')]\n",
    "rh_labels = [name for name in label_names if name.endswith('rh')]\n",
    "\n",
    "label_ypos_lh = list()\n",
    "\n",
    "for name in lh_labels:\n",
    "    idx = label_names.index(name)\n",
    "    ypos = np.mean(labels[idx].pos[:, 1])\n",
    "    label_ypos_lh.append(ypos)\n",
    "\n",
    "try:\n",
    "    idx = label_names.index('Brain-Stem')\n",
    "\n",
    "except ValueError:\n",
    "    pass\n",
    "\n",
    "else:\n",
    "    ypos = np.mean(labels[idx].pos[:, 1])\n",
    "    lh_labels.append('Brain-Stem')\n",
    "    label_ypos_lh.append(ypos)\n",
    "\n",
    "\n",
    "lh_labels = [label for (yp, label) in sorted(zip(label_ypos_lh, lh_labels))]\n",
    "\n",
    "rh_labels = [label[:-2] + 'rh' for label in lh_labels\n",
    "             if label != 'Brain-Stem' and label[:-2] + 'rh' in rh_labels]\n",
    "\n",
    "\n",
    "node_colors = [label.color for label in labels]\n",
    "\n",
    "node_order = lh_labels[::-1] + rh_labels\n",
    "\n",
    "node_angles = mne.viz.circular_layout(label_names, node_order, start_pos=90,\n",
    "                              group_boundaries=[0, len(label_names) // 2])"
   ],
   "metadata": {
    "collapsed": false,
    "pycharm": {
     "name": "#%%\n"
    }
   }
  },
  {
   "cell_type": "code",
   "execution_count": null,
   "outputs": [],
   "source": [
    "methods = [\n",
    "    'coh',\n",
    "    'imcoh',\n",
    "    'plv',\n",
    "    'ciplv',\n",
    "    'ppc',\n",
    "    'pli'\n",
    "]\n",
    "\n",
    "freq_bands = [\n",
    "    '0.5-4Hz',\n",
    "    '4-7Hz',\n",
    "    '7-14Hz',\n",
    "    '14-30Hz'\n",
    "]\n",
    "\n",
    "for method in methods:\n",
    "    for freq_band in freq_bands:\n",
    "        fig = plt.figure(num=None, figsize=(25, 25), facecolor='black')\n",
    "        mne.viz.plot_connectivity_circle(con[freq_band][method]['con'][:, :, 0], label_names, n_lines=300,\n",
    "                                         node_angles=node_angles, node_colors=node_colors,\n",
    "                                         title='All-to-All Connectivity Epilepsy Condition ({} for {})'\n",
    "                                         .format(method, freq_band), padding=8, fontsize_title=35, fontsize_colorbar=25,\n",
    "                                         fontsize_names=20, fig=fig\n",
    "                                         )"
   ],
   "metadata": {
    "collapsed": false,
    "pycharm": {
     "name": "#%%\n"
    }
   }
  },
  {
   "cell_type": "code",
   "execution_count": null,
   "outputs": [],
   "source": [
    "raw = read['raw'](subjects[0].data['raw_fp'])\n",
    "eve = read['eve'](subjects[0].data['eve'])\n",
    "epo = read['epo'](subjects[0].data['epo'])\n",
    "ave = read['ave'](subjects[0].data['ave'])\n",
    "inv = read['inv'](subjects[0].data['inv'])\n",
    "\n",
    "raw.plot(events=eve, color='gray',\n",
    "         event_color={1: 'r'})"
   ],
   "metadata": {
    "collapsed": false,
    "pycharm": {
     "name": "#%%\n"
    }
   }
  },
  {
   "cell_type": "code",
   "execution_count": null,
   "outputs": [],
   "source": [
    "ave[0].plot()"
   ],
   "metadata": {
    "collapsed": false,
    "pycharm": {
     "name": "#%%\n"
    }
   }
  },
  {
   "cell_type": "code",
   "execution_count": null,
   "outputs": [],
   "source": [
    "epo.plot()"
   ],
   "metadata": {
    "collapsed": false,
    "pycharm": {
     "name": "#%%\n"
    }
   }
  },
  {
   "cell_type": "code",
   "execution_count": null,
   "outputs": [],
   "source": [
    "epo.plot_psd()"
   ],
   "metadata": {
    "collapsed": false,
    "pycharm": {
     "name": "#%%\n"
    }
   }
  },
  {
   "cell_type": "code",
   "execution_count": null,
   "outputs": [],
   "source": [
    "epo.plot_image()"
   ],
   "metadata": {
    "collapsed": false,
    "pycharm": {
     "name": "#%%\n"
    }
   }
  },
  {
   "cell_type": "code",
   "execution_count": null,
   "outputs": [],
   "source": [
    "stc = read['stc'](subjects[0].data['stc'])"
   ],
   "metadata": {
    "collapsed": false,
    "pycharm": {
     "name": "#%%\n",
     "is_executing": true
    }
   }
  },
  {
   "cell_type": "code",
   "execution_count": null,
   "outputs": [],
   "source": [
    "src = read['src'](subjects[0].data['src'][0])"
   ],
   "metadata": {
    "collapsed": false,
    "pycharm": {
     "name": "#%%\n"
    }
   }
  },
  {
   "cell_type": "code",
   "execution_count": null,
   "outputs": [],
   "source": [
    "label_ts = mne.extract_label_time_course(stc, labels, src, mode='mean_flip')"
   ],
   "metadata": {
    "collapsed": false,
    "pycharm": {
     "name": "#%%\n"
    }
   }
  },
  {
   "cell_type": "code",
   "execution_count": null,
   "outputs": [],
   "source": [
    "plt.plot(label_ts[0][0])\n",
    "plt.show()\n",
    "plt.plot(label_ts[1][0])\n",
    "plt.show()\n",
    "plt.plot(label_ts[2][0])\n",
    "plt.show()\n",
    "plt.plot(label_ts[3][0])\n",
    "plt.show()"
   ],
   "metadata": {
    "collapsed": false,
    "pycharm": {
     "name": "#%%\n"
    }
   }
  },
  {
   "cell_type": "code",
   "execution_count": null,
   "outputs": [],
   "source": [
    "for c in con['0.5-4Hz']['plv']['con'][:,:,0]:\n",
    "    print(c[0:5])\n",
    "print('2:3 ', con['0.5-4Hz']['plv']['con'][3,2,0])\n",
    "\n",
    "plt.imshow(con['0.5-4Hz']['plv']['con'][:,:,0] + con['0.5-4Hz']['plv']['con'][:,:,0].T)\n",
    "plt.show()\n",
    "plt.plot(np.arange(401), label_ts[0][2].T, np.arange(401), label_ts[0][3].T)\n",
    "plt.show()\n",
    "plt.plot(np.arange(401), label_ts[1][2].T, np.arange(401), label_ts[1][3].T)\n",
    "plt.show()\n",
    "plt.plot(np.arange(401), label_ts[2][2].T, np.arange(401), label_ts[2][3].T)\n",
    "plt.show()\n",
    "plt.plot(np.arange(401), label_ts[3][2].T, np.arange(401), label_ts[3][3].T)\n",
    "plt.show()"
   ],
   "metadata": {
    "collapsed": false,
    "pycharm": {
     "name": "#%%\n"
    }
   }
  },
  {
   "cell_type": "code",
   "execution_count": null,
   "outputs": [],
   "source": [
    "print('0:11 ', con['0.5-4Hz']['plv']['con'][11,0,0])\n",
    "\n",
    "plt.plot(np.arange(401), label_ts[0][11].T, np.arange(401), label_ts[0][0].T)\n",
    "plt.show()\n",
    "plt.plot(np.arange(401), label_ts[1][11].T, np.arange(401), label_ts[1][0].T)\n",
    "plt.show()\n",
    "plt.plot(np.arange(401), label_ts[2][11].T, np.arange(401), label_ts[2][0].T)\n",
    "plt.show()\n",
    "plt.plot(np.arange(401), label_ts[3][11].T, np.arange(401), label_ts[3][0].T)\n",
    "plt.show()"
   ],
   "metadata": {
    "collapsed": false,
    "pycharm": {
     "name": "#%%\n"
    }
   }
  }
 ],
 "metadata": {
  "kernelspec": {
   "display_name": "Python 3",
   "language": "python",
   "name": "python3"
  },
  "language_info": {
   "codemirror_mode": {
    "name": "ipython",
    "version": 3
   },
   "file_extension": ".py",
   "mimetype": "text/x-python",
   "name": "python",
   "nbconvert_exporter": "python",
   "pygments_lexer": "ipython3",
   "version": "3.8.5"
  }
 },
 "nbformat": 4,
 "nbformat_minor": 1
}