{
 "cells": [
  {
   "cell_type": "code",
   "execution_count": 1,
   "outputs": [],
   "source": [
    "import numpy as np\n",
    "import scipy as sp\n",
    "import mne\n",
    "from sklearn.ensemble import RandomForestClassifier\n",
    "from nodestimation.learning.selection import collect_statistic, \\\n",
    "    compute_importance, collect_cross_statistic, make_selection_map, \\\n",
    "    select, separate_datasets, selected_statistic, choose_best, selected_data, make_feature_selection\n",
    "from nodestimation.project import  find_subject_dir\n",
    "from nodestimation.pipeline import pipeline\n",
    "import pandas as pd\n",
    "import matplotlib.pyplot as plt\n",
    "from sklearn.ensemble import RandomForestClassifier\n",
    "from nodestimation.project.actions import read\n",
    "import nodestimation as nd"
   ],
   "metadata": {
    "collapsed": false,
    "pycharm": {
     "name": "#%%\n"
    }
   }
  },
  {
   "cell_type": "code",
   "execution_count": 30,
   "outputs": [
    {
     "name": "stdout",
     "output_type": "stream",
     "text": [
      "     Pclass  Sex        Age  SibSp  Parch     Fare  Embarked\n",
      "0         3    0  22.000000      1      0   7.2500         0\n",
      "1         1    1  38.000000      1      0  71.2833         1\n",
      "2         3    1  26.000000      0      0   7.9250         0\n",
      "3         1    1  35.000000      1      0  53.1000         0\n",
      "4         3    0  35.000000      0      0   8.0500         0\n",
      "..      ...  ...        ...    ...    ...      ...       ...\n",
      "886       2    0  27.000000      0      0  13.0000         0\n",
      "887       1    1  19.000000      0      0  30.0000         0\n",
      "888       3    1  29.699118      1      2  23.4500         0\n",
      "889       1    0  26.000000      0      0  30.0000         1\n",
      "890       3    0  32.000000      0      0   7.7500         2\n",
      "\n",
      "[891 rows x 7 columns]\n",
      "Pclass      1.004065\n",
      "Sex         1.157997\n",
      "Age         0.768822\n",
      "SibSp       0.537720\n",
      "Parch       0.748418\n",
      "Fare        0.730084\n",
      "Embarked    0.863355\n",
      "dtype: float64\n",
      "Pclass      0.853621\n",
      "Sex         0.828392\n",
      "Age         0.653657\n",
      "SibSp       0.715525\n",
      "Parch       0.703063\n",
      "Fare        0.464999\n",
      "Embarked    0.800105\n",
      "dtype: float64\n"
     ]
    }
   ],
   "source": [
    "titanic = pd.read_csv('/home/user/Downloads/titanic.csv')\n",
    "\n",
    "titanic['Survived'] = pd.Series(surv == 1 for surv in titanic['Survived'])\n",
    "titanic['Sex'] = pd.Series([int(sex == 'female') for sex in titanic[\"Sex\"]])\n",
    "for row in titanic.index:\n",
    "    if not np.isfinite(titanic.loc[row]['Age']):\n",
    "        titanic.loc[row, 'Age'] = titanic['Age'].mean()\n",
    "titanic['Embarked'] = pd.Series({'S': 0, 'C': 1, 'Q': 2}[emb] for emb in titanic['Embarked'])\n",
    "dataset = titanic.drop(['Name', 'Ticket', 'Cabin', 'PassengerId'], axis=1)\n",
    "data = dataset.drop(['Survived'], axis=1)\n",
    "print(data)\n",
    "target = dataset['Survived']\n",
    "survived = pd.DataFrame([data.iloc[i] for i in range(dataset.shape[0]) if dataset.iloc[i]['Survived']])\n",
    "died = pd.DataFrame([data.iloc[i] for i in range(dataset.shape[0]) if not dataset.iloc[i]['Survived']])\n",
    "\n",
    "statistic = collect_statistic(data)\n",
    "\n",
    "print(compute_importance(survived, statistic))\n",
    "print(compute_importance(died, statistic))"
   ],
   "metadata": {
    "collapsed": false,
    "pycharm": {
     "name": "#%%\n"
    }
   }
  },
  {
   "cell_type": "code",
   "execution_count": 40,
   "outputs": [
    {
     "name": "stdout",
     "output_type": "stream",
     "text": [
      "          Feature_Importance\n",
      "Pclass              0.083386\n",
      "Sex                 0.266363\n",
      "Age                 0.266329\n",
      "SibSp               0.047680\n",
      "Parch               0.038059\n",
      "Fare                0.266490\n",
      "Embarked            0.031692\n"
     ]
    }
   ],
   "source": [
    "rforest = RandomForestClassifier()\n",
    "rforest.fit(data, target)\n",
    "importances_df = pd.DataFrame(rforest.feature_importances_, columns=['Feature_Importance'],\n",
    "                              index=data.columns)\n",
    "print(importances_df)"
   ],
   "metadata": {
    "collapsed": false,
    "pycharm": {
     "name": "#%%\n"
    }
   }
  },
  {
   "cell_type": "code",
   "execution_count": 38,
   "outputs": [
    {
     "name": "stdout",
     "output_type": "stream",
     "text": [
      "Pclass1:  136 :  80\n",
      "Pclass2:  87 :  97\n",
      "Pclass3:  119 :  372\n"
     ]
    }
   ],
   "source": [
    "sp1 = 0\n",
    "dp1 = 0\n",
    "sp2 = 0\n",
    "dp2 = 0\n",
    "sp3 = 0\n",
    "dp3 = 0\n",
    "for passenger in dataset.index:\n",
    "    if dataset.loc[passenger]['Survived'] == 1:\n",
    "        if dataset.loc[passenger]['Pclass'] == 1:\n",
    "            sp1 += 1\n",
    "        elif dataset.loc[passenger]['Pclass'] == 2:\n",
    "            sp2 += 1\n",
    "        elif dataset.loc[passenger]['Pclass'] == 3:\n",
    "            sp3 += 1\n",
    "    elif dataset.loc[passenger]['Survived'] == 0:\n",
    "        if dataset.loc[passenger]['Pclass'] == 1:\n",
    "            dp1 += 1\n",
    "        elif dataset.loc[passenger]['Pclass'] == 2:\n",
    "            dp2 += 1\n",
    "        elif dataset.loc[passenger]['Pclass'] == 3:\n",
    "            dp3 += 1\n",
    "\n",
    "print('Pclass1: ', sp1, ': ', dp1)\n",
    "print('Pclass2: ', sp2, ': ', dp2)\n",
    "print('Pclass3: ', sp3, ': ', dp3)"
   ],
   "metadata": {
    "collapsed": false,
    "pycharm": {
     "name": "#%%\n"
    }
   }
  },
  {
   "cell_type": "code",
   "execution_count": 19,
   "outputs": [
    {
     "name": "stdout",
     "output_type": "stream",
     "text": [
      "Index(['0.5-4Hz_cohy', '0.5-4Hz_pli2_unbiased', '4-7Hz_wpli', '7-14Hz_imcoh',\n",
      "       '7-14Hz_ciplv', '14-30Hz_ciplv', '14-30Hz_wpli', '30-70Hz_ciplv',\n",
      "       '30-70Hz_pli', 'pearson', 'envelope', 'resected'],\n",
      "      dtype='object')\n"
     ]
    }
   ],
   "source": [
    "csv1 = pd.read_csv('/home/user/Downloads/B1C2_node_estimation_pipeline_file_prepare_data_output_dataset.csv')\n",
    "csv2 = pd.read_csv('/home/user/Downloads/B1R1_node_estimation_pipeline_file_prepare_data_output_dataset.csv')\n",
    "csv3 = pd.read_csv('/home/user/Downloads/H2S1_node_estimation_pipeline_file_prepare_data_output_dataset.csv')\n",
    "\n",
    "datasets = [csv1, csv2, csv3]\n",
    "\n",
    "best_data = make_feature_selection(datasets, 'resected')\n",
    "common = pd.concat([best_sample for best_sample in best_data], axis=0)\n",
    "print(best_data[0].columns)"
   ],
   "metadata": {
    "collapsed": false,
    "pycharm": {
     "name": "#%%\n"
    }
   }
  },
  {
   "cell_type": "code",
   "execution_count": null,
   "outputs": [],
   "source": [
    "subjects = pipeline(methods=['wpli', 'psd'],\n",
    "                    freq_bands=[(0.5, 4), (4, 7), (7, 14), (14, 30), (30, 70)])\n"
   ],
   "metadata": {
    "collapsed": false,
    "pycharm": {
     "name": "#%%\n"
    }
   }
  },
  {
   "cell_type": "code",
   "execution_count": null,
   "outputs": [],
   "source": [
    "# x_train, x_test, y_train, y_test = train_test_split(a['B1C2']['X'], a['B1C2']['Y'])\n",
    "# from sklearn.svm import SVR\n",
    "# from sklearn.pipeline import make_pipeline\n",
    "# from sklearn.preprocessing import StandardScaler\n",
    "#\n",
    "# regr = make_pipeline(StandardScaler(), SVR(C=1.0, epsilon=0.2))\n",
    "# regr.fit(x_train, y_train)\n",
    "# y_pred = regr.predict(x_test)\n",
    "#\n",
    "# print(y_pred)\n",
    "# print()\n",
    "# print(y_test)"
   ],
   "metadata": {
    "collapsed": false,
    "pycharm": {
     "name": "#%%\n"
    }
   }
  },
  {
   "cell_type": "code",
   "execution_count": null,
   "outputs": [],
   "source": [
    "# from nodestimation.mlearning.features import prepare_connectivity, prepare_data\n",
    "# con = pkl.load(open(subjects[0].data['con'], 'rb'))\n",
    "\n",
    "subjects_dir, subjects_ = find_subject_dir()\n",
    "labels = mne.read_labels_from_annot('B1C2', parc='aparc', subjects_dir=subjects_dir)\n",
    "label_names = [label.name for label in labels]\n",
    "lh_labels = [name for name in label_names if name.endswith('lh')]\n",
    "rh_labels = [name for name in label_names if name.endswith('rh')]\n",
    "\n",
    "label_ypos_lh = list()\n",
    "\n",
    "for name in lh_labels:\n",
    "    idx = label_names.index(name)\n",
    "    ypos = np.mean(labels[idx].pos[:, 1])\n",
    "    label_ypos_lh.append(ypos)\n",
    "\n",
    "try:\n",
    "    idx = label_names.index('Brain-Stem')\n",
    "\n",
    "except ValueError:\n",
    "    pass\n",
    "\n",
    "else:\n",
    "    ypos = np.mean(labels[idx].pos[:, 1])\n",
    "    lh_labels.append('Brain-Stem')\n",
    "    label_ypos_lh.append(ypos)\n",
    "\n",
    "\n",
    "lh_labels = [label for (yp, label) in sorted(zip(label_ypos_lh, lh_labels))]\n",
    "\n",
    "rh_labels = [label[:-2] + 'rh' for label in lh_labels\n",
    "             if label != 'Brain-Stem' and label[:-2] + 'rh' in rh_labels]\n",
    "\n",
    "\n",
    "node_colors = [label.color for label in labels]\n",
    "\n",
    "node_order = lh_labels[::-1] + rh_labels\n",
    "\n",
    "node_angles = mne.viz.circular_layout(label_names, node_order, start_pos=90,\n",
    "                              group_boundaries=[0, len(label_names) // 2])"
   ],
   "metadata": {
    "collapsed": false,
    "pycharm": {
     "name": "#%%\n"
    }
   }
  },
  {
   "cell_type": "code",
   "execution_count": null,
   "outputs": [],
   "source": [
    "methods = [\n",
    "    'coh',\n",
    "    'imcoh',\n",
    "    'plv',\n",
    "    'ciplv',\n",
    "    'ppc',\n",
    "    'pli'\n",
    "]\n",
    "\n",
    "freq_bands = [\n",
    "    '0.5-4Hz',\n",
    "    '4-7Hz',\n",
    "    '7-14Hz',\n",
    "    '14-30Hz'\n",
    "]\n",
    "\n",
    "for method in methods:\n",
    "    for freq_band in freq_bands:\n",
    "        fig = plt.figure(num=None, figsize=(25, 25), facecolor='black')\n",
    "        mne.viz.plot_connectivity_circle(con[freq_band][method]['con'][:, :, 0], label_names, n_lines=300,\n",
    "                                         node_angles=node_angles, node_colors=node_colors,\n",
    "                                         title='All-to-All Connectivity Epilepsy Condition ({} for {})'\n",
    "                                         .format(method, freq_band), padding=8, fontsize_title=35, fontsize_colorbar=25,\n",
    "                                         fontsize_names=20, fig=fig\n",
    "                                         )"
   ],
   "metadata": {
    "collapsed": false,
    "pycharm": {
     "name": "#%%\n"
    }
   }
  },
  {
   "cell_type": "code",
   "execution_count": 1,
   "outputs": [
    {
     "name": "stdout",
     "output_type": "stream",
     "text": [
      "Else\n"
     ]
    }
   ],
   "source": [
    "def return_none():\n",
    "    return None\n",
    "\n",
    "if return_none():\n",
    "    print('None')\n",
    "else:\n",
    "    print('Else')\n",
    "\n"
   ],
   "metadata": {
    "collapsed": false,
    "pycharm": {
     "name": "#%%\n"
    }
   }
  }
 ],
 "metadata": {
  "kernelspec": {
   "display_name": "Python 3",
   "language": "python",
   "name": "python3"
  },
  "language_info": {
   "codemirror_mode": {
    "name": "ipython",
    "version": 3
   },
   "file_extension": ".py",
   "mimetype": "text/x-python",
   "name": "python",
   "nbconvert_exporter": "python",
   "pygments_lexer": "ipython3",
   "version": "3.8.5"
  }
 },
 "nbformat": 4,
 "nbformat_minor": 1
}