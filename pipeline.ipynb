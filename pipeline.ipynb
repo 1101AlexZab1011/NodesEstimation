{
 "cells": [
  {
   "cell_type": "code",
   "execution_count": 193,
   "outputs": [
    {
     "name": "stdout",
     "output_type": "stream",
     "text": [
      "All computation has been already done, loading of the existing file with the solution...\n"
     ]
    }
   ],
   "source": [
    "import re\n",
    "from abc import *\n",
    "from typing import *\n",
    "import numpy as np\n",
    "import scipy as sp\n",
    "import mne\n",
    "from sklearn import svm\n",
    "from sklearn.ensemble import RandomForestClassifier, GradientBoostingClassifier, AdaBoostClassifier\n",
    "from sklearn.utils import shuffle\n",
    "from typing import List, Tuple\n",
    "from sklearn.model_selection import train_test_split\n",
    "from nodestimation.learning.estimation import collect_statistic, \\\n",
    "    compute_importance, collect_cross_statistic, make_selection_map, \\\n",
    "    select, separate_datasets, selected_statistic, choose_best, selected_data, make_feature_selection\n",
    "from nodestimation.project import  find_subject_dir\n",
    "from nodestimation.pipeline import pipeline\n",
    "import pandas as pd\n",
    "import matplotlib.pyplot as plt\n",
    "from sklearn.ensemble import RandomForestClassifier\n",
    "import nilearn.plotting as nplt\n",
    "from nodestimation.project.actions import read\n",
    "import nodestimation as nd\n",
    "from nodestimation.learning.modification import append_series, promote\n",
    "import nodestimation.learning.modification as lmd\n",
    "from nodestimation.project.subject import Subject\n",
    "from sklearn.preprocessing import *\n",
    "from sklearn.metrics import accuracy_score, classification_report, confusion_matrix\n",
    "from sklearn.neighbors import KNeighborsClassifier\n",
    "from sklearn.linear_model import LogisticRegression\n",
    "from sklearn.ensemble import RandomForestClassifier\n",
    "from sklearn.naive_bayes import GaussianNB\n",
    "from sklearn.discriminant_analysis import LinearDiscriminantAnalysis\n",
    "from sklearn.feature_selection import SelectFromModel\n",
    "from sklearn.cluster import KMeans\n",
    "from sklearn.neural_network import MLPClassifier\n",
    "import seaborn as sns\n",
    "import matplotlib as mpl\n",
    "from nodestimation.learning.selection import SubjectsStatistic\n",
    "from scipy.stats import wilcoxon\n",
    "from sklearn.ensemble import VotingClassifier\n",
    "\n",
    "subjects = pipeline(methods=['wpli', 'psd', 'envelope', 'imcoh', 'ciplv'],\n",
    "                    freq_bands=[(0.5, 4), (4, 7), (7, 14), (14, 30), (30, 70)])\n",
    "for subject in subjects:\n",
    "    s1 = subject.dataset"
   ],
   "metadata": {
    "collapsed": false,
    "pycharm": {
     "name": "#%%\n"
    }
   }
  },
  {
   "cell_type": "code",
   "execution_count": null,
   "outputs": [],
   "source": [
    "#     s2 = subject.dataset['4-7Hz_imcoh']\n",
    "#     print(s1.corr(s2))\n",
    "\n",
    "stat1 = SubjectsStatistic(subjects, 'resected')\n",
    "stat2 = SubjectsStatistic(subjects, 'resected', convert='binarize')\n",
    "stat3 = SubjectsStatistic(subjects, 'resected', convert='suppress')\n",
    "stat4 = SubjectsStatistic(subjects, 'resected', convert='promote')\n",
    "stat5 = SubjectsStatistic(subjects, 'resected', convert='clusterize')"
   ],
   "metadata": {
    "collapsed": false,
    "pycharm": {
     "name": "#%%\n"
    }
   }
  },
  {
   "cell_type": "code",
   "execution_count": null,
   "outputs": [],
   "source": [
    "stat1.datasets['true']"
   ],
   "metadata": {
    "collapsed": false,
    "pycharm": {
     "name": "#%%\n"
    }
   }
  },
  {
   "cell_type": "code",
   "execution_count": 180,
   "outputs": [
    {
     "name": "stdout",
     "output_type": "stream",
     "text": [
      "               resampled  reflected  resampled, conv  reflected, conv\n",
      "0.5-4Hz_wpli    0.684471   0.639150         0.141429         0.637352\n",
      "0.5-4Hz_psd     0.519615   0.040919         0.356965         0.317311\n",
      "0.5-4Hz_imcoh   0.061581   0.113715         0.910325         1.000000\n",
      "0.5-4Hz_ciplv   0.560957   0.797700         0.217861         0.393769\n",
      "4-7Hz_wpli      0.004110   0.000453         0.000554         0.004678\n",
      "4-7Hz_psd       0.856130   0.788061         0.819216         0.317311\n",
      "4-7Hz_imcoh     0.011342   0.015017         0.193100         0.029049\n",
      "4-7Hz_ciplv     0.527756   0.955130         0.289934         0.808365\n",
      "7-14Hz_wpli     0.135127   0.017815         0.010873         0.251349\n",
      "7-14Hz_psd      0.351583   0.985036         0.296340         0.654721\n",
      "7-14Hz_imcoh    0.072769   0.063340         0.990021         0.285049\n",
      "7-14Hz_ciplv    0.074786   0.227585         0.527162         0.393769\n",
      "14-30Hz_wpli    0.826795   0.398671         0.281782         0.052204\n",
      "14-30Hz_psd     0.965093   0.116599         0.865921         0.179712\n",
      "14-30Hz_imcoh   0.113715   0.345156         0.186541         0.285049\n",
      "14-30Hz_ciplv   0.826795   0.074786         0.464247         0.275234\n",
      "30-70Hz_wpli    0.195621   0.817068         0.219980         0.345779\n",
      "30-70Hz_psd     0.569413   0.503530         0.438071         0.033895\n",
      "30-70Hz_imcoh   0.721575   0.479904         0.125305         0.438578\n",
      "30-70Hz_ciplv   0.095070   0.066983         0.262659         0.345779\n",
      "envelope        0.351583   0.895547         0.276097         0.248213\n"
     ]
    },
    {
     "name": "stderr",
     "output_type": "stream",
     "text": [
      "/home/user/.local/lib/python3.8/site-packages/scipy/stats/morestats.py:2981: UserWarning: Sample size too small for normal approximation.\n",
      "  warnings.warn(\"Sample size too small for normal approximation.\")\n"
     ]
    }
   ],
   "source": [
    "test11 = stat1.test(state='resampled')\n",
    "test12 = stat1.test(state='reflected')\n",
    "test21 = stat2.test(state='resampled')\n",
    "test22 = stat2.test(state='reflected')\n",
    "test11_samples, test12_samples, test21_samples, test22_samples = list(), list(), list(), list()\n",
    "for feature in test11.result:\n",
    "    test11_samples.append(test11.result[feature][1])\n",
    "    test12_samples.append(test12.result[feature][1])\n",
    "    test21_samples.append(test21.result[feature][1])\n",
    "    test22_samples.append(test22.result[feature][1])\n",
    "\n",
    "test_samples = np.array([\n",
    "    np.array(test11_samples),\n",
    "    np.array(test12_samples),\n",
    "    np.array(test21_samples),\n",
    "    np.array(test22_samples)\n",
    "])\n",
    "\n",
    "df = pd.DataFrame(test_samples, columns=list(test11.result.keys()), index=[\n",
    "    'resampled', 'reflected', 'resampled, conv', 'reflected, conv'\n",
    "]).T\n",
    "print(df)"
   ],
   "metadata": {
    "collapsed": false,
    "pycharm": {
     "name": "#%%\n"
    }
   }
  },
  {
   "cell_type": "code",
   "execution_count": 181,
   "outputs": [
    {
     "name": "stdout",
     "output_type": "stream",
     "text": [
      "               resampled  reflected  resampled, conv  reflected, conv\n",
      "0.5-4Hz_wpli    0.150739   0.255418         0.223656         0.333906\n",
      "0.5-4Hz_psd     0.044170   0.341987         0.010319         0.410328\n",
      "0.5-4Hz_imcoh   0.007388   0.142523         0.010838         0.497850\n",
      "0.5-4Hz_ciplv   0.196456   0.358558         0.223752         0.194207\n",
      "4-7Hz_wpli      0.003312   0.000650         0.003637         0.004651\n",
      "4-7Hz_psd       0.179579   0.466136         0.019823         0.411890\n",
      "4-7Hz_imcoh     0.001956   0.006688         0.001061         0.024152\n",
      "4-7Hz_ciplv     0.430757   0.306621         0.498185         0.416127\n",
      "7-14Hz_wpli     0.157104   0.037884         0.126593         0.140134\n",
      "7-14Hz_psd      0.392482   0.469693         0.352224         0.416127\n",
      "7-14Hz_imcoh    0.023268   0.080748         0.063555         0.193126\n",
      "7-14Hz_ciplv    0.057170   0.104391         0.063444         0.193126\n",
      "14-30Hz_wpli    0.483944   0.071777         0.498185         0.062428\n",
      "14-30Hz_psd     0.448395   0.365264         0.498187         0.258740\n",
      "14-30Hz_imcoh   0.002383   0.138530         0.001060         0.184057\n",
      "14-30Hz_ciplv   0.416743   0.075524         0.223753         0.134562\n",
      "30-70Hz_wpli    0.058204   0.375400         0.010810         0.189814\n",
      "30-70Hz_psd     0.294172   0.355221         0.352981         0.096416\n",
      "30-70Hz_imcoh   0.448395   0.368633         0.498186         0.258740\n",
      "30-70Hz_ciplv   0.061392   0.048508         0.028015         0.180144\n",
      "envelope        0.284992   0.395925         0.223677         0.189814\n"
     ]
    }
   ],
   "source": [
    "test11 = stat1.test(state='resampled', test='mannwhitneyu')\n",
    "test12 = stat1.test(state='reflected', test='mannwhitneyu')\n",
    "test21 = stat2.test(state='resampled', test='mannwhitneyu')\n",
    "test22 = stat2.test(state='reflected', test='mannwhitneyu')\n",
    "test11_samples, test12_samples, test21_samples, test22_samples = list(), list(), list(), list()\n",
    "for feature in test11.result:\n",
    "    test11_samples.append(test11.result[feature][1])\n",
    "    test12_samples.append(test12.result[feature][1])\n",
    "    test21_samples.append(test21.result[feature][1])\n",
    "    test22_samples.append(test22.result[feature][1])\n",
    "\n",
    "test_samples = np.array([\n",
    "    np.array(test11_samples),\n",
    "    np.array(test12_samples),\n",
    "    np.array(test21_samples),\n",
    "    np.array(test22_samples)\n",
    "])\n",
    "\n",
    "df = pd.DataFrame(test_samples, columns=list(test11.result.keys()), index=[\n",
    "    'resampled', 'reflected', 'resampled, conv', 'reflected, conv'\n",
    "]).T\n",
    "print(df)\n"
   ],
   "metadata": {
    "collapsed": false,
    "pycharm": {
     "name": "#%%\n"
    }
   }
  },
  {
   "cell_type": "code",
   "execution_count": null,
   "outputs": [],
   "source": [],
   "metadata": {
    "collapsed": false,
    "pycharm": {
     "name": "#%%\n"
    }
   }
  },
  {
   "cell_type": "code",
   "execution_count": null,
   "outputs": [],
   "source": [
    "# true_data = stat2.datasets['true']\n",
    "# false_data = stat2.datasets['false']\n",
    "#\n",
    "# mpl.rcParams['text.color'] = 'white'\n",
    "# mpl.rcParams['xtick.color'] = 'white'\n",
    "# mpl.rcParams['ytick.color'] = 'white'\n",
    "# mpl.rcParams['axes.labelcolor'] = 'white'\n",
    "#\n",
    "# for i in range(len(true_data.columns)):\n",
    "#     f, ax = plt.subplots(figsize=(11, 6))\n",
    "#     sns.violinplot(\n",
    "#         data=[\n",
    "#             true_data[true_data.columns[i]].to_numpy(),\n",
    "#             false_data[false_data.columns[i]].to_numpy(),\n",
    "#         ],\n",
    "#         palette=\"Set3\",\n",
    "#         bw='scott',\n",
    "#         cut=5,\n",
    "#         linewidth=2,\n",
    "#     )\n",
    "#     labels = ['true', 'false']\n",
    "#     ax.set_xticks(np.arange(len(labels)))\n",
    "#     ax.set_xticklabels(labels= labels)\n",
    "#     ax.set_title(true_data.columns[i] + ', All')"
   ],
   "metadata": {
    "collapsed": false,
    "pycharm": {
     "name": "#%%\n"
    }
   }
  },
  {
   "cell_type": "code",
   "execution_count": 190,
   "outputs": [
    {
     "name": "stdout",
     "output_type": "stream",
     "text": [
      "                               envelope  resected\n",
      "L2M1_G_temporal_middle-rh      0.076257      True\n",
      "21                             0.081776     False\n",
      "B1C2_G_pariet_inf-Angular-rh   0.083423      True\n",
      "3                              0.081492     False\n",
      "L2M1_G_temp_sup-Plan_polar-lh  0.080529      True\n",
      "...                                 ...       ...\n",
      "B1C2_G&S_occipital_inf-rh      0.083817      True\n",
      "K1V1_G_temporal_middle-rh      0.085507      True\n",
      "K1V1_S_temporal_inf-rh         0.072837      True\n",
      "L1P1_S_temporal_transverse-rh  0.089564      True\n",
      "36                             0.081383     False\n",
      "\n",
      "[84 rows x 2 columns]\n"
     ]
    }
   ],
   "source": [
    "# features = ['4-7Hz_wpli', '7-14Hz_wpli', '14-30Hz_wpli', '30-70Hz_wpli']\n",
    "# features = ['4-7Hz_wpli', 'envelope']\n",
    "# features = ['4-7Hz_wpli']\n",
    "features = ['envelope']\n",
    "# features = ['4-7Hz_wpli', '4-7Hz_psd']\n",
    "true_data = stat1.datasets['true'][features]\n",
    "false_data = stat1.datasets['false_res'][features]\n",
    "true_data = true_data.assign(resected=True)\n",
    "false_data = false_data.assign(resected=False)\n",
    "dataset = pd.concat([true_data, false_data], axis=0)\n",
    "dataset = dataset.sample(frac = 1)\n",
    "print(dataset)\n",
    "\n",
    "# 61"
   ],
   "metadata": {
    "collapsed": false,
    "pycharm": {
     "name": "#%%\n"
    }
   }
  },
  {
   "cell_type": "code",
   "execution_count": 183,
   "outputs": [
    {
     "name": "stdout",
     "output_type": "stream",
     "text": [
      "               false  false_res  false_rand      true\n",
      "4-7Hz_wpli  0.080721   0.080657    0.079361  0.085515\n",
      "envelope    0.081489   0.081473    0.081706  0.082457\n",
      "               false  false_res  false_rand      true\n",
      "4-7Hz_wpli  0.011721   0.001884    0.009747  0.010633\n",
      "envelope    0.004814   0.000507    0.004677  0.006307\n"
     ]
    }
   ],
   "source": [
    "true_data = stat1.datasets['true'][features]\n",
    "false_data = stat1.datasets['false'][features]\n",
    "false_res_data = stat1.datasets['false_res'][features]\n",
    "false_rand_data = stat1.random_samples()[features]\n",
    "means = pd.concat([false_data.mean(), false_res_data.mean(), false_rand_data.mean(), true_data.mean()], axis=1)\n",
    "stds = pd.concat([false_data.std(), false_res_data.std(), false_rand_data.std(), true_data.std()], axis=1)\n",
    "\n",
    "means = pd.DataFrame(means.to_numpy(), index=features, columns=['false', 'false_res', 'false_rand', 'true'])\n",
    "stds = pd.DataFrame(stds.to_numpy(), index=features, columns=['false', 'false_res', 'false_rand', 'true'])\n",
    "\n",
    "print(means)\n",
    "print(stds)"
   ],
   "metadata": {
    "collapsed": false,
    "pycharm": {
     "name": "#%%\n"
    }
   }
  },
  {
   "cell_type": "code",
   "execution_count": 192,
   "outputs": [
    {
     "name": "stdout",
     "output_type": "stream",
     "text": [
      "Accuracy:  0.5238095238095238 0.5238095238095238 0.5238095238095238 [0.52380952] [1]\n",
      "Specifity 0.8 0.8 0.8 [0.8] [1]\n",
      "Sensitivity:  0.2727272727272727 0.2727272727272727 0.2727272727272727 [0.27272727] [1]\n",
      "Positive Predictive Value:  0.6 0.6 0.6 [0.6] [1]\n",
      "Negative Predictive Value:  0.5 0.5 0.5 [0.5] [1]\n"
     ]
    }
   ],
   "source": [
    "acc, spec, sens, pospred, negpred = list(), list(), list(), list(), list()\n",
    "for i in range(1000):\n",
    "    # clf = GradientBoostingClassifier(n_estimators=10, learning_rate=1.0, max_depth=10)\n",
    "    # clf = AdaBoostClassifier(n_estimators=10, random_state=0)\n",
    "    # clf = svm.SVC(kernel='linear')\n",
    "    clf = svm.SVC()\n",
    "    # clf = KNeighborsClassifier(n_neighbors=3)\n",
    "    # clf = LogisticRegression()\n",
    "    # clf = RandomForestClassifier(max_depth=20)\n",
    "    # clf = GaussianNB()\n",
    "    # clf = LinearDiscriminantAnalysis()\n",
    "    # clf = KMeans(n_clusters=2, algorithm='full')\n",
    "    # clf = MLPClassifier(solver='sgd', alpha=1e-5, hidden_layer_sizes=(10, 10), max_iter=1450)\n",
    "\n",
    "    true_data = stat1.datasets['true'][features]\n",
    "    # false_data = stat1.random_samples()[features]\n",
    "    # false_data = stat1.datasets['false_res'][features]\n",
    "    # true_data = stat1.random_samples()[features]\n",
    "    false_data = stat1.random_samples()[features]\n",
    "    # true_data = stat1.datasets['false_mirror'][features]\n",
    "    true_data = true_data.assign(resected=True)\n",
    "    false_data = false_data.assign(resected=False)\n",
    "    dataset = pd.concat([true_data, false_data], axis=0)\n",
    "    dataset = dataset.sample(frac = 1)\n",
    "\n",
    "\n",
    "    scaler = StandardScaler()\n",
    "    # scaler = MinMaxScaler()\n",
    "    # scaler = MaxAbsScaler()\n",
    "    # scaler = RobustScaler()\n",
    "\n",
    "\n",
    "\n",
    "    y = dataset['resected'].to_numpy()\n",
    "    dataset = dataset.drop(['resected'], axis=1)\n",
    "\n",
    "\n",
    "\n",
    "    dataset = lmd.suppress(dataset, axis=1, optimal='max')\n",
    "    # dataset = lmd.promote(dataset, axis=1, optimal='min')\n",
    "    # dataset = lmd.clusterize(dataset, axis=1, n_clusters=3, optimal='max')\n",
    "    # dataset = lmd.binarize(dataset, axis=1)\n",
    "\n",
    "\n",
    "    x = scaler.fit_transform(dataset)\n",
    "    # x = dataset\n",
    "    x_train, x_test, y_train, y_test = train_test_split(x, y)\n",
    "\n",
    "    clf.fit(x_train, y_train)\n",
    "    pred = clf.predict(x_test)\n",
    "    # df = pd.DataFrame(np.array([np.array(y_test), pred]).T, columns=['actually', 'prediction'])\n",
    "    # print(df)\n",
    "    acc.append(accuracy_score(y_test, pred))\n",
    "    tn, fp, fn, tp = confusion_matrix(y_test, pred).ravel()\n",
    "    spec.append(tn / (tn + fp))\n",
    "    sens.append(tp / (tp + fn))\n",
    "\n",
    "    if np.isnan(tp/(tp + fp)):\n",
    "        pospred.append(0)\n",
    "    else:\n",
    "        pospred.append(tp/(tp + fp))\n",
    "\n",
    "    if np.isnan((tn/(tn + fn))):\n",
    "        negpred.append(0)\n",
    "    else:\n",
    "        negpred.append(tn/(tn + fn))\n",
    "\n",
    "max_acc = np.max(np.array(acc))\n",
    "min_acc = np.min(np.array(acc))\n",
    "moda_acc, cacc = sp.stats.mode(np.array(acc))\n",
    "acc = sum(acc)/len(acc)\n",
    "max_spec = np.max(np.array(spec))\n",
    "min_spec = np.min(np.array(spec))\n",
    "moda_spec, cspec = sp.stats.mode(np.array(spec))\n",
    "spec = sum(spec)/len(spec)\n",
    "max_sens = np.max(np.array(sens))\n",
    "min_sens = np.min(np.array(sens))\n",
    "moda_sens, csens = sp.stats.mode(np.array(sens))\n",
    "sens = sum(sens)/len(sens)\n",
    "max_pospred = np.max(np.array(pospred))\n",
    "min_pospred = np.min(np.array(pospred))\n",
    "moda_pospred, cpospred = sp.stats.mode(np.array(pospred))\n",
    "pospred = sum(pospred)/len(pospred)\n",
    "max_negpred = np.max(np.array(negpred))\n",
    "min_negpred = np.min(np.array(negpred))\n",
    "moda_negpred, cnegspred = sp.stats.mode(np.array(negpred))\n",
    "negpred = sum(negpred)/len(negpred)\n",
    "print('Accuracy: ', acc, min_acc, max_acc, moda_acc, cacc)\n",
    "print('Specifity', spec, min_spec, max_spec, moda_spec, cspec)\n",
    "print('Sensitivity: ', sens, min_sens, max_sens, moda_sens, csens)\n",
    "print('Positive Predictive Value: ', pospred, min_pospred, max_pospred, moda_pospred, cpospred)\n",
    "print('Negative Predictive Value: ', negpred, min_negpred, max_negpred, moda_negpred, cnegspred)\n"
   ],
   "metadata": {
    "collapsed": false,
    "pycharm": {
     "name": "#%%\n"
    }
   }
  },
  {
   "cell_type": "code",
   "execution_count": 189,
   "outputs": [
    {
     "name": "stdout",
     "output_type": "stream",
     "text": [
      "Accuracy:  0.6666666666666666\n",
      "[[-1.         -1.         -1.         -1.         -1.         -1.\n",
      "  -1.         -1.         -1.         -1.         -1.         -1.\n",
      "  -0.46403562 -0.6067478  -1.         -1.         -1.         -1.\n",
      "  -1.         -1.         -0.32496928 -1.         -1.         -1.\n",
      "  -1.         -1.         -1.         -0.70437287  1.          1.\n",
      "   1.          1.          1.          1.          1.          1.\n",
      "   0.25118065  1.          1.          1.          1.          1.\n",
      "   1.          1.          1.          1.          1.          1.\n",
      "   1.          1.          1.          0.84894492  1.          1.\n",
      "   1.        ]]\n"
     ]
    }
   ],
   "source": [
    "# clf = svm.SVC(kernel='linear')#probability=True)\n",
    "clf = svm.SVC()\n",
    "true_data = stat1.datasets['true'][features]\n",
    "false_data = stat1.random_samples()[features]\n",
    "# false_data = stat1.datasets['false_mirror'][features]\n",
    "true_data = true_data.assign(resected=True)\n",
    "false_data = false_data.assign(resected=False)\n",
    "dataset = pd.concat([true_data, false_data], axis=0)\n",
    "dataset = dataset.sample(frac = 1)\n",
    "scaler = StandardScaler()\n",
    "x = scaler.fit_transform(dataset.drop(['resected'], axis=1))\n",
    "y = dataset['resected'].to_numpy()\n",
    "dataset = dataset.drop(['resected'], axis=1)\n",
    "x_train, x_test, y_train, y_test = train_test_split(x, y)\n",
    "clf.fit(x_train, y_train)\n",
    "y_pred = clf.predict(x_test)\n",
    "print('Accuracy: ', accuracy_score(y_test, y_pred))\n",
    "# des = clf.decision_function(x_test)\n",
    "# prob = clf.predict_proba(x_test)\n",
    "# print(des)\n",
    "# print(prob)\n",
    "# print(clf.classes_)\n",
    "coefs = clf.dual_coef_\n",
    "# print(pd.Series(coefs, index=features))\n",
    "print(coefs)"
   ],
   "metadata": {
    "collapsed": false,
    "pycharm": {
     "name": "#%%\n"
    }
   }
  },
  {
   "cell_type": "code",
   "execution_count": 138,
   "outputs": [
    {
     "data": {
      "text/plain": "<Figure size 432x288 with 1 Axes>",
      "image/png": "[encoded data removed]"
     },
     "metadata": {
      "needs_background": "dark"
     },
     "output_type": "display_data"
    }
   ],
   "source": [
    "features = ['4-7Hz_wpli', '4-7Hz_psd']\n",
    "true_data = stat1.datasets['true'][features]\n",
    "# false_data = stat1.datasets['false_res'][features]\n",
    "false_data = stat1.random_samples()[features]\n",
    "true_data = true_data.assign(resected=True)\n",
    "false_data = false_data.assign(resected=False)\n",
    "dataset = pd.concat([true_data, false_data], axis=0)\n",
    "dataset = dataset.sample(frac = 1)\n",
    "\n",
    "\n",
    "clf1 = LogisticRegression(max_iter=1000, random_state=123)\n",
    "clf2 = LinearDiscriminantAnalysis()\n",
    "clf3 = GaussianNB()\n",
    "clf4 = svm.SVC(probability=True)\n",
    "X = scaler.fit_transform(dataset.drop(['resected'], axis=1))\n",
    "y = dataset['resected'].to_numpy()\n",
    "\n",
    "eclf = VotingClassifier(estimators=[('lr', clf1), ('rf', clf2), ('gnb', clf3)],\n",
    "                        voting='soft',\n",
    "                        weights=[1, 1, 5])\n",
    "\n",
    "# predict class probabilities for all classifiers\n",
    "probas = [c.fit(X, y).predict_proba(X) for c in (clf1, clf2, clf4, eclf)]\n",
    "\n",
    "# get class probabilities for the first sample in the dataset\n",
    "class1_1 = [pr[0, 0] for pr in probas]\n",
    "class2_1 = [pr[0, 1] for pr in probas]\n",
    "\n",
    "\n",
    "# plotting\n",
    "\n",
    "N = 4  # number of groups\n",
    "ind = np.arange(N)  # group positions\n",
    "width = 0.35  # bar width\n",
    "\n",
    "fig, ax = plt.subplots()\n",
    "\n",
    "# bars for classifier 1-3\n",
    "p1 = ax.bar(ind, np.hstack(([class1_1[:-1], [0]])), width,\n",
    "            color='green', edgecolor='k')\n",
    "p2 = ax.bar(ind + width, np.hstack(([class2_1[:-1], [0]])), width,\n",
    "            color='lightgreen', edgecolor='k')\n",
    "\n",
    "# bars for VotingClassifier\n",
    "p3 = ax.bar(ind, [0, 0, 0, class1_1[-1]], width,\n",
    "            color='blue', edgecolor='k')\n",
    "p4 = ax.bar(ind + width, [0, 0, 0, class2_1[-1]], width,\n",
    "            color='steelblue', edgecolor='k')\n",
    "\n",
    "# plot annotations\n",
    "plt.axvline(2.8, color='k', linestyle='dashed')\n",
    "ax.set_xticks(ind + width)\n",
    "ax.set_xticklabels(['LogisticRegression',\n",
    "                    'GaussianNB',\n",
    "                    'SVM',\n",
    "                    'VotingClassifier\\n(average probabilities)'],\n",
    "                   rotation=40,\n",
    "                   ha='right')\n",
    "plt.ylim([0, 1])\n",
    "plt.title('Class probabilities for sample 1 by different classifiers')\n",
    "plt.legend([p1[0], p2[0]], ['class 1', 'class 2'], loc='upper left', facecolor='grey')\n",
    "plt.tight_layout()\n",
    "plt.show()\n"
   ],
   "metadata": {
    "collapsed": false,
    "pycharm": {
     "name": "#%%\n"
    }
   }
  },
  {
   "cell_type": "code",
   "execution_count": null,
   "outputs": [],
   "source": [
    "# from nodestimation.mlearning.features import prepare_connectivity, prepare_data\n",
    "# con = pkl.load(open(subjects[0].data['con'], 'rb'))\n",
    "\n",
    "subjects_dir, subjects_ = find_subject_dir()\n",
    "labels = mne.read_labels_from_annot('B1C2', parc='aparc', subjects_dir=subjects_dir)\n",
    "label_names = [label.name for label in labels]\n",
    "lh_labels = [name for name in label_names if name.endswith('lh')]\n",
    "rh_labels = [name for name in label_names if name.endswith('rh')]\n",
    "\n",
    "label_ypos_lh = list()\n",
    "\n",
    "for name in lh_labels:\n",
    "    idx = label_names.index(name)\n",
    "    ypos = np.mean(labels[idx].pos[:, 1])\n",
    "    label_ypos_lh.append(ypos)\n",
    "\n",
    "try:\n",
    "    idx = label_names.index('Brain-Stem')\n",
    "\n",
    "except ValueError:\n",
    "    pass\n",
    "\n",
    "else:\n",
    "    ypos = np.mean(labels[idx].pos[:, 1])\n",
    "    lh_labels.append('Brain-Stem')\n",
    "    label_ypos_lh.append(ypos)\n",
    "\n",
    "\n",
    "lh_labels = [label for (yp, label) in sorted(zip(label_ypos_lh, lh_labels))]\n",
    "\n",
    "rh_labels = [label[:-2] + 'rh' for label in lh_labels\n",
    "             if label != 'Brain-Stem' and label[:-2] + 'rh' in rh_labels]\n",
    "\n",
    "\n",
    "node_colors = [label.color for label in labels]\n",
    "\n",
    "node_order = lh_labels[::-1] + rh_labels\n",
    "\n",
    "node_angles = mne.viz.circular_layout(label_names, node_order, start_pos=90,\n",
    "                              group_boundaries=[0, len(label_names) // 2])"
   ],
   "metadata": {
    "collapsed": false,
    "pycharm": {
     "name": "#%%\n"
    }
   }
  },
  {
   "cell_type": "code",
   "execution_count": null,
   "outputs": [],
   "source": [
    "# methods = [\n",
    "#     'coh',\n",
    "#     'imcoh',\n",
    "#     'plv',\n",
    "#     'ciplv',\n",
    "#     'ppc',\n",
    "#     'pli'\n",
    "# ]\n",
    "#\n",
    "# freq_bands = [\n",
    "#     '0.5-4Hz',\n",
    "#     '4-7Hz',\n",
    "#     '7-14Hz',\n",
    "#     '14-30Hz'\n",
    "# ]\n",
    "#\n",
    "# for method in methods:\n",
    "#     for freq_band in freq_bands:\n",
    "#         fig = plt.figure(num=None, figsize=(25, 25), facecolor='black')\n",
    "#         mne.viz.plot_connectivity_circle(con[freq_band][method]['con'][:, :, 0], label_names, n_lines=300,\n",
    "#                                          node_angles=node_angles, node_colors=node_colors,\n",
    "#                                          title='All-to-All Connectivity Epilepsy Condition ({} for {})'\n",
    "#                                          .format(method, freq_band), padding=8, fontsize_title=35, fontsize_colorbar=25,\n",
    "#                                          fontsize_names=20, fig=fig\n",
    "#                                          )"
   ],
   "metadata": {
    "collapsed": false,
    "pycharm": {
     "name": "#%%\n"
    }
   }
  },
  {
   "cell_type": "code",
   "execution_count": null,
   "outputs": [],
   "source": [
    "for subject in subjects:\n",
    "    fig, ax = plt.subplots(figsize=(15,15))\n",
    "    display = nplt.plot_glass_brain(None, display_mode='lyrz', figure=fig, axes=ax)\n",
    "    spared = [node.nilearn_coordinates for node in subject.nodes if node.type == 'spared']\n",
    "    resected = [node.nilearn_coordinates for node in subject.nodes if node.type == 'resected']\n",
    "    resection = read['resec-mni'](subject.data['resec-mni'])\n",
    "    display.add_markers(resection, marker_color=\"violet\", marker_size=1)\n",
    "    display.add_markers(np.array(spared), marker_color=\"yellow\", marker_size=100)\n",
    "    display.add_markers(np.array(resected), marker_color=\"red\", marker_size=250)\n",
    "\n",
    "\n",
    "\n"
   ],
   "metadata": {
    "collapsed": false,
    "pycharm": {
     "name": "#%%\n"
    }
   }
  }
 ],
 "metadata": {
  "kernelspec": {
   "display_name": "Python 3",
   "language": "python",
   "name": "python3"
  },
  "language_info": {
   "codemirror_mode": {
    "name": "ipython",
    "version": 3
   },
   "file_extension": ".py",
   "mimetype": "text/x-python",
   "name": "python",
   "nbconvert_exporter": "python",
   "pygments_lexer": "ipython3",
   "version": "3.8.5"
  }
 },
 "nbformat": 4,
 "nbformat_minor": 1
}