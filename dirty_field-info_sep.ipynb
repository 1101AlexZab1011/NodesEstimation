{
 "cells": [
  {
   "cell_type": "code",
   "execution_count": 1,
   "metadata": {
    "collapsed": true
   },
   "outputs": [
    {
     "name": "stderr",
     "output_type": "stream",
     "text": [
      "/home/user/PycharmProjects/NodesEstimation/venv/lib/python3.9/site-packages/nilearn/datasets/__init__.py:87: FutureWarning: Fetchers from the nilearn.datasets module will be updated in version 0.9 to return python strings instead of bytes and Pandas dataframes instead of Numpy arrays.\n",
      "  warn(\"Fetchers from the nilearn.datasets module will be \"\n"
     ]
    }
   ],
   "source": [
    "import itertools\n",
    "import operator\n",
    "import re\n",
    "from abc import *\n",
    "from copy import deepcopy\n",
    "from operator import itemgetter\n",
    "from typing import *\n",
    "import numpy as np\n",
    "import scipy as sp\n",
    "import networkx as nx\n",
    "import mne\n",
    "import time\n",
    "from sklearn import svm\n",
    "from sklearn.ensemble import RandomForestClassifier, GradientBoostingClassifier, AdaBoostClassifier\n",
    "from sklearn.neighbors._dist_metrics import DistanceMetric\n",
    "from sklearn.utils import shuffle\n",
    "from typing import List, Tuple\n",
    "from sklearn.model_selection import train_test_split\n",
    "from nodestimation.learning.estimation import collect_statistic, \\\n",
    "    compute_importance, collect_cross_statistic, make_selection_map, \\\n",
    "    select, separate_datasets, selected_statistic, choose_best, selected_data, make_feature_selection\n",
    "from nodestimation.learning.informativeness import CrossInformativeness, Informativeness, SubjectsInformativeness, \\\n",
    "    NodesInformativeness\n",
    "from nodestimation.learning.networking import sparse_graph, graph_to_hemispheres, hemispheres_division_modularity, \\\n",
    "    metric_for_hemispheres\n",
    "from nodestimation.processing.features import prepare_features\n",
    "from nodestimation.project import find_subject_dir, conditions_unique_code\n",
    "from nodestimation.pipeline import pipeline\n",
    "import pandas as pd\n",
    "import matplotlib.pyplot as plt\n",
    "from sklearn.ensemble import RandomForestClassifier\n",
    "import nibabel\n",
    "import nilearn.plotting as nplt\n",
    "from nodestimation.project.actions import read\n",
    "import nodestimation as nd\n",
    "from nodestimation.learning.modification import append_series, promote\n",
    "import nodestimation.learning.modification as lmd\n",
    "from nodestimation.project.subject import Subject\n",
    "from sklearn.preprocessing import *\n",
    "from sklearn.metrics import accuracy_score, classification_report, confusion_matrix\n",
    "from sklearn.neighbors import KNeighborsClassifier\n",
    "from sklearn.linear_model import LogisticRegression\n",
    "from sklearn.ensemble import RandomForestClassifier\n",
    "from sklearn.naive_bayes import GaussianNB\n",
    "from sklearn.discriminant_analysis import LinearDiscriminantAnalysis, QuadraticDiscriminantAnalysis\n",
    "from sklearn.feature_selection import SelectFromModel\n",
    "from sklearn.cluster import KMeans\n",
    "from sklearn.neural_network import MLPClassifier\n",
    "import seaborn as sns\n",
    "import matplotlib as mpl\n",
    "from nodestimation.learning.selection import SubjectsStatistic, Wilcoxon, Mannwhitneyu, Test\n",
    "from scipy.stats import wilcoxon\n",
    "from sklearn.ensemble import VotingClassifier\n",
    "from sklearn.model_selection import cross_val_score\n",
    "from sklearn.linear_model import SGDClassifier\n",
    "from scipy.fftpack import fftfreq, irfft, rfft\n",
    "from scipy.fftpack import fftfreq, irfft, rfft\n",
    "\n",
    "ENGEL1 = [\n",
    "    'B1C2',\n",
    "    'B1R1',\n",
    "    'G1R1',\n",
    "    'G1V2',\n",
    "    'J1T2',\n",
    "    'K1V1',\n",
    "    'L1P1',\n",
    "    'M1G2',\n",
    "    'M1N2',\n",
    "    'O1O2',\n",
    "    'R1D2',\n",
    "    'S1A2',\n",
    "    'S1B1',\n",
    "    'S1H1',\n",
    "    'S1U3'\n",
    "]\n",
    "ENGEL2 = [\n",
    "    'L2M1',\n",
    "    'M2S2',\n",
    "    'N2K2',\n",
    "    'P1H2'\n",
    "]\n",
    "ENGEL34 = [\n",
    "    'N3S2',\n",
    "    'S3R1',\n",
    "    'K4L2'\n",
    "]\n",
    "REJECTED = [\n",
    "    'S1U3',\n",
    "    'P1H2'\n",
    "]"
   ]
  },
  {
   "cell_type": "code",
   "execution_count": 2,
   "outputs": [
    {
     "name": "stdout",
     "output_type": "stream",
     "text": [
      "All computation has been already done, loading of the existing file with the solution...\n"
     ]
    }
   ],
   "source": [
    "subjects = pipeline(\n",
    "    methods=['wpli', 'envelope', 'coh', 'imcoh', 'plv', 'ciplv', 'ppc', 'pli', 'pli2_unbiased', 'wpli2_debiased'],\n",
    "    freq_bands=(4, 8),\n",
    "    centrality_metrics=['eigen', 'between', 'degree', 'info']\n",
    "    )"
   ],
   "metadata": {
    "collapsed": false,
    "pycharm": {
     "name": "#%%\n"
    }
   }
  },
  {
   "cell_type": "code",
   "execution_count": 3,
   "outputs": [
    {
     "name": "stdout",
     "output_type": "stream",
     "text": [
      "stat done\n",
      "P1H2: DONE, RUNTIME: 3.324129104614258\n",
      "M2S2: DONE, RUNTIME: 3.3710105419158936\n",
      "R1D2: DONE, RUNTIME: 3.7680153846740723\n",
      "N3S2: DONE, RUNTIME: 3.0322675704956055\n",
      "S1A2: DONE, RUNTIME: 2.7969248294830322\n",
      "S1H1: DONE, RUNTIME: 4.517841577529907\n",
      "K1V1: DONE, RUNTIME: 4.135915279388428\n",
      "L1P1: DONE, RUNTIME: 3.033115863800049\n",
      "M1G2: DONE, RUNTIME: 3.741621494293213\n",
      "G1V2: DONE, RUNTIME: 2.6584486961364746\n",
      "G1R1: DONE, RUNTIME: 2.6654160022735596\n",
      "M1N2: DONE, RUNTIME: 3.1008219718933105\n",
      "S1B1: DONE, RUNTIME: 3.24104642868042\n",
      "S1U3: DONE, RUNTIME: 2.89013409614563\n",
      "B1R1: DONE, RUNTIME: 3.0364181995391846\n",
      "S3R1: DONE, RUNTIME: 3.3339126110076904\n",
      "N2K2: DONE, RUNTIME: 5.040663480758667\n",
      "K4L2: DONE, RUNTIME: 3.2938270568847656\n",
      "B1C2: DONE, RUNTIME: 3.350198745727539\n",
      "J1T2: DONE, RUNTIME: 3.1894960403442383\n",
      "O1O2: DONE, RUNTIME: 3.228973865509033\n",
      "L2M1: DONE, RUNTIME: 3.730604648590088\n",
      "P1H2: DONE, RUNTIME: 2.0170390605926514\n",
      "M2S2: DONE, RUNTIME: 1.9807398319244385\n",
      "R1D2: DONE, RUNTIME: 2.193682909011841\n",
      "N3S2: DONE, RUNTIME: 1.7871103286743164\n",
      "S1A2: DONE, RUNTIME: 1.6756043434143066\n",
      "S1H1: DONE, RUNTIME: 2.2602286338806152\n",
      "K1V1: DONE, RUNTIME: 2.149247884750366\n",
      "L1P1: DONE, RUNTIME: 1.8391156196594238\n",
      "M1G2: DONE, RUNTIME: 2.178804874420166\n",
      "G1V2: DONE, RUNTIME: 1.6670098304748535\n",
      "G1R1: DONE, RUNTIME: 1.6735637187957764\n",
      "M1N2: DONE, RUNTIME: 1.8518214225769043\n",
      "S1B1: DONE, RUNTIME: 1.9774112701416016\n",
      "S1U3: DONE, RUNTIME: 1.7450923919677734\n",
      "B1R1: DONE, RUNTIME: 1.695033311843872\n",
      "S3R1: DONE, RUNTIME: 2.057401657104492\n",
      "N2K2: DONE, RUNTIME: 2.973360538482666\n",
      "K4L2: DONE, RUNTIME: 2.001210927963257\n",
      "B1C2: DONE, RUNTIME: 2.019404172897339\n",
      "J1T2: DONE, RUNTIME: 1.9321568012237549\n",
      "O1O2: DONE, RUNTIME: 1.93876314163208\n",
      "L2M1: DONE, RUNTIME: 2.179131269454956\n",
      "P1H2: DONE, RUNTIME: 2.1546056270599365\n",
      "M2S2: DONE, RUNTIME: 2.253422260284424\n",
      "R1D2: DONE, RUNTIME: 2.6282641887664795\n",
      "N3S2: DONE, RUNTIME: 1.8281817436218262\n",
      "S1A2: DONE, RUNTIME: 1.9027931690216064\n",
      "S1H1: DONE, RUNTIME: 2.5657787322998047\n",
      "K1V1: DONE, RUNTIME: 2.4263365268707275\n",
      "L1P1: DONE, RUNTIME: 1.9465866088867188\n",
      "M1G2: DONE, RUNTIME: 2.362375020980835\n",
      "G1V2: DONE, RUNTIME: 1.8485908508300781\n",
      "G1R1: DONE, RUNTIME: 1.8375849723815918\n",
      "M1N2: DONE, RUNTIME: 2.0019969940185547\n",
      "S1B1: DONE, RUNTIME: 2.1999945640563965\n",
      "S1U3: DONE, RUNTIME: 1.7682478427886963\n",
      "B1R1: DONE, RUNTIME: 1.7547948360443115\n",
      "S3R1: DONE, RUNTIME: 2.1473288536071777\n",
      "N2K2: DONE, RUNTIME: 3.0421130657196045\n",
      "K4L2: DONE, RUNTIME: 2.2501158714294434\n",
      "B1C2: DONE, RUNTIME: 2.1753463745117188\n",
      "J1T2: DONE, RUNTIME: 2.3069775104522705\n",
      "O1O2: DONE, RUNTIME: 2.3778421878814697\n",
      "L2M1: DONE, RUNTIME: 2.5602502822875977\n",
      "graph done\n"
     ]
    }
   ],
   "source": [
    "stat = SubjectsStatistic(subjects, 'resected', centrality_metric='eigen')\n",
    "print('stat done')\n",
    "\n",
    "DATASETS = [\n",
    "    metric_for_hemispheres(subjects, nx.algorithms.cluster.transitivity),\n",
    "    metric_for_hemispheres(subjects, nx.algorithms.smetric.s_metric, normalized=False),\n",
    "    metric_for_hemispheres(subjects, nx.algorithms.global_efficiency),\n",
    "]\n",
    "print('graph done')"
   ],
   "metadata": {
    "collapsed": false,
    "pycharm": {
     "name": "#%%\n"
    }
   }
  },
  {
   "cell_type": "code",
   "execution_count": 4,
   "outputs": [],
   "source": [
    "# Engel 1 and 2, global efficiency\n",
    "\n",
    "datasets = DATASETS.copy()\n",
    "\n",
    "\n",
    "for i in range(len(datasets)):\n",
    "    for sample in datasets[i].index:\n",
    "        subject = sample[:4]\n",
    "        if not subject in ENGEL1\\\n",
    "                and not subject in ENGEL2\\\n",
    "                or subject in REJECTED:\n",
    "            datasets[i] = datasets[i].drop(index=sample)"
   ],
   "metadata": {
    "collapsed": false,
    "pycharm": {
     "name": "#%%\n"
    }
   }
  },
  {
   "cell_type": "code",
   "execution_count": 5,
   "outputs": [],
   "source": [
    "names = ['transitivity', 's_metric', 'global_efficiency']\n",
    "cross_hemispheres_informativeness_arr = list()\n",
    "cross_subjects_informativeness_arr = list()\n",
    "\n",
    "for dataset, name in zip(datasets, names):\n",
    "    cross_hemispheres_informativeness = CrossInformativeness()\n",
    "    cross_subjects_informativeness = CrossInformativeness()\n",
    "\n",
    "    for _ in range(100):\n",
    "        hemispheres_informatoveness = Informativeness()\n",
    "        subjects_informativeness = SubjectsInformativeness()\n",
    "        acc, spec, sens, pospred, negpred = list(), list(), list(), list(), list()\n",
    "\n",
    "        for i in range(100):\n",
    "\n",
    "            y = dataset['resected'].to_numpy()\n",
    "            x = dataset[[f'{name}_for_wpli_4-8Hz', f'{name}_for_envelope_4-8Hz']].to_numpy()\n",
    "\n",
    "            scaler = StandardScaler()\n",
    "            x = scaler.fit_transform(x)\n",
    "\n",
    "            samples = [[sample] for sample in dataset.index.tolist()]\n",
    "\n",
    "            x = np.append(x, samples, axis=1)\n",
    "            x_train, x_test, y_train, y_test = train_test_split(x, y)\n",
    "            train_samples, test_samples = x_train[:, 2], x_test[:, 2]\n",
    "            x_train, x_test = x_train[:, 0:2], x_test[:, 0:2]\n",
    "\n",
    "            clf = svm.SVC()\n",
    "            clf.fit(x_train, y_train)\n",
    "            pred = clf.predict(x_test)\n",
    "\n",
    "            for predicted, actual, sample, value in zip(pred, y_test, test_samples, x_test):\n",
    "                hemispheres_informatoveness.informativeness = sample, actual, 'correct' if predicted == actual else 'wrong'\n",
    "                subjects_informativeness.informativeness = sample, actual, 'correct' if predicted == actual else 'wrong'\n",
    "\n",
    "        cross_subjects_informativeness.informativeness = subjects_informativeness\n",
    "        cross_hemispheres_informativeness.informativeness = hemispheres_informatoveness\n",
    "\n",
    "    cross_hemispheres_informativeness_arr.append(cross_hemispheres_informativeness)\n",
    "    cross_subjects_informativeness_arr.append(cross_subjects_informativeness)"
   ],
   "metadata": {
    "collapsed": false,
    "pycharm": {
     "name": "#%%\n"
    }
   }
  },
  {
   "cell_type": "code",
   "execution_count": 6,
   "outputs": [
    {
     "name": "stderr",
     "output_type": "stream",
     "text": [
      "<ipython-input-6-5a9600c4e578>:66: RuntimeWarning: invalid value encountered in long_scalars\n",
      "  if np.isnan((tn/(tn + fn))):\n",
      "<ipython-input-6-5a9600c4e578>:61: RuntimeWarning: invalid value encountered in long_scalars\n",
      "  if np.isnan(tp/(tp + fp)):\n",
      "<ipython-input-6-5a9600c4e578>:61: RuntimeWarning: invalid value encountered in long_scalars\n",
      "  if np.isnan(tp/(tp + fp)):\n",
      "<ipython-input-6-5a9600c4e578>:61: RuntimeWarning: invalid value encountered in long_scalars\n",
      "  if np.isnan(tp/(tp + fp)):\n",
      "<ipython-input-6-5a9600c4e578>:61: RuntimeWarning: invalid value encountered in long_scalars\n",
      "  if np.isnan(tp/(tp + fp)):\n",
      "<ipython-input-6-5a9600c4e578>:61: RuntimeWarning: invalid value encountered in long_scalars\n",
      "  if np.isnan(tp/(tp + fp)):\n",
      "<ipython-input-6-5a9600c4e578>:61: RuntimeWarning: invalid value encountered in long_scalars\n",
      "  if np.isnan(tp/(tp + fp)):\n",
      "<ipython-input-6-5a9600c4e578>:61: RuntimeWarning: invalid value encountered in long_scalars\n",
      "  if np.isnan(tp/(tp + fp)):\n",
      "<ipython-input-6-5a9600c4e578>:61: RuntimeWarning: invalid value encountered in long_scalars\n",
      "  if np.isnan(tp/(tp + fp)):\n"
     ]
    }
   ],
   "source": [
    "# Engel 1 and 2, eigencentrality\n",
    "\n",
    "cross_nodes_informativeness = CrossInformativeness()\n",
    "cross_subjects_informativeness = CrossInformativeness()\n",
    "cross_samples_informativeness = CrossInformativeness()\n",
    "\n",
    "for _ in range(100):\n",
    "    features = ['4-8Hz_wpli', '4-8Hz_envelope']\n",
    "    acc, spec, sens, pospred, negpred = list(), list(), list(), list(), list()\n",
    "\n",
    "    samples_informativeness = Informativeness()\n",
    "    nodes_informativeness = NodesInformativeness()\n",
    "    subject_informativeness = SubjectsInformativeness()\n",
    "\n",
    "    for _ in range(100):\n",
    "        clf = svm.SVC()\n",
    "        true_data = stat.datasets['true'][features]\n",
    "        false_data = stat.datasets['false_mirror'][features]\n",
    "        true_data = true_data.assign(resected=True)\n",
    "        false_data = false_data.assign(resected=False)\n",
    "        for sample in true_data.index:\n",
    "            subject = sample[:4]\n",
    "            if not subject in ENGEL1 and\\\n",
    "                not subject in ENGEL2 or\\\n",
    "                subject in REJECTED:\n",
    "                true_data = true_data.drop(index=sample)\n",
    "        for sample in false_data.index:\n",
    "            if not any([subject in sample for subject in ENGEL1]) and\\\n",
    "                    not any([subject in sample for subject in ENGEL2]) or\\\n",
    "                    any([subject in sample for subject in REJECTED]):\n",
    "                false_data = false_data.drop(index=sample)\n",
    "        dataset = pd.concat([true_data, false_data], axis=0)\n",
    "        dataset = dataset.sample(frac = 1)\n",
    "\n",
    "\n",
    "        scaler = StandardScaler()\n",
    "\n",
    "        y = dataset['resected'].to_numpy()\n",
    "        dataset = dataset.drop(['resected'], axis=1)\n",
    "        samples = [[sample] for sample in dataset.index.tolist()]\n",
    "\n",
    "        x = scaler.fit_transform(dataset)\n",
    "        x = np.append(x, samples, axis=1)\n",
    "        x_train, x_test, y_train, y_test = train_test_split(x, y)\n",
    "        train_samples, test_samples = x_train[:, 2], x_test[:, 2]\n",
    "        x_train, x_test = x_train[:, 0:2], x_test[:, 0:2]\n",
    "\n",
    "        clf.fit(x_train, y_train)\n",
    "        pred = clf.predict(x_test)\n",
    "\n",
    "        for predicted, actual, sample, value in zip(pred, y_test, test_samples, x_test):\n",
    "            nodes_informativeness.informativeness = sample, actual, 'correct' if predicted == actual else 'wrong'\n",
    "            subject_informativeness.informativeness = sample, actual, 'correct' if predicted == actual else 'wrong'\n",
    "            samples_informativeness.informativeness = sample, actual, 'correct' if predicted == actual else 'wrong'\n",
    "\n",
    "        acc.append(accuracy_score(y_test, pred))\n",
    "        tn, fp, fn, tp = confusion_matrix(y_test, pred).ravel()\n",
    "        spec.append(tn / (tn + fp))\n",
    "        sens.append(tp / (tp + fn))\n",
    "\n",
    "        if np.isnan(tp/(tp + fp)):\n",
    "            pospred.append(0)\n",
    "        else:\n",
    "            pospred.append(tp/(tp + fp))\n",
    "\n",
    "        if np.isnan((tn/(tn + fn))):\n",
    "            negpred.append(0)\n",
    "        else:\n",
    "            negpred.append(tn/(tn + fn))\n",
    "\n",
    "    # print('acc: ', np.array(acc).mean())\n",
    "    # print('spec: ', np.array(spec).mean())\n",
    "    # print('sens: ', np.array(sens).mean())\n",
    "\n",
    "    cross_nodes_informativeness.informativeness = nodes_informativeness\n",
    "    cross_subjects_informativeness.informativeness = subject_informativeness\n",
    "    cross_samples_informativeness.informativeness = samples_informativeness\n",
    "\n",
    "cross_subjects_informativeness_arr.append(cross_subjects_informativeness)\n",
    "\n"
   ],
   "metadata": {
    "collapsed": false,
    "pycharm": {
     "name": "#%%\n"
    }
   }
  },
  {
   "cell_type": "code",
   "execution_count": 9,
   "outputs": [],
   "source": [
    "series = list()\n",
    "names = [\n",
    "        'accuracy',\n",
    "        'ppv',\n",
    "        'npv'\n",
    "    ]\n",
    "\n",
    "for data in [\n",
    "        cross_samples_informativeness.acc(),\n",
    "        cross_samples_informativeness.ppv(),\n",
    "        cross_samples_informativeness.npv()\n",
    "    ]:\n",
    "    series.append(\n",
    "        dict(\n",
    "            sorted(\n",
    "                data.items(),\n",
    "                key=lambda item: item[0]\n",
    "            )\n",
    "        )\n",
    "    )\n",
    "\n",
    "df = pd.DataFrame(\n",
    "    series,\n",
    "    index=names\n",
    ")\n",
    "df = df.T\n",
    "# print(df)\n",
    "df\n",
    "df.to_csv('~/Documents/Samples_informativeness&Rejected(1).csv')"
   ],
   "metadata": {
    "collapsed": false,
    "pycharm": {
     "name": "#%%\n"
    }
   }
  },
  {
   "cell_type": "code",
   "execution_count": 16,
   "outputs": [
    {
     "data": {
      "text/plain": "<Figure size 432x288 with 1 Axes>",
      "image/png": "[encoded data removed]"
     },
     "metadata": {
      "needs_background": "light"
     },
     "output_type": "display_data"
    },
    {
     "data": {
      "text/plain": "<Figure size 432x288 with 1 Axes>",
      "image/png": "[encoded data removed]"
     },
     "metadata": {
      "needs_background": "light"
     },
     "output_type": "display_data"
    },
    {
     "data": {
      "text/plain": "<Figure size 432x288 with 1 Axes>",
      "image/png": "[encoded data removed]"
     },
     "metadata": {
      "needs_background": "light"
     },
     "output_type": "display_data"
    },
    {
     "data": {
      "text/plain": "<Figure size 432x288 with 1 Axes>",
      "image/png": "[encoded data removed]"
     },
     "metadata": {
      "needs_background": "light"
     },
     "output_type": "display_data"
    }
   ],
   "source": [
    "# print(\n",
    "#     lmd.dict_to_str(\n",
    "#         cross_subjects_informativeness_arr[-1].acc()\n",
    "#     )\n",
    "# )\n",
    "\n",
    "names = ['Transitivity', 'S metric', 'Global Efficiency', 'Eigencentrality']\n",
    "\n",
    "for name, info in zip(names, cross_subjects_informativeness_arr):\n",
    "\n",
    "    acc = dict(\n",
    "        sorted(\n",
    "            info.acc().items(),\n",
    "            key=lambda item: item[0]\n",
    "        )\n",
    "    )\n",
    "\n",
    "    plt.bar(\n",
    "        range(len(acc.keys())),\n",
    "        acc.values()\n",
    "    )\n",
    "    # plt.xticks(rotation=90)\n",
    "    plt.xticks(range(len(info.acc().keys())))\n",
    "    plt.title(f'Subjects-level prediction accuracy, {name}')\n",
    "    plt.show()\n"
   ],
   "metadata": {
    "collapsed": false,
    "pycharm": {
     "name": "#%%\n"
    }
   }
  },
  {
   "cell_type": "code",
   "execution_count": 58,
   "outputs": [
    {
     "name": "stdout",
     "output_type": "stream",
     "text": [
      "      Transitivity, acc, %  S metric, acc, %  Global Efficiency, acc, %  \\\n",
      "B1C2              0.140903          0.316120                   0.446673   \n",
      "B1R1              0.931582          0.950452                   0.981475   \n",
      "G1R1              1.000000          0.981705                   1.000000   \n",
      "G1V2              0.509396          0.499457                   0.494752   \n",
      "J1T2              0.289309          0.600242                   0.796012   \n",
      "K1V1              0.127229          0.501006                   0.502389   \n",
      "L1P1              0.908161          0.981132                   1.000000   \n",
      "L2M1              0.821042          0.949617                   0.781943   \n",
      "M1G2              0.583680          0.844151                   0.886233   \n",
      "M1N2              0.938768          0.883993                   0.976976   \n",
      "M2S2              0.728738          0.717525                   0.871956   \n",
      "N2K2              0.503739          0.500679                   0.939035   \n",
      "O1O2              0.920074          0.975939                   1.000000   \n",
      "R1D2              0.980026          0.898667                   0.958209   \n",
      "S1A2              0.274523          0.422914                   0.465051   \n",
      "S1B1              0.541589          0.548010                   0.776408   \n",
      "S1H1              0.448790          0.370852                   0.475101   \n",
      "\n",
      "      Eigencentrality, acc, %  \n",
      "B1C2                 0.497059  \n",
      "B1R1                 0.506464  \n",
      "G1R1                 0.755359  \n",
      "G1V2                 0.744507  \n",
      "J1T2                 0.476763  \n",
      "K1V1                 0.515499  \n",
      "L1P1                 0.601979  \n",
      "L2M1                 0.738360  \n",
      "M1G2                 0.692091  \n",
      "M1N2                 0.500495  \n",
      "M2S2                 0.501671  \n",
      "N2K2                 0.400039  \n",
      "O1O2                 0.519546  \n",
      "R1D2                 0.500963  \n",
      "S1A2                 0.037933  \n",
      "S1B1                 0.488949  \n",
      "S1H1                 0.828588  \n"
     ]
    }
   ],
   "source": [
    "series = list()\n",
    "names = ['Transitivity, acc, %', 'S metric, acc, %', 'Global Efficiency, acc, %', 'Eigencentrality, acc, %']\n",
    "for info in cross_subjects_informativeness_arr:\n",
    "    series.append(\n",
    "        pd.Series(\n",
    "            dict(\n",
    "                sorted(\n",
    "                    info.acc().items(),\n",
    "                    key=lambda item: item[0]\n",
    "                )\n",
    "            )\n",
    "        )\n",
    "    )\n",
    "\n",
    "\n",
    "df = pd.DataFrame(series, index=names)\n",
    "\n",
    "df = df.T\n",
    "print(df)\n",
    "df.to_csv('/home/user/Documents/Engel1&2_Subject_informativeness.csv')\n"
   ],
   "metadata": {
    "collapsed": false,
    "pycharm": {
     "name": "#%%\n"
    }
   }
  }
 ],
 "metadata": {
  "kernelspec": {
   "display_name": "Python 3",
   "language": "python",
   "name": "python3"
  },
  "language_info": {
   "codemirror_mode": {
    "name": "ipython",
    "version": 2
   },
   "file_extension": ".py",
   "mimetype": "text/x-python",
   "name": "python",
   "nbconvert_exporter": "python",
   "pygments_lexer": "ipython2",
   "version": "2.7.6"
  }
 },
 "nbformat": 4,
 "nbformat_minor": 0
}