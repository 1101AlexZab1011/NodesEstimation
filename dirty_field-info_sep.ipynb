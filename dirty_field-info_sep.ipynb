{
 "cells": [
  {
   "cell_type": "code",
   "execution_count": 1,
   "metadata": {
    "collapsed": true
   },
   "outputs": [
    {
     "name": "stderr",
     "output_type": "stream",
     "text": [
      "/home/user/PycharmProjects/NodesEstimation/venv/lib/python3.9/site-packages/nilearn/datasets/__init__.py:87: FutureWarning: Fetchers from the nilearn.datasets module will be updated in version 0.9 to return python strings instead of bytes and Pandas dataframes instead of Numpy arrays.\n",
      "  warn(\"Fetchers from the nilearn.datasets module will be \"\n"
     ]
    }
   ],
   "source": [
    "import itertools\n",
    "import operator\n",
    "import re\n",
    "from abc import *\n",
    "from copy import deepcopy\n",
    "from operator import itemgetter\n",
    "from typing import *\n",
    "import numpy as np\n",
    "import scipy as sp\n",
    "import networkx as nx\n",
    "import mne\n",
    "import time\n",
    "from sklearn import svm\n",
    "from sklearn.ensemble import RandomForestClassifier, GradientBoostingClassifier, AdaBoostClassifier\n",
    "from sklearn.neighbors._dist_metrics import DistanceMetric\n",
    "from sklearn.utils import shuffle\n",
    "from typing import List, Tuple\n",
    "from sklearn.model_selection import train_test_split\n",
    "from nodestimation.learning.estimation import collect_statistic, \\\n",
    "    compute_importance, collect_cross_statistic, make_selection_map, \\\n",
    "    select, separate_datasets, selected_statistic, choose_best, selected_data, make_feature_selection\n",
    "from nodestimation.learning.informativeness import CrossInformativeness, Informativeness, SubjectsInformativeness, \\\n",
    "    NodesInformativeness\n",
    "from nodestimation.learning.networking import sparse_graph, graph_to_hemispheres, hemispheres_division_modularity, \\\n",
    "    metric_for_hemispheres\n",
    "from nodestimation.processing.features import prepare_features\n",
    "from nodestimation.project import find_subject_dir, conditions_unique_code\n",
    "from nodestimation.pipeline import pipeline\n",
    "import pandas as pd\n",
    "import matplotlib.pyplot as plt\n",
    "from sklearn.ensemble import RandomForestClassifier\n",
    "import nibabel\n",
    "import nilearn.plotting as nplt\n",
    "from nodestimation.project.actions import read\n",
    "import nodestimation as nd\n",
    "from nodestimation.learning.modification import append_series, promote\n",
    "import nodestimation.learning.modification as lmd\n",
    "from nodestimation.project.subject import Subject\n",
    "from sklearn.preprocessing import *\n",
    "from sklearn.metrics import accuracy_score, classification_report, confusion_matrix\n",
    "from sklearn.neighbors import KNeighborsClassifier\n",
    "from sklearn.linear_model import LogisticRegression\n",
    "from sklearn.ensemble import RandomForestClassifier\n",
    "from sklearn.naive_bayes import GaussianNB\n",
    "from sklearn.discriminant_analysis import LinearDiscriminantAnalysis, QuadraticDiscriminantAnalysis\n",
    "from sklearn.feature_selection import SelectFromModel\n",
    "from sklearn.cluster import KMeans\n",
    "from sklearn.neural_network import MLPClassifier\n",
    "import seaborn as sns\n",
    "import matplotlib as mpl\n",
    "from nodestimation.learning.selection import SubjectsStatistic, Wilcoxon, Mannwhitneyu, Test\n",
    "from scipy.stats import wilcoxon\n",
    "from sklearn.ensemble import VotingClassifier\n",
    "from sklearn.model_selection import cross_val_score\n",
    "from sklearn.linear_model import SGDClassifier\n",
    "from scipy.fftpack import fftfreq, irfft, rfft\n",
    "from scipy.fftpack import fftfreq, irfft, rfft\n",
    "\n",
    "ENGEL1 = [\n",
    "    'B1C2',\n",
    "    'B1R1',\n",
    "    'G1R1',\n",
    "    'G1V2',\n",
    "    'J1T2',\n",
    "    'K1V1',\n",
    "    'L1P1',\n",
    "    'M1G2',\n",
    "    'M1N2',\n",
    "    'O1O2',\n",
    "    'R1D2',\n",
    "    'S1A2',\n",
    "    'S1B1',\n",
    "    'S1H1',\n",
    "    'S1U3'\n",
    "]\n",
    "ENGEL2 = [\n",
    "    'L2M1',\n",
    "    'M2S2',\n",
    "    'N2K2',\n",
    "    'P1H2'\n",
    "]\n",
    "ENGEL34 = [\n",
    "    'N3S2',\n",
    "    'S3R1',\n",
    "    'K4L2'\n",
    "]\n",
    "REJECTED = [\n",
    "    'S1U3',\n",
    "    'P1H2'\n",
    "]"
   ]
  },
  {
   "cell_type": "code",
   "execution_count": 2,
   "outputs": [
    {
     "name": "stdout",
     "output_type": "stream",
     "text": [
      "All computation has been already done, loading of the existing file with the solution...\n"
     ]
    }
   ],
   "source": [
    "subjects = pipeline(\n",
    "    methods=['wpli', 'envelope', 'coh', 'imcoh', 'plv', 'ciplv', 'ppc', 'pli', 'pli2_unbiased', 'wpli2_debiased'],\n",
    "    freq_bands=(4, 8),\n",
    "    centrality_metrics=['eigen', 'between', 'degree', 'info']\n",
    "    )"
   ],
   "metadata": {
    "collapsed": false,
    "pycharm": {
     "name": "#%%\n"
    }
   }
  },
  {
   "cell_type": "code",
   "execution_count": 3,
   "outputs": [
    {
     "name": "stdout",
     "output_type": "stream",
     "text": [
      "stat done\n",
      "P1H2: DONE, RUNTIME: 4.278015613555908\n",
      "M2S2: DONE, RUNTIME: 3.2098660469055176\n",
      "R1D2: DONE, RUNTIME: 3.586609125137329\n",
      "N3S2: DONE, RUNTIME: 2.902862071990967\n",
      "S1A2: DONE, RUNTIME: 2.691915273666382\n",
      "S1H1: DONE, RUNTIME: 3.773799419403076\n",
      "K1V1: DONE, RUNTIME: 3.6508560180664062\n",
      "L1P1: DONE, RUNTIME: 2.8493242263793945\n",
      "M1G2: DONE, RUNTIME: 3.563900947570801\n",
      "G1V2: DONE, RUNTIME: 2.648050308227539\n",
      "G1R1: DONE, RUNTIME: 2.6271064281463623\n",
      "M1N2: DONE, RUNTIME: 3.074068784713745\n",
      "S1B1: DONE, RUNTIME: 3.1660385131835938\n",
      "S1U3: DONE, RUNTIME: 2.7793030738830566\n",
      "B1R1: DONE, RUNTIME: 2.8466694355010986\n",
      "S3R1: DONE, RUNTIME: 3.37260103225708\n",
      "N2K2: DONE, RUNTIME: 5.245319366455078\n",
      "K4L2: DONE, RUNTIME: 3.3120837211608887\n",
      "B1C2: DONE, RUNTIME: 3.415898561477661\n",
      "J1T2: DONE, RUNTIME: 3.2452571392059326\n",
      "O1O2: DONE, RUNTIME: 3.2734224796295166\n",
      "L2M1: DONE, RUNTIME: 3.8598971366882324\n",
      "P1H2: DONE, RUNTIME: 2.041961908340454\n",
      "M2S2: DONE, RUNTIME: 1.9556760787963867\n",
      "R1D2: DONE, RUNTIME: 2.292771339416504\n",
      "N3S2: DONE, RUNTIME: 1.7845733165740967\n",
      "S1A2: DONE, RUNTIME: 1.6843531131744385\n",
      "S1H1: DONE, RUNTIME: 2.2599263191223145\n",
      "K1V1: DONE, RUNTIME: 2.1755168437957764\n",
      "L1P1: DONE, RUNTIME: 1.8177740573883057\n",
      "M1G2: DONE, RUNTIME: 2.136976957321167\n",
      "G1V2: DONE, RUNTIME: 1.6564407348632812\n",
      "G1R1: DONE, RUNTIME: 1.6501047611236572\n",
      "M1N2: DONE, RUNTIME: 1.8213245868682861\n",
      "S1B1: DONE, RUNTIME: 1.9411978721618652\n",
      "S1U3: DONE, RUNTIME: 1.7063448429107666\n",
      "B1R1: DONE, RUNTIME: 1.6503429412841797\n",
      "S3R1: DONE, RUNTIME: 2.0018248558044434\n",
      "N2K2: DONE, RUNTIME: 2.8949904441833496\n",
      "K4L2: DONE, RUNTIME: 1.9465978145599365\n",
      "B1C2: DONE, RUNTIME: 1.9840657711029053\n",
      "J1T2: DONE, RUNTIME: 1.9078080654144287\n",
      "O1O2: DONE, RUNTIME: 1.941246747970581\n",
      "L2M1: DONE, RUNTIME: 2.19460129737854\n",
      "P1H2: DONE, RUNTIME: 2.147599697113037\n",
      "M2S2: DONE, RUNTIME: 2.0928544998168945\n",
      "R1D2: DONE, RUNTIME: 2.3222177028656006\n",
      "N3S2: DONE, RUNTIME: 1.7567520141601562\n",
      "S1A2: DONE, RUNTIME: 1.7039358615875244\n",
      "S1H1: DONE, RUNTIME: 2.350689172744751\n",
      "K1V1: DONE, RUNTIME: 2.3468337059020996\n",
      "L1P1: DONE, RUNTIME: 1.8439490795135498\n",
      "M1G2: DONE, RUNTIME: 2.2303144931793213\n",
      "G1V2: DONE, RUNTIME: 1.7535252571105957\n",
      "G1R1: DONE, RUNTIME: 1.7374446392059326\n",
      "M1N2: DONE, RUNTIME: 2.0041043758392334\n",
      "S1B1: DONE, RUNTIME: 2.255777359008789\n",
      "S1U3: DONE, RUNTIME: 1.7564268112182617\n",
      "B1R1: DONE, RUNTIME: 1.736391544342041\n",
      "S3R1: DONE, RUNTIME: 2.0805342197418213\n",
      "N2K2: DONE, RUNTIME: 2.953007459640503\n",
      "K4L2: DONE, RUNTIME: 2.1867377758026123\n",
      "B1C2: DONE, RUNTIME: 2.1645309925079346\n",
      "J1T2: DONE, RUNTIME: 2.164337396621704\n",
      "O1O2: DONE, RUNTIME: 2.112753391265869\n",
      "L2M1: DONE, RUNTIME: 2.3360087871551514\n",
      "graph done\n"
     ]
    }
   ],
   "source": [
    "stat = SubjectsStatistic(subjects, 'resected', centrality_metric='eigen')\n",
    "print('stat done')\n",
    "\n",
    "DATASETS = [\n",
    "    metric_for_hemispheres(subjects, nx.algorithms.cluster.transitivity),\n",
    "    metric_for_hemispheres(subjects, nx.algorithms.smetric.s_metric, normalized=False),\n",
    "    metric_for_hemispheres(subjects, nx.algorithms.global_efficiency),\n",
    "]\n",
    "print('graph done')"
   ],
   "metadata": {
    "collapsed": false,
    "pycharm": {
     "name": "#%%\n"
    }
   }
  },
  {
   "cell_type": "code",
   "execution_count": 4,
   "outputs": [],
   "source": [
    "# Engel 1 and 2, global efficiency\n",
    "\n",
    "datasets = DATASETS.copy()\n",
    "\n",
    "\n",
    "for i in range(len(datasets)):\n",
    "    for sample in datasets[i].index:\n",
    "        subject = sample[:4]\n",
    "        if not subject in ENGEL1\\\n",
    "                and not subject in ENGEL2\\\n",
    "                or subject in REJECTED:\n",
    "            datasets[i] = datasets[i].drop(index=sample)"
   ],
   "metadata": {
    "collapsed": false,
    "pycharm": {
     "name": "#%%\n"
    }
   }
  },
  {
   "cell_type": "code",
   "execution_count": 5,
   "outputs": [],
   "source": [
    "names = ['transitivity', 's_metric', 'global_efficiency']\n",
    "cross_hemispheres_informativeness_arr = list()\n",
    "cross_subjects_informativeness_arr = list()\n",
    "\n",
    "for dataset, name in zip(datasets, names):\n",
    "    cross_hemispheres_informativeness = CrossInformativeness()\n",
    "    cross_subjects_informativeness = CrossInformativeness()\n",
    "\n",
    "    for _ in range(100):\n",
    "        hemispheres_informatoveness = Informativeness()\n",
    "        subjects_informativeness = SubjectsInformativeness()\n",
    "        acc, spec, sens, pospred, negpred = list(), list(), list(), list(), list()\n",
    "\n",
    "        for i in range(100):\n",
    "\n",
    "            y = dataset['resected'].to_numpy()\n",
    "            x = dataset[[f'{name}_for_wpli_4-8Hz', f'{name}_for_envelope_4-8Hz']].to_numpy()\n",
    "\n",
    "            scaler = StandardScaler()\n",
    "            x = scaler.fit_transform(x)\n",
    "\n",
    "            samples = [[sample] for sample in dataset.index.tolist()]\n",
    "\n",
    "            x = np.append(x, samples, axis=1)\n",
    "            x_train, x_test, y_train, y_test = train_test_split(x, y)\n",
    "            train_samples, test_samples = x_train[:, 2], x_test[:, 2]\n",
    "            x_train, x_test = x_train[:, 0:2], x_test[:, 0:2]\n",
    "\n",
    "            clf = svm.SVC()\n",
    "            clf.fit(x_train, y_train)\n",
    "            pred = clf.predict(x_test)\n",
    "\n",
    "            for predicted, actual, sample, value in zip(pred, y_test, test_samples, x_test):\n",
    "                hemispheres_informatoveness.informativeness = sample, actual, 'correct' if predicted == actual else 'wrong'\n",
    "                subjects_informativeness.informativeness = sample, actual, 'correct' if predicted == actual else 'wrong'\n",
    "\n",
    "        cross_subjects_informativeness.informativeness = subjects_informativeness\n",
    "        cross_hemispheres_informativeness.informativeness = hemispheres_informatoveness\n",
    "\n",
    "    cross_hemispheres_informativeness_arr.append(cross_hemispheres_informativeness)\n",
    "    cross_subjects_informativeness_arr.append(cross_subjects_informativeness)"
   ],
   "metadata": {
    "collapsed": false,
    "pycharm": {
     "name": "#%%\n"
    }
   }
  },
  {
   "cell_type": "code",
   "execution_count": 6,
   "outputs": [],
   "source": [
    "# Engel 1 and 2, eigencentrality\n",
    "\n",
    "cross_nodes_informativeness = CrossInformativeness()\n",
    "cross_subjects_informativeness = CrossInformativeness()\n",
    "cross_samples_informativeness = CrossInformativeness()\n",
    "\n",
    "for _ in range(100):\n",
    "    features = ['4-8Hz_wpli', '4-8Hz_envelope']\n",
    "    acc, spec, sens, pospred, negpred = list(), list(), list(), list(), list()\n",
    "\n",
    "    samples_informativeness = Informativeness()\n",
    "    nodes_informativeness = NodesInformativeness()\n",
    "    subject_informativeness = SubjectsInformativeness()\n",
    "\n",
    "    for _ in range(100):\n",
    "        clf = svm.SVC()\n",
    "        true_data = stat.datasets['true'][features]\n",
    "        false_data = stat.datasets['false_mirror'][features]\n",
    "        true_data = true_data.assign(resected=True)\n",
    "        false_data = false_data.assign(resected=False)\n",
    "        for sample in true_data.index:\n",
    "            subject = sample[:4]\n",
    "            if not subject in ENGEL1 and\\\n",
    "                not subject in ENGEL2 or\\\n",
    "                subject in REJECTED:\n",
    "                true_data = true_data.drop(index=sample)\n",
    "        for sample in false_data.index:\n",
    "            if not any([subject in sample for subject in ENGEL1]) and\\\n",
    "                    not any([subject in sample for subject in ENGEL2]) or\\\n",
    "                    any([subject in sample for subject in REJECTED]):\n",
    "                false_data = false_data.drop(index=sample)\n",
    "        dataset = pd.concat([true_data, false_data], axis=0)\n",
    "        dataset = dataset.sample(frac = 1)\n",
    "\n",
    "\n",
    "        scaler = StandardScaler()\n",
    "\n",
    "        y = dataset['resected'].to_numpy()\n",
    "        dataset = dataset.drop(['resected'], axis=1)\n",
    "        samples = [[sample] for sample in dataset.index.tolist()]\n",
    "\n",
    "        x = scaler.fit_transform(dataset)\n",
    "        x = np.append(x, samples, axis=1)\n",
    "        x_train, x_test, y_train, y_test = train_test_split(x, y)\n",
    "        train_samples, test_samples = x_train[:, 2], x_test[:, 2]\n",
    "        x_train, x_test = x_train[:, 0:2], x_test[:, 0:2]\n",
    "\n",
    "        clf.fit(x_train, y_train)\n",
    "        pred = clf.predict(x_test)\n",
    "\n",
    "        for predicted, actual, sample, value in zip(pred, y_test, test_samples, x_test):\n",
    "            nodes_informativeness.informativeness = sample, actual, 'correct' if predicted == actual else 'wrong'\n",
    "            subject_informativeness.informativeness = sample, actual, 'correct' if predicted == actual else 'wrong'\n",
    "            samples_informativeness.informativeness = sample, actual, 'correct' if predicted == actual else 'wrong'\n",
    "\n",
    "    cross_nodes_informativeness.informativeness = nodes_informativeness\n",
    "    cross_subjects_informativeness.informativeness = subject_informativeness\n",
    "    cross_samples_informativeness.informativeness = samples_informativeness\n",
    "\n",
    "cross_subjects_informativeness_arr.append(cross_subjects_informativeness)\n",
    "\n"
   ],
   "metadata": {
    "collapsed": false,
    "pycharm": {
     "name": "#%%\n"
    }
   }
  },
  {
   "cell_type": "code",
   "execution_count": 20,
   "outputs": [],
   "source": [
    "series = list()\n",
    "names = [\n",
    "        'accuracy',\n",
    "        'ppv',\n",
    "        'npv'\n",
    "    ]\n",
    "\n",
    "for data in [\n",
    "        cross_samples_informativeness.acc(),\n",
    "        cross_samples_informativeness.ppv(),\n",
    "        cross_samples_informativeness.npv()\n",
    "    ]:\n",
    "    series.append(\n",
    "        dict(\n",
    "            sorted(\n",
    "                data.items(),\n",
    "                key=lambda item: item[0]\n",
    "            )\n",
    "        )\n",
    "    )\n",
    "\n",
    "df = pd.DataFrame(\n",
    "    series,\n",
    "    index=names\n",
    ")\n",
    "df = df.T\n",
    "df.to_csv('~/Documents/Samples_informativeness&Rejected.csv')"
   ],
   "metadata": {
    "collapsed": false,
    "pycharm": {
     "name": "#%%\n"
    }
   }
  },
  {
   "cell_type": "code",
   "execution_count": 24,
   "outputs": [
    {
     "data": {
      "text/plain": "<Figure size 432x288 with 1 Axes>",
      "image/png": "[encoded data removed]"
     },
     "metadata": {
      "needs_background": "light"
     },
     "output_type": "display_data"
    },
    {
     "data": {
      "text/plain": "<Figure size 432x288 with 1 Axes>",
      "image/png": "[encoded data removed]"
     },
     "metadata": {
      "needs_background": "light"
     },
     "output_type": "display_data"
    },
    {
     "data": {
      "text/plain": "<Figure size 432x288 with 1 Axes>",
      "image/png": "[encoded data removed]"
     },
     "metadata": {
      "needs_background": "light"
     },
     "output_type": "display_data"
    },
    {
     "data": {
      "text/plain": "<Figure size 432x288 with 1 Axes>",
      "image/png": "[encoded data removed]"
     },
     "metadata": {
      "needs_background": "light"
     },
     "output_type": "display_data"
    }
   ],
   "source": [
    "# print(\n",
    "#     lmd.dict_to_str(\n",
    "#         cross_subjects_informativeness_arr[-1].acc()\n",
    "#     )\n",
    "# )\n",
    "\n",
    "names = ['Transitivity', 'S metric', 'Global Efficiency', 'Eigencentrality']\n",
    "\n",
    "for name, info in zip(names, cross_subjects_informativeness_arr):\n",
    "\n",
    "    plt.bar(\n",
    "        range(len(info.acc().keys())),\n",
    "        info.acc().values()\n",
    "    )\n",
    "    # plt.xticks(rotation=90)\n",
    "    plt.xticks(range(len(info.acc().keys())))\n",
    "    plt.title(f'Subjects-level prediction accuracy, {name}')\n",
    "    plt.show()\n"
   ],
   "metadata": {
    "collapsed": false,
    "pycharm": {
     "name": "#%%\n"
    }
   }
  },
  {
   "cell_type": "code",
   "execution_count": 58,
   "outputs": [
    {
     "name": "stdout",
     "output_type": "stream",
     "text": [
      "      Transitivity, acc, %  S metric, acc, %  Global Efficiency, acc, %  \\\n",
      "B1C2              0.140903          0.316120                   0.446673   \n",
      "B1R1              0.931582          0.950452                   0.981475   \n",
      "G1R1              1.000000          0.981705                   1.000000   \n",
      "G1V2              0.509396          0.499457                   0.494752   \n",
      "J1T2              0.289309          0.600242                   0.796012   \n",
      "K1V1              0.127229          0.501006                   0.502389   \n",
      "L1P1              0.908161          0.981132                   1.000000   \n",
      "L2M1              0.821042          0.949617                   0.781943   \n",
      "M1G2              0.583680          0.844151                   0.886233   \n",
      "M1N2              0.938768          0.883993                   0.976976   \n",
      "M2S2              0.728738          0.717525                   0.871956   \n",
      "N2K2              0.503739          0.500679                   0.939035   \n",
      "O1O2              0.920074          0.975939                   1.000000   \n",
      "R1D2              0.980026          0.898667                   0.958209   \n",
      "S1A2              0.274523          0.422914                   0.465051   \n",
      "S1B1              0.541589          0.548010                   0.776408   \n",
      "S1H1              0.448790          0.370852                   0.475101   \n",
      "\n",
      "      Eigencentrality, acc, %  \n",
      "B1C2                 0.497059  \n",
      "B1R1                 0.506464  \n",
      "G1R1                 0.755359  \n",
      "G1V2                 0.744507  \n",
      "J1T2                 0.476763  \n",
      "K1V1                 0.515499  \n",
      "L1P1                 0.601979  \n",
      "L2M1                 0.738360  \n",
      "M1G2                 0.692091  \n",
      "M1N2                 0.500495  \n",
      "M2S2                 0.501671  \n",
      "N2K2                 0.400039  \n",
      "O1O2                 0.519546  \n",
      "R1D2                 0.500963  \n",
      "S1A2                 0.037933  \n",
      "S1B1                 0.488949  \n",
      "S1H1                 0.828588  \n"
     ]
    }
   ],
   "source": [
    "series = list()\n",
    "names = ['Transitivity, acc, %', 'S metric, acc, %', 'Global Efficiency, acc, %', 'Eigencentrality, acc, %']\n",
    "for info in cross_subjects_informativeness_arr:\n",
    "    series.append(\n",
    "        pd.Series(\n",
    "            dict(\n",
    "                sorted(\n",
    "                    info.acc().items(),\n",
    "                    key=lambda item: item[0]\n",
    "                )\n",
    "            )\n",
    "        )\n",
    "    )\n",
    "\n",
    "\n",
    "df = pd.DataFrame(series, index=names)\n",
    "\n",
    "df = df.T\n",
    "print(df)\n",
    "df.to_csv('/home/user/Documents/Engel1&2_Subject_informativeness.csv')\n"
   ],
   "metadata": {
    "collapsed": false,
    "pycharm": {
     "name": "#%%\n"
    }
   }
  }
 ],
 "metadata": {
  "kernelspec": {
   "display_name": "Python 3",
   "language": "python",
   "name": "python3"
  },
  "language_info": {
   "codemirror_mode": {
    "name": "ipython",
    "version": 2
   },
   "file_extension": ".py",
   "mimetype": "text/x-python",
   "name": "python",
   "nbconvert_exporter": "python",
   "pygments_lexer": "ipython2",
   "version": "2.7.6"
  }
 },
 "nbformat": 4,
 "nbformat_minor": 0
}